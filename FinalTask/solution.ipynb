{
 "cells": [
  {
   "cell_type": "code",
   "execution_count": 1,
   "metadata": {},
   "outputs": [],
   "source": [
    "import pandas as pd\n",
    "import numpy as np\n",
    "import matplotlib.pyplot as plt\n",
    "%matplotlib inline"
   ]
  },
  {
   "cell_type": "code",
   "execution_count": 2,
   "metadata": {},
   "outputs": [],
   "source": [
    "trans = pd.read_csv('./data/transactions.csv')\n",
    "agency = pd.read_csv('./data/agency.csv')\n",
    "agents = pd.read_csv('./data/agents.csv')\n",
    "\n",
    "#将三张表连接起来\n",
    "df = pd.merge(agency, agents)\n",
    "df = pd.merge(df, trans)\n",
    "\n",
    "#人为除去无法运算的列\n",
    "df = df.drop(['Name','FirstName','LastName'], axis = 1)\n",
    "\n",
    "#重命名列\n",
    "df.rename(columns = {'X1 transaction date': 'X1','X2 house age': 'X2','X3 distance to the nearest MRT station': 'X3','X4 number of convenience stores': 'X4','X5 latitude': 'X5','X6 longitude': 'X6','Y house price of unit area':'Y'}, inplace=True)"
   ]
  },
  {
   "cell_type": "code",
   "execution_count": 3,
   "metadata": {},
   "outputs": [
    {
     "data": {
      "text/html": [
       "<div>\n",
       "<style scoped>\n",
       "    .dataframe tbody tr th:only-of-type {\n",
       "        vertical-align: middle;\n",
       "    }\n",
       "\n",
       "    .dataframe tbody tr th {\n",
       "        vertical-align: top;\n",
       "    }\n",
       "\n",
       "    .dataframe thead th {\n",
       "        text-align: right;\n",
       "    }\n",
       "</style>\n",
       "<table border=\"1\" class=\"dataframe\">\n",
       "  <thead>\n",
       "    <tr style=\"text-align: right;\">\n",
       "      <th></th>\n",
       "      <th>AgencyId</th>\n",
       "      <th>AgentId</th>\n",
       "      <th>X1</th>\n",
       "      <th>X2</th>\n",
       "      <th>X3</th>\n",
       "      <th>X4</th>\n",
       "      <th>X5</th>\n",
       "      <th>X6</th>\n",
       "      <th>Y</th>\n",
       "    </tr>\n",
       "  </thead>\n",
       "  <tbody>\n",
       "    <tr>\n",
       "      <th>0</th>\n",
       "      <td>0</td>\n",
       "      <td>0</td>\n",
       "      <td>2012.667</td>\n",
       "      <td>20.4</td>\n",
       "      <td>2469.64500</td>\n",
       "      <td>4</td>\n",
       "      <td>24.96108</td>\n",
       "      <td>121.51046</td>\n",
       "      <td>23.8</td>\n",
       "    </tr>\n",
       "    <tr>\n",
       "      <th>1</th>\n",
       "      <td>0</td>\n",
       "      <td>0</td>\n",
       "      <td>2013.167</td>\n",
       "      <td>16.2</td>\n",
       "      <td>289.32480</td>\n",
       "      <td>5</td>\n",
       "      <td>24.98203</td>\n",
       "      <td>121.54348</td>\n",
       "      <td>46.2</td>\n",
       "    </tr>\n",
       "    <tr>\n",
       "      <th>2</th>\n",
       "      <td>0</td>\n",
       "      <td>0</td>\n",
       "      <td>2012.667</td>\n",
       "      <td>29.4</td>\n",
       "      <td>4510.35900</td>\n",
       "      <td>1</td>\n",
       "      <td>24.94925</td>\n",
       "      <td>121.49542</td>\n",
       "      <td>13.2</td>\n",
       "    </tr>\n",
       "    <tr>\n",
       "      <th>3</th>\n",
       "      <td>0</td>\n",
       "      <td>0</td>\n",
       "      <td>2012.833</td>\n",
       "      <td>31.7</td>\n",
       "      <td>1160.63200</td>\n",
       "      <td>0</td>\n",
       "      <td>24.94968</td>\n",
       "      <td>121.53009</td>\n",
       "      <td>13.7</td>\n",
       "    </tr>\n",
       "    <tr>\n",
       "      <th>4</th>\n",
       "      <td>0</td>\n",
       "      <td>0</td>\n",
       "      <td>2013.583</td>\n",
       "      <td>6.6</td>\n",
       "      <td>90.45606</td>\n",
       "      <td>9</td>\n",
       "      <td>24.97433</td>\n",
       "      <td>121.54310</td>\n",
       "      <td>59.0</td>\n",
       "    </tr>\n",
       "    <tr>\n",
       "      <th>...</th>\n",
       "      <td>...</td>\n",
       "      <td>...</td>\n",
       "      <td>...</td>\n",
       "      <td>...</td>\n",
       "      <td>...</td>\n",
       "      <td>...</td>\n",
       "      <td>...</td>\n",
       "      <td>...</td>\n",
       "      <td>...</td>\n",
       "    </tr>\n",
       "    <tr>\n",
       "      <th>409</th>\n",
       "      <td>2</td>\n",
       "      <td>4</td>\n",
       "      <td>2012.667</td>\n",
       "      <td>37.1</td>\n",
       "      <td>918.63570</td>\n",
       "      <td>1</td>\n",
       "      <td>24.97198</td>\n",
       "      <td>121.55063</td>\n",
       "      <td>31.9</td>\n",
       "    </tr>\n",
       "    <tr>\n",
       "      <th>410</th>\n",
       "      <td>2</td>\n",
       "      <td>4</td>\n",
       "      <td>2013.417</td>\n",
       "      <td>14.7</td>\n",
       "      <td>1717.19300</td>\n",
       "      <td>2</td>\n",
       "      <td>24.96447</td>\n",
       "      <td>121.51649</td>\n",
       "      <td>23.0</td>\n",
       "    </tr>\n",
       "    <tr>\n",
       "      <th>411</th>\n",
       "      <td>2</td>\n",
       "      <td>4</td>\n",
       "      <td>2013.000</td>\n",
       "      <td>5.2</td>\n",
       "      <td>2408.99300</td>\n",
       "      <td>0</td>\n",
       "      <td>24.95505</td>\n",
       "      <td>121.55964</td>\n",
       "      <td>22.3</td>\n",
       "    </tr>\n",
       "    <tr>\n",
       "      <th>412</th>\n",
       "      <td>2</td>\n",
       "      <td>4</td>\n",
       "      <td>2012.667</td>\n",
       "      <td>5.6</td>\n",
       "      <td>90.45606</td>\n",
       "      <td>9</td>\n",
       "      <td>24.97433</td>\n",
       "      <td>121.54310</td>\n",
       "      <td>50.0</td>\n",
       "    </tr>\n",
       "    <tr>\n",
       "      <th>413</th>\n",
       "      <td>2</td>\n",
       "      <td>4</td>\n",
       "      <td>2013.000</td>\n",
       "      <td>8.1</td>\n",
       "      <td>104.81010</td>\n",
       "      <td>5</td>\n",
       "      <td>24.96674</td>\n",
       "      <td>121.54067</td>\n",
       "      <td>52.5</td>\n",
       "    </tr>\n",
       "  </tbody>\n",
       "</table>\n",
       "<p>408 rows × 9 columns</p>\n",
       "</div>"
      ],
      "text/plain": [
       "     AgencyId  AgentId        X1    X2          X3  X4        X5         X6  \\\n",
       "0           0        0  2012.667  20.4  2469.64500   4  24.96108  121.51046   \n",
       "1           0        0  2013.167  16.2   289.32480   5  24.98203  121.54348   \n",
       "2           0        0  2012.667  29.4  4510.35900   1  24.94925  121.49542   \n",
       "3           0        0  2012.833  31.7  1160.63200   0  24.94968  121.53009   \n",
       "4           0        0  2013.583   6.6    90.45606   9  24.97433  121.54310   \n",
       "..        ...      ...       ...   ...         ...  ..       ...        ...   \n",
       "409         2        4  2012.667  37.1   918.63570   1  24.97198  121.55063   \n",
       "410         2        4  2013.417  14.7  1717.19300   2  24.96447  121.51649   \n",
       "411         2        4  2013.000   5.2  2408.99300   0  24.95505  121.55964   \n",
       "412         2        4  2012.667   5.6    90.45606   9  24.97433  121.54310   \n",
       "413         2        4  2013.000   8.1   104.81010   5  24.96674  121.54067   \n",
       "\n",
       "        Y  \n",
       "0    23.8  \n",
       "1    46.2  \n",
       "2    13.2  \n",
       "3    13.7  \n",
       "4    59.0  \n",
       "..    ...  \n",
       "409  31.9  \n",
       "410  23.0  \n",
       "411  22.3  \n",
       "412  50.0  \n",
       "413  52.5  \n",
       "\n",
       "[408 rows x 9 columns]"
      ]
     },
     "execution_count": 3,
     "metadata": {},
     "output_type": "execute_result"
    }
   ],
   "source": [
    "#剔除异常值函数\n",
    "# def outliers_removed(x):\n",
    "mean, std = df.mean(), df.std()\n",
    "cut_off = std * 3\n",
    "lower, upper = mean - cut_off, mean + cut_off\n",
    "\n",
    "df = df[(df['X1'] > lower['X1']) & (df['X1'] < upper['X1'])]\n",
    "df = df[(df['X2'] > lower['X2']) & (df['X2'] < upper['X2'])]\n",
    "df = df[(df['X3'] > lower['X3']) & (df['X3'] < upper['X3'])]\n",
    "df = df[(df['X4'] > lower['X4']) & (df['X4'] < upper['X4'])]\n",
    "df = df[(df['X5'] > lower['X5']) & (df['X5'] < upper['X5'])]\n",
    "df = df[(df['X6'] > lower['X6']) & (df['X6'] < upper['X6'])]\n",
    "df = df[(df['AgencyId'] > lower['AgencyId']) & (df['AgencyId'] < upper['AgencyId'])]\n",
    "df = df[(df['AgentId'] > lower['AgentId']) & (df['AgentId'] < upper['AgentId'])]\n",
    "df"
   ]
  },
  {
   "cell_type": "code",
   "execution_count": 4,
   "metadata": {},
   "outputs": [
    {
     "data": {
      "text/html": [
       "<div>\n",
       "<style scoped>\n",
       "    .dataframe tbody tr th:only-of-type {\n",
       "        vertical-align: middle;\n",
       "    }\n",
       "\n",
       "    .dataframe tbody tr th {\n",
       "        vertical-align: top;\n",
       "    }\n",
       "\n",
       "    .dataframe thead th {\n",
       "        text-align: right;\n",
       "    }\n",
       "</style>\n",
       "<table border=\"1\" class=\"dataframe\">\n",
       "  <thead>\n",
       "    <tr style=\"text-align: right;\">\n",
       "      <th></th>\n",
       "      <th>X1</th>\n",
       "      <th>X2</th>\n",
       "      <th>X3</th>\n",
       "      <th>X4</th>\n",
       "      <th>X5</th>\n",
       "      <th>X6</th>\n",
       "      <th>Y</th>\n",
       "      <th>X7</th>\n",
       "      <th>AgencyId_0</th>\n",
       "      <th>AgencyId_1</th>\n",
       "      <th>AgencyId_2</th>\n",
       "      <th>AgentId_0</th>\n",
       "      <th>AgentId_1</th>\n",
       "      <th>AgentId_2</th>\n",
       "      <th>AgentId_3</th>\n",
       "      <th>AgentId_4</th>\n",
       "      <th>AgentId_5</th>\n",
       "    </tr>\n",
       "  </thead>\n",
       "  <tbody>\n",
       "    <tr>\n",
       "      <th>0</th>\n",
       "      <td>2012.667</td>\n",
       "      <td>20.4</td>\n",
       "      <td>2469.64500</td>\n",
       "      <td>4</td>\n",
       "      <td>24.96108</td>\n",
       "      <td>121.51046</td>\n",
       "      <td>23.8</td>\n",
       "      <td>0.028065</td>\n",
       "      <td>1</td>\n",
       "      <td>0</td>\n",
       "      <td>0</td>\n",
       "      <td>1</td>\n",
       "      <td>0</td>\n",
       "      <td>0</td>\n",
       "      <td>0</td>\n",
       "      <td>0</td>\n",
       "      <td>0</td>\n",
       "    </tr>\n",
       "    <tr>\n",
       "      <th>1</th>\n",
       "      <td>2013.167</td>\n",
       "      <td>16.2</td>\n",
       "      <td>289.32480</td>\n",
       "      <td>5</td>\n",
       "      <td>24.98203</td>\n",
       "      <td>121.54348</td>\n",
       "      <td>46.2</td>\n",
       "      <td>0.012641</td>\n",
       "      <td>1</td>\n",
       "      <td>0</td>\n",
       "      <td>0</td>\n",
       "      <td>1</td>\n",
       "      <td>0</td>\n",
       "      <td>0</td>\n",
       "      <td>0</td>\n",
       "      <td>0</td>\n",
       "      <td>0</td>\n",
       "    </tr>\n",
       "    <tr>\n",
       "      <th>2</th>\n",
       "      <td>2012.667</td>\n",
       "      <td>29.4</td>\n",
       "      <td>4510.35900</td>\n",
       "      <td>1</td>\n",
       "      <td>24.94925</td>\n",
       "      <td>121.49542</td>\n",
       "      <td>13.2</td>\n",
       "      <td>0.046732</td>\n",
       "      <td>1</td>\n",
       "      <td>0</td>\n",
       "      <td>0</td>\n",
       "      <td>1</td>\n",
       "      <td>0</td>\n",
       "      <td>0</td>\n",
       "      <td>0</td>\n",
       "      <td>0</td>\n",
       "      <td>0</td>\n",
       "    </tr>\n",
       "    <tr>\n",
       "      <th>3</th>\n",
       "      <td>2012.833</td>\n",
       "      <td>31.7</td>\n",
       "      <td>1160.63200</td>\n",
       "      <td>0</td>\n",
       "      <td>24.94968</td>\n",
       "      <td>121.53009</td>\n",
       "      <td>13.7</td>\n",
       "      <td>0.022723</td>\n",
       "      <td>1</td>\n",
       "      <td>0</td>\n",
       "      <td>0</td>\n",
       "      <td>1</td>\n",
       "      <td>0</td>\n",
       "      <td>0</td>\n",
       "      <td>0</td>\n",
       "      <td>0</td>\n",
       "      <td>0</td>\n",
       "    </tr>\n",
       "    <tr>\n",
       "      <th>4</th>\n",
       "      <td>2013.583</td>\n",
       "      <td>6.6</td>\n",
       "      <td>90.45606</td>\n",
       "      <td>9</td>\n",
       "      <td>24.97433</td>\n",
       "      <td>121.54310</td>\n",
       "      <td>59.0</td>\n",
       "      <td>0.007164</td>\n",
       "      <td>1</td>\n",
       "      <td>0</td>\n",
       "      <td>0</td>\n",
       "      <td>1</td>\n",
       "      <td>0</td>\n",
       "      <td>0</td>\n",
       "      <td>0</td>\n",
       "      <td>0</td>\n",
       "      <td>0</td>\n",
       "    </tr>\n",
       "  </tbody>\n",
       "</table>\n",
       "</div>"
      ],
      "text/plain": [
       "         X1    X2          X3  X4        X5         X6     Y        X7  \\\n",
       "0  2012.667  20.4  2469.64500   4  24.96108  121.51046  23.8  0.028065   \n",
       "1  2013.167  16.2   289.32480   5  24.98203  121.54348  46.2  0.012641   \n",
       "2  2012.667  29.4  4510.35900   1  24.94925  121.49542  13.2  0.046732   \n",
       "3  2012.833  31.7  1160.63200   0  24.94968  121.53009  13.7  0.022723   \n",
       "4  2013.583   6.6    90.45606   9  24.97433  121.54310  59.0  0.007164   \n",
       "\n",
       "   AgencyId_0  AgencyId_1  AgencyId_2  AgentId_0  AgentId_1  AgentId_2  \\\n",
       "0           1           0           0          1          0          0   \n",
       "1           1           0           0          1          0          0   \n",
       "2           1           0           0          1          0          0   \n",
       "3           1           0           0          1          0          0   \n",
       "4           1           0           0          1          0          0   \n",
       "\n",
       "   AgentId_3  AgentId_4  AgentId_5  \n",
       "0          0          0          0  \n",
       "1          0          0          0  \n",
       "2          0          0          0  \n",
       "3          0          0          0  \n",
       "4          0          0          0  "
      ]
     },
     "execution_count": 4,
     "metadata": {},
     "output_type": "execute_result"
    }
   ],
   "source": [
    "#确定市中心，添加新的距离属性\n",
    "center_x = sum(df['X5'] * df['Y']) / df['Y'].sum()\n",
    "center_y = sum(df['X6'] * df['Y']) / df['Y'].sum()\n",
    "df['X7'] = ((df['X5']-center_x)**2+(df['X6']-center_y)**2)**0.5\n",
    "\n",
    "#对两个Id列进行one-hot处理\n",
    "df = pd.get_dummies(df, columns=['AgencyId','AgentId']) \n",
    "\n",
    "df.head()"
   ]
  },
  {
   "cell_type": "code",
   "execution_count": 5,
   "metadata": {},
   "outputs": [
    {
     "data": {
      "image/png": "[encoded data removed]",
      "text/plain": [
       "<Figure size 432x288 with 1 Axes>"
      ]
     },
     "metadata": {
      "needs_background": "light"
     },
     "output_type": "display_data"
    }
   ],
   "source": [
    "plt.scatter(df['X1'], df['Y']);"
   ]
  },
  {
   "cell_type": "code",
   "execution_count": 6,
   "metadata": {},
   "outputs": [
    {
     "data": {
      "image/png": "[encoded data removed]",
      "text/plain": [
       "<Figure size 432x288 with 1 Axes>"
      ]
     },
     "metadata": {
      "needs_background": "light"
     },
     "output_type": "display_data"
    }
   ],
   "source": [
    "plt.scatter(df['X2'], df['Y']);"
   ]
  },
  {
   "cell_type": "code",
   "execution_count": 7,
   "metadata": {},
   "outputs": [
    {
     "data": {
      "image/png": "[encoded data removed]",
      "text/plain": [
       "<Figure size 432x288 with 1 Axes>"
      ]
     },
     "metadata": {
      "needs_background": "light"
     },
     "output_type": "display_data"
    }
   ],
   "source": [
    "plt.scatter(df['X3'], df['Y']);"
   ]
  },
  {
   "cell_type": "code",
   "execution_count": 8,
   "metadata": {},
   "outputs": [
    {
     "data": {
      "image/png": "[encoded data removed]",
      "text/plain": [
       "<Figure size 432x288 with 1 Axes>"
      ]
     },
     "metadata": {
      "needs_background": "light"
     },
     "output_type": "display_data"
    }
   ],
   "source": [
    "plt.scatter(df['X4'], df['Y']);"
   ]
  },
  {
   "cell_type": "code",
   "execution_count": 9,
   "metadata": {},
   "outputs": [
    {
     "data": {
      "image/png": "[encoded data removed]",
      "text/plain": [
       "<Figure size 432x288 with 2 Axes>"
      ]
     },
     "metadata": {
      "needs_background": "light"
     },
     "output_type": "display_data"
    }
   ],
   "source": [
    "df.plot(kind='scatter',x='X5',y='X6',alpha=1,s=df['Y'], c='Y', label='price', colormap='Blues',colorbar=True)\n",
    "plt.legend();"
   ]
  },
  {
   "cell_type": "code",
   "execution_count": 10,
   "metadata": {},
   "outputs": [
    {
     "name": "stderr",
     "output_type": "stream",
     "text": [
      "<frozen importlib._bootstrap>:228: RuntimeWarning: scipy._lib.messagestream.MessageStream size changed, may indicate binary incompatibility. Expected 56 from C header, got 64 from PyObject\n"
     ]
    },
    {
     "ename": "KeyboardInterrupt",
     "evalue": "",
     "output_type": "error",
     "traceback": [
      "\u001b[1;31m---------------------------------------------------------------------------\u001b[0m",
      "\u001b[1;31mKeyboardInterrupt\u001b[0m                         Traceback (most recent call last)",
      "\u001b[1;32me:\\卷卷卷卷卷\\专业课\\建筑信息管理\\FinalTask\\solution.ipynb Cell 10'\u001b[0m in \u001b[0;36m<cell line: 17>\u001b[1;34m()\u001b[0m\n\u001b[0;32m      <a href='vscode-notebook-cell:/e%3A/%E5%8D%B7%E5%8D%B7%E5%8D%B7%E5%8D%B7%E5%8D%B7/%E4%B8%93%E4%B8%9A%E8%AF%BE/%E5%BB%BA%E7%AD%91%E4%BF%A1%E6%81%AF%E7%AE%A1%E7%90%86/FinalTask/solution.ipynb#ch0000009?line=4'>5</a>\u001b[0m \u001b[39mdef\u001b[39;00m \u001b[39mmagnify\u001b[39m():\n\u001b[0;32m      <a href='vscode-notebook-cell:/e%3A/%E5%8D%B7%E5%8D%B7%E5%8D%B7%E5%8D%B7%E5%8D%B7/%E4%B8%93%E4%B8%9A%E8%AF%BE/%E5%BB%BA%E7%AD%91%E4%BF%A1%E6%81%AF%E7%AE%A1%E7%90%86/FinalTask/solution.ipynb#ch0000009?line=5'>6</a>\u001b[0m     \u001b[39mreturn\u001b[39;00m [\u001b[39mdict\u001b[39m(selector\u001b[39m=\u001b[39m\u001b[39m\"\u001b[39m\u001b[39mth\u001b[39m\u001b[39m\"\u001b[39m,\n\u001b[0;32m      <a href='vscode-notebook-cell:/e%3A/%E5%8D%B7%E5%8D%B7%E5%8D%B7%E5%8D%B7%E5%8D%B7/%E4%B8%93%E4%B8%9A%E8%AF%BE/%E5%BB%BA%E7%AD%91%E4%BF%A1%E6%81%AF%E7%AE%A1%E7%90%86/FinalTask/solution.ipynb#ch0000009?line=6'>7</a>\u001b[0m                  props\u001b[39m=\u001b[39m[(\u001b[39m\"\u001b[39m\u001b[39mfont-size\u001b[39m\u001b[39m\"\u001b[39m, \u001b[39m\"\u001b[39m\u001b[39m7pt\u001b[39m\u001b[39m\"\u001b[39m)]),\n\u001b[0;32m      <a href='vscode-notebook-cell:/e%3A/%E5%8D%B7%E5%8D%B7%E5%8D%B7%E5%8D%B7%E5%8D%B7/%E4%B8%93%E4%B8%9A%E8%AF%BE/%E5%BB%BA%E7%AD%91%E4%BF%A1%E6%81%AF%E7%AE%A1%E7%90%86/FinalTask/solution.ipynb#ch0000009?line=7'>8</a>\u001b[0m             \u001b[39mdict\u001b[39m(selector\u001b[39m=\u001b[39m\u001b[39m\"\u001b[39m\u001b[39mtd\u001b[39m\u001b[39m\"\u001b[39m,\n\u001b[1;32m   (...)\u001b[0m\n\u001b[0;32m     <a href='vscode-notebook-cell:/e%3A/%E5%8D%B7%E5%8D%B7%E5%8D%B7%E5%8D%B7%E5%8D%B7/%E4%B8%93%E4%B8%9A%E8%AF%BE/%E5%BB%BA%E7%AD%91%E4%BF%A1%E6%81%AF%E7%AE%A1%E7%90%86/FinalTask/solution.ipynb#ch0000009?line=13'>14</a>\u001b[0m                         (\u001b[39m'\u001b[39m\u001b[39mfont-size\u001b[39m\u001b[39m'\u001b[39m, \u001b[39m'\u001b[39m\u001b[39m12pt\u001b[39m\u001b[39m'\u001b[39m)])\n\u001b[0;32m     <a href='vscode-notebook-cell:/e%3A/%E5%8D%B7%E5%8D%B7%E5%8D%B7%E5%8D%B7%E5%8D%B7/%E4%B8%93%E4%B8%9A%E8%AF%BE/%E5%BB%BA%E7%AD%91%E4%BF%A1%E6%81%AF%E7%AE%A1%E7%90%86/FinalTask/solution.ipynb#ch0000009?line=14'>15</a>\u001b[0m ]\n\u001b[1;32m---> <a href='vscode-notebook-cell:/e%3A/%E5%8D%B7%E5%8D%B7%E5%8D%B7%E5%8D%B7%E5%8D%B7/%E4%B8%93%E4%B8%9A%E8%AF%BE/%E5%BB%BA%E7%AD%91%E4%BF%A1%E6%81%AF%E7%AE%A1%E7%90%86/FinalTask/solution.ipynb#ch0000009?line=16'>17</a>\u001b[0m corr\u001b[39m.\u001b[39;49mstyle\u001b[39m.\u001b[39;49mbackground_gradient(cmap, axis\u001b[39m=\u001b[39;49m\u001b[39m1\u001b[39;49m)\\\n\u001b[0;32m     <a href='vscode-notebook-cell:/e%3A/%E5%8D%B7%E5%8D%B7%E5%8D%B7%E5%8D%B7%E5%8D%B7/%E4%B8%93%E4%B8%9A%E8%AF%BE/%E5%BB%BA%E7%AD%91%E4%BF%A1%E6%81%AF%E7%AE%A1%E7%90%86/FinalTask/solution.ipynb#ch0000009?line=17'>18</a>\u001b[0m     \u001b[39m.\u001b[39;49mset_properties(\u001b[39m*\u001b[39;49m\u001b[39m*\u001b[39;49m{\u001b[39m'\u001b[39;49m\u001b[39mmax-width\u001b[39;49m\u001b[39m'\u001b[39;49m: \u001b[39m'\u001b[39;49m\u001b[39m80px\u001b[39;49m\u001b[39m'\u001b[39;49m, \u001b[39m'\u001b[39;49m\u001b[39mfont-size\u001b[39;49m\u001b[39m'\u001b[39;49m: \u001b[39m'\u001b[39;49m\u001b[39m10pt\u001b[39;49m\u001b[39m'\u001b[39;49m})\\\n\u001b[0;32m     <a href='vscode-notebook-cell:/e%3A/%E5%8D%B7%E5%8D%B7%E5%8D%B7%E5%8D%B7%E5%8D%B7/%E4%B8%93%E4%B8%9A%E8%AF%BE/%E5%BB%BA%E7%AD%91%E4%BF%A1%E6%81%AF%E7%AE%A1%E7%90%86/FinalTask/solution.ipynb#ch0000009?line=18'>19</a>\u001b[0m     \u001b[39m.\u001b[39;49mset_caption(\u001b[39m\"\u001b[39;49m\u001b[39mAnalyse\u001b[39;49m\u001b[39m\"\u001b[39;49m)\\\n\u001b[0;32m     <a href='vscode-notebook-cell:/e%3A/%E5%8D%B7%E5%8D%B7%E5%8D%B7%E5%8D%B7%E5%8D%B7/%E4%B8%93%E4%B8%9A%E8%AF%BE/%E5%BB%BA%E7%AD%91%E4%BF%A1%E6%81%AF%E7%AE%A1%E7%90%86/FinalTask/solution.ipynb#ch0000009?line=19'>20</a>\u001b[0m     \u001b[39m.\u001b[39;49mset_precision(\u001b[39m2\u001b[39;49m)\\\n\u001b[0;32m     <a href='vscode-notebook-cell:/e%3A/%E5%8D%B7%E5%8D%B7%E5%8D%B7%E5%8D%B7%E5%8D%B7/%E4%B8%93%E4%B8%9A%E8%AF%BE/%E5%BB%BA%E7%AD%91%E4%BF%A1%E6%81%AF%E7%AE%A1%E7%90%86/FinalTask/solution.ipynb#ch0000009?line=20'>21</a>\u001b[0m     \u001b[39m.\u001b[39mset_table_styles(magnify())\n",
      "File \u001b[1;32mg:\\Anaconda\\envs\\bigData\\lib\\site-packages\\pandas\\io\\formats\\style.py:1870\u001b[0m, in \u001b[0;36mStyler.set_precision\u001b[1;34m(self, precision)\u001b[0m\n\u001b[0;32m   1849\u001b[0m \u001b[39mdef\u001b[39;00m \u001b[39mset_precision\u001b[39m(\u001b[39mself\u001b[39m, precision: \u001b[39mint\u001b[39m) \u001b[39m-\u001b[39m\u001b[39m>\u001b[39m StylerRenderer:\n\u001b[0;32m   1850\u001b[0m     \u001b[39m\"\"\"\u001b[39;00m\n\u001b[0;32m   1851\u001b[0m \u001b[39m    Set the precision used to display values.\u001b[39;00m\n\u001b[0;32m   1852\u001b[0m \n\u001b[1;32m   (...)\u001b[0m\n\u001b[0;32m   1865\u001b[0m \u001b[39m    This method is deprecated see `Styler.format`.\u001b[39;00m\n\u001b[0;32m   1866\u001b[0m \u001b[39m    \"\"\"\u001b[39;00m\n\u001b[0;32m   1867\u001b[0m     warnings\u001b[39m.\u001b[39mwarn(\n\u001b[0;32m   1868\u001b[0m         \u001b[39m\"\u001b[39m\u001b[39mthis method is deprecated in favour of `Styler.format(precision=..)`\u001b[39m\u001b[39m\"\u001b[39m,\n\u001b[0;32m   1869\u001b[0m         \u001b[39mFutureWarning\u001b[39;00m,\n\u001b[1;32m-> 1870\u001b[0m         stacklevel\u001b[39m=\u001b[39mfind_stack_level(),\n\u001b[0;32m   1871\u001b[0m     )\n\u001b[0;32m   1872\u001b[0m     \u001b[39mself\u001b[39m\u001b[39m.\u001b[39mprecision \u001b[39m=\u001b[39m precision\n\u001b[0;32m   1873\u001b[0m     \u001b[39mreturn\u001b[39;00m \u001b[39mself\u001b[39m\u001b[39m.\u001b[39mformat(precision\u001b[39m=\u001b[39mprecision, na_rep\u001b[39m=\u001b[39m\u001b[39mself\u001b[39m\u001b[39m.\u001b[39mna_rep)\n",
      "File \u001b[1;32mg:\\Anaconda\\envs\\bigData\\lib\\site-packages\\pandas\\util\\_exceptions.py:32\u001b[0m, in \u001b[0;36mfind_stack_level\u001b[1;34m()\u001b[0m\n\u001b[0;32m     27\u001b[0m \u001b[39mdef\u001b[39;00m \u001b[39mfind_stack_level\u001b[39m() \u001b[39m-\u001b[39m\u001b[39m>\u001b[39m \u001b[39mint\u001b[39m:\n\u001b[0;32m     28\u001b[0m     \u001b[39m\"\"\"\u001b[39;00m\n\u001b[0;32m     29\u001b[0m \u001b[39m    Find the first place in the stack that is not inside pandas\u001b[39;00m\n\u001b[0;32m     30\u001b[0m \u001b[39m    (tests notwithstanding).\u001b[39;00m\n\u001b[0;32m     31\u001b[0m \u001b[39m    \"\"\"\u001b[39;00m\n\u001b[1;32m---> 32\u001b[0m     stack \u001b[39m=\u001b[39m inspect\u001b[39m.\u001b[39;49mstack()\n\u001b[0;32m     34\u001b[0m     \u001b[39mimport\u001b[39;00m \u001b[39mpandas\u001b[39;00m \u001b[39mas\u001b[39;00m \u001b[39mpd\u001b[39;00m\n\u001b[0;32m     36\u001b[0m     pkg_dir \u001b[39m=\u001b[39m os\u001b[39m.\u001b[39mpath\u001b[39m.\u001b[39mdirname(pd\u001b[39m.\u001b[39m\u001b[39m__file__\u001b[39m)\n",
      "File \u001b[1;32mg:\\Anaconda\\envs\\bigData\\lib\\inspect.py:1552\u001b[0m, in \u001b[0;36mstack\u001b[1;34m(context)\u001b[0m\n\u001b[0;32m   1550\u001b[0m \u001b[39mdef\u001b[39;00m \u001b[39mstack\u001b[39m(context\u001b[39m=\u001b[39m\u001b[39m1\u001b[39m):\n\u001b[0;32m   1551\u001b[0m     \u001b[39m\"\"\"Return a list of records for the stack above the caller's frame.\"\"\"\u001b[39;00m\n\u001b[1;32m-> 1552\u001b[0m     \u001b[39mreturn\u001b[39;00m getouterframes(sys\u001b[39m.\u001b[39;49m_getframe(\u001b[39m1\u001b[39;49m), context)\n",
      "File \u001b[1;32mg:\\Anaconda\\envs\\bigData\\lib\\inspect.py:1529\u001b[0m, in \u001b[0;36mgetouterframes\u001b[1;34m(frame, context)\u001b[0m\n\u001b[0;32m   1527\u001b[0m framelist \u001b[39m=\u001b[39m []\n\u001b[0;32m   1528\u001b[0m \u001b[39mwhile\u001b[39;00m frame:\n\u001b[1;32m-> 1529\u001b[0m     frameinfo \u001b[39m=\u001b[39m (frame,) \u001b[39m+\u001b[39m getframeinfo(frame, context)\n\u001b[0;32m   1530\u001b[0m     framelist\u001b[39m.\u001b[39mappend(FrameInfo(\u001b[39m*\u001b[39mframeinfo))\n\u001b[0;32m   1531\u001b[0m     frame \u001b[39m=\u001b[39m frame\u001b[39m.\u001b[39mf_back\n",
      "File \u001b[1;32mg:\\Anaconda\\envs\\bigData\\lib\\inspect.py:1503\u001b[0m, in \u001b[0;36mgetframeinfo\u001b[1;34m(frame, context)\u001b[0m\n\u001b[0;32m   1501\u001b[0m start \u001b[39m=\u001b[39m lineno \u001b[39m-\u001b[39m \u001b[39m1\u001b[39m \u001b[39m-\u001b[39m context\u001b[39m/\u001b[39m\u001b[39m/\u001b[39m\u001b[39m2\u001b[39m\n\u001b[0;32m   1502\u001b[0m \u001b[39mtry\u001b[39;00m:\n\u001b[1;32m-> 1503\u001b[0m     lines, lnum \u001b[39m=\u001b[39m findsource(frame)\n\u001b[0;32m   1504\u001b[0m \u001b[39mexcept\u001b[39;00m \u001b[39mOSError\u001b[39;00m:\n\u001b[0;32m   1505\u001b[0m     lines \u001b[39m=\u001b[39m index \u001b[39m=\u001b[39m \u001b[39mNone\u001b[39;00m\n",
      "File \u001b[1;32mg:\\Anaconda\\envs\\bigData\\lib\\inspect.py:829\u001b[0m, in \u001b[0;36mfindsource\u001b[1;34m(object)\u001b[0m\n\u001b[0;32m    826\u001b[0m     \u001b[39mif\u001b[39;00m \u001b[39mnot\u001b[39;00m (file\u001b[39m.\u001b[39mstartswith(\u001b[39m'\u001b[39m\u001b[39m<\u001b[39m\u001b[39m'\u001b[39m) \u001b[39mand\u001b[39;00m file\u001b[39m.\u001b[39mendswith(\u001b[39m'\u001b[39m\u001b[39m>\u001b[39m\u001b[39m'\u001b[39m)):\n\u001b[0;32m    827\u001b[0m         \u001b[39mraise\u001b[39;00m \u001b[39mOSError\u001b[39;00m(\u001b[39m'\u001b[39m\u001b[39msource code not available\u001b[39m\u001b[39m'\u001b[39m)\n\u001b[1;32m--> 829\u001b[0m module \u001b[39m=\u001b[39m getmodule(\u001b[39mobject\u001b[39;49m, file)\n\u001b[0;32m    830\u001b[0m \u001b[39mif\u001b[39;00m module:\n\u001b[0;32m    831\u001b[0m     lines \u001b[39m=\u001b[39m linecache\u001b[39m.\u001b[39mgetlines(file, module\u001b[39m.\u001b[39m\u001b[39m__dict__\u001b[39m)\n",
      "File \u001b[1;32mg:\\Anaconda\\envs\\bigData\\lib\\inspect.py:755\u001b[0m, in \u001b[0;36mgetmodule\u001b[1;34m(object, _filename)\u001b[0m\n\u001b[0;32m    752\u001b[0m         f \u001b[39m=\u001b[39m getabsfile(module)\n\u001b[0;32m    753\u001b[0m         \u001b[39m# Always map to the name the module knows itself by\u001b[39;00m\n\u001b[0;32m    754\u001b[0m         modulesbyfile[f] \u001b[39m=\u001b[39m modulesbyfile[\n\u001b[1;32m--> 755\u001b[0m             os\u001b[39m.\u001b[39;49mpath\u001b[39m.\u001b[39;49mrealpath(f)] \u001b[39m=\u001b[39m module\u001b[39m.\u001b[39m\u001b[39m__name__\u001b[39m\n\u001b[0;32m    756\u001b[0m \u001b[39mif\u001b[39;00m file \u001b[39min\u001b[39;00m modulesbyfile:\n\u001b[0;32m    757\u001b[0m     \u001b[39mreturn\u001b[39;00m sys\u001b[39m.\u001b[39mmodules\u001b[39m.\u001b[39mget(modulesbyfile[file])\n",
      "File \u001b[1;32mg:\\Anaconda\\envs\\bigData\\lib\\ntpath.py:647\u001b[0m, in \u001b[0;36mrealpath\u001b[1;34m(path)\u001b[0m\n\u001b[0;32m    645\u001b[0m     path \u001b[39m=\u001b[39m join(cwd, path)\n\u001b[0;32m    646\u001b[0m \u001b[39mtry\u001b[39;00m:\n\u001b[1;32m--> 647\u001b[0m     path \u001b[39m=\u001b[39m _getfinalpathname(path)\n\u001b[0;32m    648\u001b[0m     initial_winerror \u001b[39m=\u001b[39m \u001b[39m0\u001b[39m\n\u001b[0;32m    649\u001b[0m \u001b[39mexcept\u001b[39;00m \u001b[39mOSError\u001b[39;00m \u001b[39mas\u001b[39;00m ex:\n",
      "\u001b[1;31mKeyboardInterrupt\u001b[0m: "
     ]
    }
   ],
   "source": [
    "import seaborn as sns\n",
    "corr = df.corr()\n",
    "cmap = cmap=sns.diverging_palette(5, 250, as_cmap=True)\n",
    "\n",
    "def magnify():\n",
    "    return [dict(selector=\"th\",\n",
    "                 props=[(\"font-size\", \"7pt\")]),\n",
    "            dict(selector=\"td\",\n",
    "                 props=[('padding', \"0em 0em\")]),\n",
    "            dict(selector=\"th:hover\",\n",
    "                 props=[(\"font-size\", \"12pt\")]),\n",
    "            dict(selector=\"tr:hover td:hover\",\n",
    "                 props=[('max-width', '200px'),\n",
    "                        ('font-size', '12pt')])\n",
    "]\n",
    "\n",
    "corr.style.background_gradient(cmap, axis=1)\\\n",
    "    .set_properties(**{'max-width': '80px', 'font-size': '10pt'})\\\n",
    "    .set_caption(\"Analyse\")\\\n",
    "    .set_precision(2)\\\n",
    "    .set_table_styles(magnify())"
   ]
  },
  {
   "cell_type": "code",
   "execution_count": null,
   "metadata": {
    "scrolled": true
   },
   "outputs": [
    {
     "name": "stdout",
     "output_type": "stream",
     "text": [
      "X train shape: (306, 3)\n",
      "X test shape: (102, 3)\n",
      "y train shape: (306,)\n",
      "y test shape: (102,)\n"
     ]
    },
    {
     "data": {
      "text/html": [
       "<div>\n",
       "<style scoped>\n",
       "    .dataframe tbody tr th:only-of-type {\n",
       "        vertical-align: middle;\n",
       "    }\n",
       "\n",
       "    .dataframe tbody tr th {\n",
       "        vertical-align: top;\n",
       "    }\n",
       "\n",
       "    .dataframe thead th {\n",
       "        text-align: right;\n",
       "    }\n",
       "</style>\n",
       "<table border=\"1\" class=\"dataframe\">\n",
       "  <thead>\n",
       "    <tr style=\"text-align: right;\">\n",
       "      <th></th>\n",
       "      <th>X3</th>\n",
       "      <th>X4</th>\n",
       "      <th>X7</th>\n",
       "    </tr>\n",
       "  </thead>\n",
       "  <tbody>\n",
       "    <tr>\n",
       "      <th>0</th>\n",
       "      <td>2469.64500</td>\n",
       "      <td>4</td>\n",
       "      <td>0.028065</td>\n",
       "    </tr>\n",
       "    <tr>\n",
       "      <th>1</th>\n",
       "      <td>289.32480</td>\n",
       "      <td>5</td>\n",
       "      <td>0.012641</td>\n",
       "    </tr>\n",
       "    <tr>\n",
       "      <th>2</th>\n",
       "      <td>4510.35900</td>\n",
       "      <td>1</td>\n",
       "      <td>0.046732</td>\n",
       "    </tr>\n",
       "    <tr>\n",
       "      <th>3</th>\n",
       "      <td>1160.63200</td>\n",
       "      <td>0</td>\n",
       "      <td>0.022723</td>\n",
       "    </tr>\n",
       "    <tr>\n",
       "      <th>4</th>\n",
       "      <td>90.45606</td>\n",
       "      <td>9</td>\n",
       "      <td>0.007164</td>\n",
       "    </tr>\n",
       "  </tbody>\n",
       "</table>\n",
       "</div>"
      ],
      "text/plain": [
       "           X3  X4        X7\n",
       "0  2469.64500   4  0.028065\n",
       "1   289.32480   5  0.012641\n",
       "2  4510.35900   1  0.046732\n",
       "3  1160.63200   0  0.022723\n",
       "4    90.45606   9  0.007164"
      ]
     },
     "execution_count": 400,
     "metadata": {},
     "output_type": "execute_result"
    }
   ],
   "source": [
    "from sklearn.model_selection import train_test_split\n",
    "\n",
    "X = df[['X3','X4','X7']].copy()\n",
    "y = df['Y']\n",
    "\n",
    "X_train, X_test, y_train, y_test = train_test_split(\n",
    "    X, y, test_size=0.25, random_state=1)\n",
    "\n",
    "print('X train shape:', X_train.shape)\n",
    "print('X test shape:', X_test.shape)\n",
    "print('y train shape:', y_train.shape)\n",
    "print('y test shape:', y_test.shape)\n",
    "X.head()"
   ]
  },
  {
   "cell_type": "code",
   "execution_count": null,
   "metadata": {},
   "outputs": [
    {
     "data": {
      "text/plain": [
       "0    23.8\n",
       "1    46.2\n",
       "2    13.2\n",
       "3    13.7\n",
       "4    59.0\n",
       "Name: Y, dtype: float64"
      ]
     },
     "execution_count": 401,
     "metadata": {},
     "output_type": "execute_result"
    }
   ],
   "source": [
    "y.head()"
   ]
  },
  {
   "cell_type": "code",
   "execution_count": null,
   "metadata": {},
   "outputs": [
    {
     "data": {
      "text/html": [
       "<div>\n",
       "<style scoped>\n",
       "    .dataframe tbody tr th:only-of-type {\n",
       "        vertical-align: middle;\n",
       "    }\n",
       "\n",
       "    .dataframe tbody tr th {\n",
       "        vertical-align: top;\n",
       "    }\n",
       "\n",
       "    .dataframe thead th {\n",
       "        text-align: right;\n",
       "    }\n",
       "</style>\n",
       "<table border=\"1\" class=\"dataframe\">\n",
       "  <thead>\n",
       "    <tr style=\"text-align: right;\">\n",
       "      <th></th>\n",
       "      <th>X3</th>\n",
       "      <th>X4</th>\n",
       "      <th>X7</th>\n",
       "    </tr>\n",
       "  </thead>\n",
       "  <tbody>\n",
       "    <tr>\n",
       "      <th>0</th>\n",
       "      <td>0.533843</td>\n",
       "      <td>0.4</td>\n",
       "      <td>0.581111</td>\n",
       "    </tr>\n",
       "    <tr>\n",
       "      <th>1</th>\n",
       "      <td>0.058036</td>\n",
       "      <td>0.5</td>\n",
       "      <td>0.250637</td>\n",
       "    </tr>\n",
       "    <tr>\n",
       "      <th>2</th>\n",
       "      <td>0.979183</td>\n",
       "      <td>0.1</td>\n",
       "      <td>0.981051</td>\n",
       "    </tr>\n",
       "    <tr>\n",
       "      <th>3</th>\n",
       "      <td>0.248179</td>\n",
       "      <td>0.0</td>\n",
       "      <td>0.466641</td>\n",
       "    </tr>\n",
       "    <tr>\n",
       "      <th>4</th>\n",
       "      <td>0.014637</td>\n",
       "      <td>0.9</td>\n",
       "      <td>0.133301</td>\n",
       "    </tr>\n",
       "  </tbody>\n",
       "</table>\n",
       "</div>"
      ],
      "text/plain": [
       "         X3   X4        X7\n",
       "0  0.533843  0.4  0.581111\n",
       "1  0.058036  0.5  0.250637\n",
       "2  0.979183  0.1  0.981051\n",
       "3  0.248179  0.0  0.466641\n",
       "4  0.014637  0.9  0.133301"
      ]
     },
     "execution_count": 402,
     "metadata": {},
     "output_type": "execute_result"
    }
   ],
   "source": [
    "#每列归一化处理\n",
    "X['X3'] = (X['X3']-X['X3'].min())/(X['X3'].max()-X['X3'].min())\n",
    "X['X4'] = (X['X4']-X['X4'].min())/(X['X4'].max()-X['X4'].min())\n",
    "X['X7'] = (X['X7']-X['X7'].min())/(X['X7'].max()-X['X7'].min())\n",
    "X.head()"
   ]
  },
  {
   "cell_type": "code",
   "execution_count": null,
   "metadata": {},
   "outputs": [],
   "source": [
    "def print_mae_train(model, X, y):\n",
    "    pred = model.predict(X)\n",
    "    error = np.mean(np.abs(y-pred))\n",
    "    print(\"MAE error for train set: {:.1f}\".format(error))\n",
    "def print_mae_test(model, X, y):\n",
    "    pred = model.predict(X)\n",
    "    error = np.mean(np.abs(y-pred))\n",
    "    print(\"MAE error for test set: {:.1f}\".format(error))\n",
    "\n",
    "def print_mape_train(model, X, y):\n",
    "    pred = model.predict(X)\n",
    "    error = np.mean(100 * np.abs((y-pred) / y))\n",
    "    print(\"MAPE error for train set: {:.1f}%\".format(error))\n",
    "def print_mape_test(model, X, y):\n",
    "    pred = model.predict(X)\n",
    "    error = np.mean(100 * np.abs((y-pred) / y))\n",
    "    print(\"MAPE error for test set: {:.1f}%\".format(error))"
   ]
  },
  {
   "cell_type": "code",
   "execution_count": null,
   "metadata": {},
   "outputs": [
    {
     "name": "stdout",
     "output_type": "stream",
     "text": [
      "MAE error for train set: 7.2\n",
      "MAE error for test set: 6.4\n",
      "MAPE error for train set: 20.4%\n",
      "MAPE error for test set: 21.5%\n",
      "Train set accuracy: 0.504394673584891\n",
      "Test set accuracy: 0.4111634296762771\n"
     ]
    }
   ],
   "source": [
    "from sklearn.linear_model import LinearRegression\n",
    "model = LinearRegression()\n",
    "model.fit(X_train, y_train)\n",
    "\n",
    "print_mae_train(model, X_train, y_train)\n",
    "print_mae_test(model, X_test, y_test)\n",
    "print_mape_train(model, X_train, y_train)\n",
    "print_mape_test(model, X_test, y_test)\n",
    "print(\"Train set accuracy:\", model.score(X_train, y_train))\n",
    "print(\"Test set accuracy:\", model.score(X_test, y_test))\n"
   ]
  },
  {
   "cell_type": "code",
   "execution_count": null,
   "metadata": {},
   "outputs": [
    {
     "name": "stdout",
     "output_type": "stream",
     "text": [
      "MAE error for train set: 5.6\n",
      "MAE error for test set: 5.1\n",
      "MAPE error for train set: 15.7%\n",
      "MAPE error for test set: 17.7%\n",
      "Train set accuracy: 0.68382256569239\n",
      "Test set accuracy: 0.5379159441672992\n"
     ]
    }
   ],
   "source": [
    "from sklearn.ensemble import RandomForestRegressor\n",
    "model = RandomForestRegressor(min_samples_leaf=13)\n",
    "model.fit(X_train,y_train)\n",
    "\n",
    "print_mae_train(model, X_train, y_train)\n",
    "print_mae_test(model, X_test, y_test)\n",
    "print_mape_train(model, X_train, y_train)\n",
    "print_mape_test(model, X_test, y_test)\n",
    "print(\"Train set accuracy:\", model.score(X_train, y_train))\n",
    "print(\"Test set accuracy:\", model.score(X_test, y_test))"
   ]
  }
 ],
 "metadata": {
  "kernelspec": {
   "display_name": "Python 3.9.1 ('bigData')",
   "language": "python",
   "name": "python3"
  },
  "language_info": {
   "codemirror_mode": {
    "name": "ipython",
    "version": 3
   },
   "file_extension": ".py",
   "mimetype": "text/x-python",
   "name": "python",
   "nbconvert_exporter": "python",
   "pygments_lexer": "ipython3",
   "version": "3.9.1"
  },
  "vscode": {
   "interpreter": {
    "hash": "5188fc7f5a863a94b7ad8b130db2848115a26f3a222c460e66d88c653032b464"
   }
  }
 },
 "nbformat": 4,
 "nbformat_minor": 2
}

{
 "cells": [
  {
   "cell_type": "markdown",
   "metadata": {},
   "source": [
    "<center>\n",
    "<h1>Python - Charts (basics)</h1>\n"
   ]
  },
  {
   "cell_type": "code",
   "execution_count": null,
   "metadata": {},
   "outputs": [],
   "source": []
  },
  {
   "cell_type": "markdown",
   "metadata": {},
   "source": [
    "## Load dataset"
   ]
  },
  {
   "cell_type": "code",
   "execution_count": null,
   "metadata": {},
   "outputs": [],
   "source": []
  },
  {
   "cell_type": "markdown",
   "metadata": {},
   "source": [
    "## Linear plot"
   ]
  },
  {
   "cell_type": "code",
   "execution_count": null,
   "metadata": {},
   "outputs": [],
   "source": []
  },
  {
   "cell_type": "code",
   "execution_count": null,
   "metadata": {},
   "outputs": [],
   "source": []
  },
  {
   "cell_type": "code",
   "execution_count": null,
   "metadata": {},
   "outputs": [],
   "source": []
  },
  {
   "cell_type": "code",
   "execution_count": null,
   "metadata": {},
   "outputs": [],
   "source": []
  },
  {
   "cell_type": "code",
   "execution_count": null,
   "metadata": {},
   "outputs": [],
   "source": []
  },
  {
   "cell_type": "code",
   "execution_count": null,
   "metadata": {},
   "outputs": [],
   "source": []
  },
  {
   "cell_type": "markdown",
   "metadata": {},
   "source": [
    "## Scatter Plot"
   ]
  },
  {
   "cell_type": "code",
   "execution_count": null,
   "metadata": {},
   "outputs": [],
   "source": []
  },
  {
   "cell_type": "code",
   "execution_count": null,
   "metadata": {},
   "outputs": [],
   "source": []
  },
  {
   "cell_type": "code",
   "execution_count": null,
   "metadata": {},
   "outputs": [],
   "source": []
  },
  {
   "cell_type": "markdown",
   "metadata": {},
   "source": [
    "### Task 1\n",
    "Add to the chart:\n",
    "- title: `Scatterplot - Example`\n",
    "- X axis label: `Axis X`\n",
    "- Y axis label: `Axis Y`"
   ]
  },
  {
   "cell_type": "code",
   "execution_count": null,
   "metadata": {},
   "outputs": [],
   "source": [
    "# Enter your code here\n"
   ]
  },
  {
   "cell_type": "markdown",
   "metadata": {},
   "source": [
    "## Bar Plots "
   ]
  },
  {
   "cell_type": "code",
   "execution_count": null,
   "metadata": {},
   "outputs": [],
   "source": []
  },
  {
   "cell_type": "code",
   "execution_count": null,
   "metadata": {},
   "outputs": [],
   "source": []
  },
  {
   "cell_type": "code",
   "execution_count": null,
   "metadata": {},
   "outputs": [],
   "source": []
  },
  {
   "cell_type": "markdown",
   "metadata": {},
   "source": [
    "#### Improving chart (1)\n",
    "Add title, axes' description and ticks"
   ]
  },
  {
   "cell_type": "code",
   "execution_count": null,
   "metadata": {},
   "outputs": [],
   "source": []
  },
  {
   "cell_type": "markdown",
   "metadata": {},
   "source": [
    "## More improvements\n",
    "**General rule 1 - the simpler, the better**\n",
    "\n",
    "**General rule  - information should be easy to read**"
   ]
  },
  {
   "cell_type": "markdown",
   "metadata": {},
   "source": [
    "#### Improving chart (2)\n",
    "Delete all ticks from axes, and number of schools from y axis.\n",
    "\n",
    "*Note: Numbers at y axis are to vague, so we are deleting it. We will replace it later with something easier to read*"
   ]
  },
  {
   "cell_type": "code",
   "execution_count": null,
   "metadata": {},
   "outputs": [],
   "source": [
    "plt.figure()\n",
    "plt.bar(pos, values, align='center')\n",
    "\n",
    "#Adding title and axes decsription\n",
    "plt.title('CO2 emissions (metric tons per capita)')\n",
    "plt.ylabel('Emission')\n",
    "plt.xticks(pos, x_labels, rotation = 45)\n",
    "plt.subplots_adjust(bottom=0.2)\n",
    "\n",
    "#Remove ticks from axes\n",
    "plt.tick_params(top=False, bottom=False, left=False, right=False, labelleft=False, labelbottom=True)"
   ]
  },
  {
   "cell_type": "markdown",
   "metadata": {},
   "source": [
    "Remove all the axes (borders) from the chart"
   ]
  },
  {
   "cell_type": "code",
   "execution_count": null,
   "metadata": {},
   "outputs": [],
   "source": [
    "plt.figure()\n",
    "plt.bar(pos, values, align='center')\n",
    "\n",
    "#Adding title and axes decsription\n",
    "plt.title('CO2 emissions (metric tons per capita)')\n",
    "plt.ylabel('Emission')\n",
    "plt.xticks(pos, x_labels, rotation = 45)\n",
    "plt.subplots_adjust(bottom=0.2)\n",
    "\n",
    "#Remove ticks from axes\n",
    "plt.tick_params(top=False, bottom=False, left=False, right=False, labelleft=False, labelbottom=True)\n",
    "\n",
    "#Remove borders\n",
    "for spine in plt.gca().spines.values():\n",
    "    spine.set_visible(False)"
   ]
  },
  {
   "cell_type": "markdown",
   "metadata": {},
   "source": [
    "#### Improving chart (4)\n",
    "Change bar colors to gray. Mark China bar blue"
   ]
  },
  {
   "cell_type": "code",
   "execution_count": null,
   "metadata": {},
   "outputs": [],
   "source": [
    "plt.figure()\n",
    "bars = plt.bar(pos, values, align='center', color='lightslategrey')\n",
    "\n",
    "# China bar with different color\n",
    "bars[3].set_color('#1F77B4')\n",
    "\n",
    "#Adding title and axes decsription\n",
    "plt.title('CO2 emissions (metric tons per capita)')\n",
    "plt.ylabel('Emission')\n",
    "plt.xticks(pos, x_labels, rotation = 45)\n",
    "plt.subplots_adjust(bottom=0.2)\n",
    "\n",
    "#Remove ticks from axes\n",
    "plt.tick_params(top=False, bottom=False, left=False, right=False, labelleft=False, labelbottom=True)\n",
    "\n",
    "#Remove borders\n",
    "for spine in plt.gca().spines.values():\n",
    "    spine.set_visible(False)"
   ]
  },
  {
   "cell_type": "markdown",
   "metadata": {},
   "source": [
    "#### Improving chart (5)\n",
    "Improving text\n",
    "<li>Delete text from y axis - we do not need it\n",
    "<li>Make text less contrasting (set alpha channel)"
   ]
  },
  {
   "cell_type": "code",
   "execution_count": null,
   "metadata": {},
   "outputs": [],
   "source": [
    "plt.figure()\n",
    "bars = plt.bar(pos, values, align='center', color='lightslategrey')\n",
    "\n",
    "# China bar with different color\n",
    "bars[3].set_color('#1F77B4')\n",
    "\n",
    "#Adding title and axes decsription\n",
    "plt.title('CO2 emissions (metric tons per capita)', alpha=0.8)\n",
    "#plt.ylabel('Emission')\n",
    "plt.xticks(pos, x_labels, rotation = 45, alpha=0.8)\n",
    "plt.subplots_adjust(bottom=0.2)\n",
    "\n",
    "#Remove ticks from axes\n",
    "plt.tick_params(top=False, bottom=False, left=False, right=False, labelleft=False, labelbottom=True)\n",
    "\n",
    "#Remove borders\n",
    "for spine in plt.gca().spines.values():\n",
    "    spine.set_visible(False)"
   ]
  },
  {
   "cell_type": "markdown",
   "metadata": {},
   "source": [
    "#### Improving chart (6)\n",
    "Add numbers on each bar"
   ]
  },
  {
   "cell_type": "code",
   "execution_count": null,
   "metadata": {},
   "outputs": [],
   "source": [
    "plt.figure()\n",
    "bars = plt.bar(pos, values, align='center', color='lightslategrey')\n",
    "\n",
    "# China bar with different color\n",
    "bars[3].set_color('#1F77B4')\n",
    "\n",
    "#Adding title and axes decsription\n",
    "plt.title('CO2 emissions (metric tons per capita)', alpha=0.8)\n",
    "#plt.ylabel('Emission')\n",
    "plt.xticks(pos, x_labels, rotation = 45, alpha=0.8)\n",
    "plt.subplots_adjust(bottom=0.2)\n",
    "\n",
    "#Remove ticks from axes\n",
    "plt.tick_params(top=False, bottom=False, left=False, right=False, labelleft=False, labelbottom=True)\n",
    "\n",
    "#Remove borders\n",
    "for spine in plt.gca().spines.values():\n",
    "    spine.set_visible(False)\n",
    "\n",
    "# direct label each bar with Y axis values\n",
    "height_shift = max(values) * 0.05\n",
    "for bar in bars:\n",
    "    disp_val = str(round(bar.get_height(), 1))\n",
    "    plt.gca().text(bar.get_x() + bar.get_width()/2, bar.get_height() - height_shift, disp_val, \n",
    "                 ha='center', color='w', fontsize=10)"
   ]
  },
  {
   "cell_type": "code",
   "execution_count": null,
   "metadata": {},
   "outputs": [],
   "source": [
    "from IPython.display import Image\n",
    "Image(\"TwoCharts.jpg\")"
   ]
  },
  {
   "cell_type": "markdown",
   "metadata": {},
   "source": [
    "# Do not cheat!\n",
    "Two examples of cheating\n",
    "- select data\n",
    "- change axes limits"
   ]
  },
  {
   "cell_type": "markdown",
   "metadata": {},
   "source": [
    "### Cheating - version 1\n",
    "Let's present China as a high-emitting country by selecting countries carefully"
   ]
  },
  {
   "cell_type": "code",
   "execution_count": null,
   "metadata": {},
   "outputs": [],
   "source": []
  },
  {
   "cell_type": "code",
   "execution_count": null,
   "metadata": {},
   "outputs": [],
   "source": []
  },
  {
   "cell_type": "code",
   "execution_count": null,
   "metadata": {},
   "outputs": [],
   "source": []
  },
  {
   "cell_type": "markdown",
   "metadata": {},
   "source": [
    "### Cheating 2\n",
    "Let's compare China with European Union"
   ]
  },
  {
   "cell_type": "code",
   "execution_count": null,
   "metadata": {},
   "outputs": [],
   "source": []
  },
  {
   "cell_type": "code",
   "execution_count": null,
   "metadata": {},
   "outputs": [],
   "source": []
  },
  {
   "cell_type": "code",
   "execution_count": null,
   "metadata": {},
   "outputs": [],
   "source": []
  },
  {
   "cell_type": "markdown",
   "metadata": {},
   "source": [
    "## Task 2\n",
    "Display the chart that presents relative change of $CO_2$ emission per capita, between 1960 and 2010. Use the countries from `co2` dataframe."
   ]
  },
  {
   "cell_type": "code",
   "execution_count": null,
   "metadata": {},
   "outputs": [],
   "source": []
  },
  {
   "cell_type": "code",
   "execution_count": null,
   "metadata": {},
   "outputs": [],
   "source": []
  },
  {
   "cell_type": "code",
   "execution_count": null,
   "metadata": {},
   "outputs": [],
   "source": []
  },
  {
   "cell_type": "code",
   "execution_count": null,
   "metadata": {},
   "outputs": [],
   "source": []
  }
 ],
 "metadata": {
  "kernelspec": {
   "display_name": "Python 3",
   "language": "python",
   "name": "python3"
  },
  "language_info": {
   "codemirror_mode": {
    "name": "ipython",
    "version": 3
   },
   "file_extension": ".py",
   "mimetype": "text/x-python",
   "name": "python",
   "nbconvert_exporter": "python",
   "pygments_lexer": "ipython3",
   "version": "3.7.6"
  }
 },
 "nbformat": 4,
 "nbformat_minor": 4
}

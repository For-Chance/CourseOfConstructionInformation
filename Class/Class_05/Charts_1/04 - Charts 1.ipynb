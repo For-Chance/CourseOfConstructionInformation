{
 "cells": [
  {
   "cell_type": "markdown",
   "metadata": {},
   "source": [
    "<center>\n",
    "<h1>Python - Charts (basics)</h1>\n"
   ]
  },
  {
   "cell_type": "code",
   "execution_count": null,
   "metadata": {},
   "outputs": [],
   "source": [
    "import pandas as pd\n",
    "\n",
    "%matplotlib notebook\n",
    "import matplotlib.pyplot as plt"
   ]
  },
  {
   "cell_type": "markdown",
   "metadata": {},
   "source": [
    "# Load dataset"
   ]
  },
  {
   "cell_type": "code",
   "execution_count": null,
   "metadata": {},
   "outputs": [],
   "source": [
    "co2 = pd.read_csv('CO2_selected.csv')\n",
    "co2"
   ]
  },
  {
   "cell_type": "markdown",
   "metadata": {},
   "source": [
    "## Linear plot"
   ]
  },
  {
   "cell_type": "code",
   "execution_count": null,
   "metadata": {},
   "outputs": [],
   "source": [
    "plt.figure()\n",
    "plt.plot(co2['1960'])"
   ]
  },
  {
   "cell_type": "code",
   "execution_count": null,
   "metadata": {},
   "outputs": [],
   "source": [
    "plt.plot(co2['2010'])"
   ]
  },
  {
   "cell_type": "code",
   "execution_count": null,
   "metadata": {},
   "outputs": [],
   "source": [
    "plt.title('CO2 emissions (metric tons per capita)')\n",
    "plt.xlabel('Country')\n",
    "plt.ylabel('emission')"
   ]
  },
  {
   "cell_type": "code",
   "execution_count": null,
   "metadata": {},
   "outputs": [],
   "source": [
    "plt.legend(['1960', '2010'])"
   ]
  },
  {
   "cell_type": "code",
   "execution_count": null,
   "metadata": {},
   "outputs": [],
   "source": [
    "plt.xticks(co2.index, co2['Country Name'], rotation='vertical')"
   ]
  },
  {
   "cell_type": "code",
   "execution_count": null,
   "metadata": {},
   "outputs": [],
   "source": [
    "plt.subplots_adjust(bottom=0.3)"
   ]
  },
  {
   "cell_type": "markdown",
   "metadata": {},
   "source": [
    "## Scatter Plot"
   ]
  },
  {
   "cell_type": "code",
   "execution_count": null,
   "metadata": {},
   "outputs": [],
   "source": [
    "import numpy as np\n",
    "\n",
    "x = np.arange(1, 9)\n",
    "y = x**2\n",
    "print(x)\n",
    "print(y)"
   ]
  },
  {
   "cell_type": "code",
   "execution_count": null,
   "metadata": {},
   "outputs": [],
   "source": [
    "plt.figure()\n",
    "plt.scatter(x, y)"
   ]
  },
  {
   "cell_type": "code",
   "execution_count": null,
   "metadata": {},
   "outputs": [],
   "source": [
    "plt.scatter(x, x, marker='^')"
   ]
  },
  {
   "cell_type": "markdown",
   "metadata": {},
   "source": [
    "### Task 1\n",
    "Add to the chart:\n",
    "- title: `Scatterplot - Example`\n",
    "- X axis label: `Axis X`\n",
    "- Y axis label: `Axis Y`"
   ]
  },
  {
   "cell_type": "code",
   "execution_count": null,
   "metadata": {},
   "outputs": [],
   "source": [
    "# Enter your code here\n"
   ]
  },
  {
   "cell_type": "markdown",
   "metadata": {},
   "source": [
    "## Bar Plots "
   ]
  },
  {
   "cell_type": "code",
   "execution_count": null,
   "metadata": {},
   "outputs": [],
   "source": [
    "co2"
   ]
  },
  {
   "cell_type": "code",
   "execution_count": null,
   "metadata": {},
   "outputs": [],
   "source": [
    "x_labels = co2['Country Name']\n",
    "old_names = ['European Union', 'United States']\n",
    "new_names = ['EU', 'USA']\n",
    "x_labels = x_labels.replace(old_names, new_names)\n",
    "pos = np.arange(len(x_labels))\n",
    "values = co2['2010']\n",
    "\n",
    "print ('x_labels', list(x_labels))\n",
    "print ('pos', pos)\n",
    "print ('values', list(values))"
   ]
  },
  {
   "cell_type": "code",
   "execution_count": null,
   "metadata": {},
   "outputs": [],
   "source": [
    "plt.figure()\n",
    "plt.bar(pos, values, align='center')"
   ]
  },
  {
   "cell_type": "markdown",
   "metadata": {},
   "source": [
    "#### Improving chart (1)\n",
    "Add title, axes' description and ticks"
   ]
  },
  {
   "cell_type": "code",
   "execution_count": null,
   "metadata": {},
   "outputs": [],
   "source": [
    "plt.figure()\n",
    "plt.bar(pos, values, align='center')\n",
    "\n",
    "#Adding title and axes decsription\n",
    "plt.title('CO2 emissions (metric tons per capita)')\n",
    "plt.ylabel('Emission')\n",
    "plt.xticks(pos, x_labels, rotation = 45)\n",
    "plt.subplots_adjust(bottom=0.2)"
   ]
  },
  {
   "cell_type": "markdown",
   "metadata": {},
   "source": [
    "## More improvements\n",
    "**General rule 1 - the simpler, the better**\n",
    "\n",
    "**General rule  - information should be easy to read**"
   ]
  },
  {
   "cell_type": "markdown",
   "metadata": {},
   "source": [
    "#### Improving chart (2)\n",
    "Delete all ticks from axes, and number of schools from y axis.\n",
    "\n",
    "*Note: Numbers at y axis are to vague, so we are deleting it. We will replace it later with something easier to read*"
   ]
  },
  {
   "cell_type": "code",
   "execution_count": null,
   "metadata": {},
   "outputs": [],
   "source": [
    "plt.figure()\n",
    "plt.bar(pos, values, align='center')\n",
    "\n",
    "#Adding title and axes decsription\n",
    "plt.title('CO2 emissions (metric tons per capita)')\n",
    "plt.ylabel('Emission')\n",
    "plt.xticks(pos, x_labels, rotation = 45)\n",
    "plt.subplots_adjust(bottom=0.2)\n",
    "\n",
    "#Remove ticks from axes\n",
    "plt.tick_params(top=False, bottom=False, left=False, right=False, labelleft=False, labelbottom=True)"
   ]
  },
  {
   "cell_type": "markdown",
   "metadata": {},
   "source": [
    "Remove all the axes (borders) from the chart"
   ]
  },
  {
   "cell_type": "code",
   "execution_count": null,
   "metadata": {},
   "outputs": [],
   "source": [
    "plt.figure()\n",
    "plt.bar(pos, values, align='center')\n",
    "\n",
    "#Adding title and axes decsription\n",
    "plt.title('CO2 emissions (metric tons per capita)')\n",
    "plt.ylabel('Emission')\n",
    "plt.xticks(pos, x_labels, rotation = 45)\n",
    "plt.subplots_adjust(bottom=0.2)\n",
    "\n",
    "#Remove ticks from axes\n",
    "plt.tick_params(top=False, bottom=False, left=False, right=False, labelleft=False, labelbottom=True)\n",
    "\n",
    "#Remove borders\n",
    "for spine in plt.gca().spines.values():\n",
    "    spine.set_visible(False)"
   ]
  },
  {
   "cell_type": "markdown",
   "metadata": {},
   "source": [
    "#### Improving chart (4)\n",
    "Change bar colors to gray. Mark China bar blue"
   ]
  },
  {
   "cell_type": "code",
   "execution_count": null,
   "metadata": {},
   "outputs": [],
   "source": [
    "plt.figure()\n",
    "bars = plt.bar(pos, values, align='center', color='lightslategrey')\n",
    "\n",
    "# China bar with different color\n",
    "bars[3].set_color('#1F77B4')\n",
    "\n",
    "#Adding title and axes decsription\n",
    "plt.title('CO2 emissions (metric tons per capita)')\n",
    "plt.ylabel('Emission')\n",
    "plt.xticks(pos, x_labels, rotation = 45)\n",
    "plt.subplots_adjust(bottom=0.2)\n",
    "\n",
    "#Remove ticks from axes\n",
    "plt.tick_params(top=False, bottom=False, left=False, right=False, labelleft=False, labelbottom=True)\n",
    "\n",
    "#Remove borders\n",
    "for spine in plt.gca().spines.values():\n",
    "    spine.set_visible(False)"
   ]
  },
  {
   "cell_type": "markdown",
   "metadata": {},
   "source": [
    "#### Improving chart (5)\n",
    "Improving text\n",
    "<li>Delete text from y axis - we do not need it\n",
    "<li>Make text less contrasting (set alpha channel)"
   ]
  },
  {
   "cell_type": "code",
   "execution_count": null,
   "metadata": {},
   "outputs": [],
   "source": [
    "plt.figure()\n",
    "bars = plt.bar(pos, values, align='center', color='lightslategrey')\n",
    "\n",
    "# China bar with different color\n",
    "bars[3].set_color('#1F77B4')\n",
    "\n",
    "#Adding title and axes decsription\n",
    "plt.title('CO2 emissions (metric tons per capita)', alpha=0.8)\n",
    "#plt.ylabel('Emission')\n",
    "plt.xticks(pos, x_labels, rotation = 45, alpha=0.8)\n",
    "plt.subplots_adjust(bottom=0.2)\n",
    "\n",
    "#Remove ticks from axes\n",
    "plt.tick_params(top=False, bottom=False, left=False, right=False, labelleft=False, labelbottom=True)\n",
    "\n",
    "#Remove borders\n",
    "for spine in plt.gca().spines.values():\n",
    "    spine.set_visible(False)"
   ]
  },
  {
   "cell_type": "markdown",
   "metadata": {},
   "source": [
    "#### Improving chart (6)\n",
    "Add numbers on each bar"
   ]
  },
  {
   "cell_type": "code",
   "execution_count": null,
   "metadata": {},
   "outputs": [],
   "source": [
    "plt.figure()\n",
    "bars = plt.bar(pos, values, align='center', color='lightslategrey')\n",
    "\n",
    "# China bar with different color\n",
    "bars[3].set_color('#1F77B4')\n",
    "\n",
    "#Adding title and axes decsription\n",
    "plt.title('CO2 emissions (metric tons per capita)', alpha=0.8)\n",
    "#plt.ylabel('Emission')\n",
    "plt.xticks(pos, x_labels, rotation = 45, alpha=0.8)\n",
    "plt.subplots_adjust(bottom=0.2)\n",
    "\n",
    "#Remove ticks from axes\n",
    "plt.tick_params(top=False, bottom=False, left=False, right=False, labelleft=False, labelbottom=True)\n",
    "\n",
    "#Remove borders\n",
    "for spine in plt.gca().spines.values():\n",
    "    spine.set_visible(False)\n",
    "\n",
    "# direct label each bar with Y axis values\n",
    "height_shift = max(values) * 0.05\n",
    "for bar in bars:\n",
    "    disp_val = str(round(bar.get_height(), 1))\n",
    "    plt.gca().text(bar.get_x() + bar.get_width()/2, bar.get_height() - height_shift, disp_val, \n",
    "                 ha='center', color='w', fontsize=10)"
   ]
  },
  {
   "cell_type": "code",
   "execution_count": null,
   "metadata": {},
   "outputs": [],
   "source": [
    "from IPython.display import Image\n",
    "Image(\"TwoCharts.jpg\")"
   ]
  },
  {
   "cell_type": "markdown",
   "metadata": {},
   "source": [
    "# Do not cheat!\n",
    "Two examples of cheating\n",
    "- select data\n",
    "- change axes limits"
   ]
  },
  {
   "cell_type": "markdown",
   "metadata": {},
   "source": [
    "### Cheating - version 1\n",
    "Let's present China as a high-emitting country by selecting countries carefully"
   ]
  },
  {
   "cell_type": "code",
   "execution_count": null,
   "metadata": {},
   "outputs": [],
   "source": [
    "co2"
   ]
  },
  {
   "cell_type": "code",
   "execution_count": null,
   "metadata": {},
   "outputs": [],
   "source": [
    "tmp = co2[co2['2010'] < 7].reset_index()\n",
    "tmp"
   ]
  },
  {
   "cell_type": "code",
   "execution_count": null,
   "metadata": {},
   "outputs": [],
   "source": [
    "f = plt.figure()\n",
    "plt.bar(tmp.index, tmp['2010'])\n",
    "plt.xticks(tmp.index, tmp['Country Name'], rotation = 45)\n",
    "plt.subplots_adjust(bottom=0.2)"
   ]
  },
  {
   "cell_type": "markdown",
   "metadata": {},
   "source": [
    "### Cheating 2\n",
    "Let's compare China with European Union"
   ]
  },
  {
   "cell_type": "code",
   "execution_count": null,
   "metadata": {},
   "outputs": [],
   "source": [
    "tmp = co2[co2['Country Code'].isin(['CHN', 'EUU'])]\n",
    "tmp"
   ]
  },
  {
   "cell_type": "code",
   "execution_count": null,
   "metadata": {},
   "outputs": [],
   "source": [
    "f = plt.figure()\n",
    "plt.bar(tmp.index, tmp['2010'])\n",
    "plt.xticks(tmp.index, tmp['Country Name'], rotation = 45)\n",
    "plt.subplots_adjust(bottom=0.2)"
   ]
  },
  {
   "cell_type": "code",
   "execution_count": null,
   "metadata": {},
   "outputs": [],
   "source": [
    "f = plt.figure()\n",
    "plt.bar(tmp.index, tmp['2010'])\n",
    "plt.xticks(tmp.index, tmp['Country Name'], rotation = 45)\n",
    "plt.ylim([6.5, 7.5])\n",
    "plt.subplots_adjust(bottom=0.2)"
   ]
  },
  {
   "cell_type": "markdown",
   "metadata": {},
   "source": [
    "## Task 2\n",
    "Display the chart that presents relative change of $CO_2$ emission per capita, between 1960 and 2010. Use the countries from `co2` dataframe."
   ]
  },
  {
   "cell_type": "code",
   "execution_count": null,
   "metadata": {},
   "outputs": [],
   "source": []
  },
  {
   "cell_type": "code",
   "execution_count": null,
   "metadata": {},
   "outputs": [],
   "source": []
  },
  {
   "cell_type": "code",
   "execution_count": null,
   "metadata": {},
   "outputs": [],
   "source": []
  },
  {
   "cell_type": "code",
   "execution_count": null,
   "metadata": {},
   "outputs": [],
   "source": []
  }
 ],
 "metadata": {
  "kernelspec": {
   "display_name": "Python 3",
   "language": "python",
   "name": "python3"
  },
  "language_info": {
   "codemirror_mode": {
    "name": "ipython",
    "version": 3
   },
   "file_extension": ".py",
   "mimetype": "text/x-python",
   "name": "python",
   "nbconvert_exporter": "python",
   "pygments_lexer": "ipython3",
   "version": "3.7.6"
  }
 },
 "nbformat": 4,
 "nbformat_minor": 4
}

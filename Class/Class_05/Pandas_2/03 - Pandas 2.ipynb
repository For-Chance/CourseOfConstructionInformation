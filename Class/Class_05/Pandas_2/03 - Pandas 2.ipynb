{
 "cells": [
  {
   "cell_type": "markdown",
   "metadata": {},
   "source": [
    "<center>\n",
    "<h1>Introduction to Python and Pandas</h1>\n",
    "<h2>\n",
    "Lesson 3: Pandas - joining and grouping tables\n",
    "</h2>"
   ]
  },
  {
   "cell_type": "code",
   "execution_count": null,
   "metadata": {},
   "outputs": [],
   "source": [
    "import pandas as pd\n",
    "import numpy as np"
   ]
  },
  {
   "cell_type": "code",
   "execution_count": null,
   "metadata": {},
   "outputs": [],
   "source": [
    "# Uncomment this if you are using Google Colab\n",
    "#!wget https://raw.githubusercontent.com/PrzemekSekula/PythonBasics/main/03_Pandas_2/ForPow.csv\n",
    "#!wget https://raw.githubusercontent.com/PrzemekSekula/PythonBasics/main/03_Pandas_2/ForPow3020.csv\n",
    "#!wget https://raw.githubusercontent.com/PrzemekSekula/PythonBasics/main/03_Pandas_2/forest_land.csv\n",
    "#!wget https://raw.githubusercontent.com/PrzemekSekula/PythonBasics/main/03_Pandas_2/population.csv\n",
    "#!wget https://raw.githubusercontent.com/PrzemekSekula/PythonBasics/main/03_Pandas_2/power.csv\n",
    "#!wget https://raw.githubusercontent.com/PrzemekSekula/PythonBasics/main/03_Pandas_2/Countries-Continents.csv"
   ]
  },
  {
   "cell_type": "markdown",
   "metadata": {},
   "source": [
    "Forest: This file contains the data about the area of forests [$km^2$]  for each country"
   ]
  },
  {
   "cell_type": "code",
   "execution_count": null,
   "metadata": {},
   "outputs": [],
   "source": [
    "forest = pd.read_csv('./forest_land.csv')\n",
    "print (forest.shape)\n",
    "forest.head()"
   ]
  },
  {
   "cell_type": "markdown",
   "metadata": {},
   "source": [
    "Power - This file contains the information about the usage of electric power / capita [kWh] for each country."
   ]
  },
  {
   "cell_type": "code",
   "execution_count": null,
   "metadata": {},
   "outputs": [],
   "source": [
    "power = pd.read_csv('./power.csv')\n",
    "print (power.shape)\n",
    "power.head()"
   ]
  },
  {
   "cell_type": "markdown",
   "metadata": {},
   "source": [
    "## Join (merge)\n",
    "**pandas.merge** - connects two dataframe objets, similarly to the SQL 'JOIN' clause.\n",
    "The description of this function can be found in [Pandas documentation](http://pandas.pydata.org/pandas-docs/stable/merging.html)\n",
    "The most important arguments:\n",
    "pd.merge(left, right, how='inner, left_on=None, right_on=None)\n",
    "<ul>\n",
    "<li>**left**: first table\n",
    "<li>**right**: Second table\n",
    "<li>**how**: Type of join. Could be 'inner' (default), 'outer', 'left' or 'right'\n",
    "<li>**left_on**: The column we want to join on (from the left table)\n",
    "<li>**right_on**: The column we want to join on (from the right table)\n",
    "</ul>\n",
    "If che columns in left and right table have the same name, you may use **'on'** instead of  \n",
    "**'left_on'** and **'right_on'** (check documentation for more details.).<br>\n",
    "If you want to join by indices instead of **'left_on'** and **'right_on'** \n",
    "you should use **left_index=True, right_index=True**.\n",
    "In case of problems, please check the documentation. You may do it by running:<br><br>\n",
    "pd.merge?<br><br><br>\n",
    "Documentation is clear, and easy to read.\n",
    "\n"
   ]
  },
  {
   "cell_type": "code",
   "execution_count": null,
   "metadata": {},
   "outputs": [],
   "source": [
    "pd.merge?"
   ]
  },
  {
   "cell_type": "code",
   "execution_count": null,
   "metadata": {},
   "outputs": [],
   "source": [
    "ForPow = pd.merge(forest, power, how='inner', left_on = 'Country', right_on = 'Country Name')\n",
    "print (ForPow.shape)\n",
    "ForPow.head()"
   ]
  },
  {
   "cell_type": "markdown",
   "metadata": {},
   "source": [
    "## Data cleaning"
   ]
  },
  {
   "cell_type": "markdown",
   "metadata": {},
   "source": [
    "### Task 1\n",
    "The information about Country names is in two columns : **Country** and **Country Name**. We do not need the column **Country Name**. Delete it.<br>"
   ]
  },
  {
   "cell_type": "code",
   "execution_count": null,
   "metadata": {},
   "outputs": [],
   "source": [
    "# ENTER YOUR CODE HERE"
   ]
  },
  {
   "cell_type": "markdown",
   "metadata": {},
   "source": [
    "### Changing names of columns"
   ]
  },
  {
   "cell_type": "code",
   "execution_count": null,
   "metadata": {},
   "outputs": [],
   "source": [
    "ForPow.rename(columns = {'2010_x' : 'forest_2000'})\n",
    "#ForPow.head()"
   ]
  },
  {
   "cell_type": "code",
   "execution_count": null,
   "metadata": {},
   "outputs": [],
   "source": [
    "colnames = {\n",
    "    '1990' : 'forest_1990',\n",
    "    '2000_x' : 'forest_2000',\n",
    "    '2005_x' : 'forest_2005',\n",
    "    '2010_x' : 'forest_2010',\n",
    "    '2000_y' : 'power_2000',\n",
    "    '2005_y' : 'power_2005',\n",
    "    '2010_y' : 'power_2010'\n",
    "}\n",
    "\n",
    "ForPow = ForPow.rename(columns=colnames)\n",
    "ForPow.head()"
   ]
  },
  {
   "cell_type": "markdown",
   "metadata": {},
   "source": [
    "### Another one example of joining tables\n",
    "This time we will use a slightly different notation"
   ]
  },
  {
   "cell_type": "code",
   "execution_count": null,
   "metadata": {},
   "outputs": [],
   "source": [
    "pop = pd.read_csv(\"./population.csv\")\n",
    "pop.head()"
   ]
  },
  {
   "cell_type": "code",
   "execution_count": null,
   "metadata": {},
   "outputs": [],
   "source": [
    "ForPow = ForPow.merge(pop, on='Country Code')\n",
    "print (ForPow.shape)\n",
    "ForPow.head()"
   ]
  },
  {
   "cell_type": "markdown",
   "metadata": {},
   "source": [
    "### Task 2 - Adding continents\n",
    "- Load the data of the countries and the continents into a new dataframe. You may call your dataframe `cc` (stands for Countries and Continents). Display the first 5 columns of your table. The data\n",
    "- Join the `cc` table table with the `ForPow` table. Your results should be stored in the ForPow table. It means your code should look like: `ForPow = pd.merge(.....)`"
   ]
  },
  {
   "cell_type": "code",
   "execution_count": null,
   "metadata": {},
   "outputs": [],
   "source": [
    "# Loading Countries-Continents.csv data\n",
    "# ENTER YOUR CODE HERE\n"
   ]
  },
  {
   "cell_type": "code",
   "execution_count": null,
   "metadata": {},
   "outputs": [],
   "source": [
    "# Merging CC and ForPow table\n",
    "#ENTER YOUR CODE HERE\n"
   ]
  },
  {
   "cell_type": "markdown",
   "metadata": {},
   "source": [
    "### Now we are interested only in 2010"
   ]
  },
  {
   "cell_type": "code",
   "execution_count": null,
   "metadata": {},
   "outputs": [],
   "source": [
    "ForPow2010 = ForPow[['Country', 'Country Code', 'Continent', 'pop_2010', 'forest_2010', 'power_2010']].copy()\n",
    "ForPow2010.head()"
   ]
  },
  {
   "cell_type": "markdown",
   "metadata": {},
   "source": [
    "### Task 3 - Forest area per 1,000,000 citizens\n",
    "Add column GreenCoef to the table ForPow2010, which shows how many $km^2$ of forest we have for each 1,000,000 of citizens"
   ]
  },
  {
   "cell_type": "code",
   "execution_count": null,
   "metadata": {},
   "outputs": [],
   "source": [
    "# ENTER YOUR CODE HERE\n"
   ]
  },
  {
   "cell_type": "markdown",
   "metadata": {},
   "source": [
    "### Task 4 - Filtering\n",
    "Display all the countries (all the `ForPow2010` table rows) where the `GreenCoef` is smaller than `GreenCoef` of Haiti\n"
   ]
  },
  {
   "cell_type": "code",
   "execution_count": null,
   "metadata": {},
   "outputs": [],
   "source": [
    "# First try to find Haiti\n",
    "# ENTER YOUR CODE HERE\n"
   ]
  },
  {
   "cell_type": "code",
   "execution_count": null,
   "metadata": {},
   "outputs": [],
   "source": [
    "# Now display the expected output\n",
    "# ENTER YOUR CODE HERE\n"
   ]
  },
  {
   "cell_type": "markdown",
   "metadata": {},
   "source": [
    "## Group By"
   ]
  },
  {
   "cell_type": "code",
   "execution_count": null,
   "metadata": {},
   "outputs": [],
   "source": [
    "# Uncomment the code below if you haven't done everything above, \n",
    "# or if you are starting this notebook from this place\n",
    "\n",
    "#import pandas as pd\n",
    "#import numpy as np\n",
    "#ForPow2010 = pd.read_csv('ForPow2010.csv')\n",
    "#ForPow = pd.read_csv('ForPow.csv')"
   ]
  },
  {
   "cell_type": "markdown",
   "metadata": {},
   "source": [
    "Our goal os to group the  **ForPow2010** table in such a way to get the sum of the forest area for each continent.\n",
    "<br><br>\n",
    "<i>Note: The three most commonly useg groupping functions are as follows:</i>\n",
    "<li><b>sum:</b> 'sum' or np.sum\n",
    "<li><b>mean:</b> 'mean' or np.average\n",
    "<li><b>counting:</b> 'count'\n",
    "\n"
   ]
  },
  {
   "cell_type": "code",
   "execution_count": null,
   "metadata": {},
   "outputs": [],
   "source": [
    "ForPow2010[ForPow2010['Continent'] == 'Oceania']"
   ]
  },
  {
   "cell_type": "code",
   "execution_count": null,
   "metadata": {},
   "outputs": [],
   "source": [
    "Cont2010 = ForPow2010.groupby('Continent').agg({'forest_2010' : 'sum'})"
   ]
  },
  {
   "cell_type": "code",
   "execution_count": null,
   "metadata": {},
   "outputs": [],
   "source": [
    "Cont2010.head()"
   ]
  },
  {
   "cell_type": "markdown",
   "metadata": {},
   "source": [
    "You can aggregate as many columns as you wish"
   ]
  },
  {
   "cell_type": "code",
   "execution_count": null,
   "metadata": {},
   "outputs": [],
   "source": [
    "ForPow.head()"
   ]
  },
  {
   "cell_type": "code",
   "execution_count": null,
   "metadata": {},
   "outputs": [],
   "source": [
    "dic = {'pop_2000' : 'sum',\n",
    "       'pop_2005' : 'sum',\n",
    "       'pop_2010' : 'sum'\n",
    "}\n",
    "PopCont = ForPow.groupby('Continent').agg(dic)\n",
    "PopCont.head()\n"
   ]
  },
  {
   "cell_type": "markdown",
   "metadata": {},
   "source": [
    "### Task  5 - grouping data\n",
    "Group the table **ForPow2010** by continents to get aggregate information about:\n",
    "<li>The number of countries for each continent\n",
    "<li>The total area of forest for each continent\n",
    "<li>The mean power usage per country for each continent "
   ]
  },
  {
   "cell_type": "code",
   "execution_count": null,
   "metadata": {},
   "outputs": [],
   "source": [
    "# As a reminder - let's display the table\n",
    "ForPow2010.head()"
   ]
  },
  {
   "cell_type": "code",
   "execution_count": null,
   "metadata": {},
   "outputs": [],
   "source": [
    "# Now you may group.\n",
    "# ENTER YOUR CODE HERE\n"
   ]
  }
 ],
 "metadata": {
  "kernelspec": {
   "display_name": "Python 3",
   "language": "python",
   "name": "python3"
  },
  "language_info": {
   "codemirror_mode": {
    "name": "ipython",
    "version": 3
   },
   "file_extension": ".py",
   "mimetype": "text/x-python",
   "name": "python",
   "nbconvert_exporter": "python",
   "pygments_lexer": "ipython3",
   "version": "3.8.8"
  }
 },
 "nbformat": 4,
 "nbformat_minor": 2
}

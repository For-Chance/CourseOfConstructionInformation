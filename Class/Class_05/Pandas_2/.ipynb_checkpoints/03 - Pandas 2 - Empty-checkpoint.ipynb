{
 "cells": [
  {
   "cell_type": "markdown",
   "metadata": {},
   "source": [
    "<center>\n",
    "<h1>Introduction to Python and Pandas</h1>\n",
    "<h2>\n",
    "Lesson 3: Pandas - joining and grouping tables\n",
    "</h2>"
   ]
  },
  {
   "cell_type": "code",
   "execution_count": null,
   "metadata": {},
   "outputs": [],
   "source": [
    "import pandas as pd\n",
    "import numpy as np"
   ]
  },
  {
   "cell_type": "code",
   "execution_count": null,
   "metadata": {},
   "outputs": [],
   "source": [
    "# Uncomment this if you are using Google Colab\n",
    "#!wget https://raw.githubusercontent.com/PrzemekSekula/PythonBasics/main/03_Pandas_2/ForPow.csv\n",
    "#!wget https://raw.githubusercontent.com/PrzemekSekula/PythonBasics/main/03_Pandas_2/ForPow3020.csv\n",
    "#!wget https://raw.githubusercontent.com/PrzemekSekula/PythonBasics/main/03_Pandas_2/forest_land.csv\n",
    "#!wget https://raw.githubusercontent.com/PrzemekSekula/PythonBasics/main/03_Pandas_2/population.csv\n",
    "#!wget https://raw.githubusercontent.com/PrzemekSekula/PythonBasics/main/03_Pandas_2/power.csv\n",
    "#!wget https://raw.githubusercontent.com/PrzemekSekula/PythonBasics/main/03_Pandas_2/Countries-Continents.csv"
   ]
  },
  {
   "cell_type": "markdown",
   "metadata": {},
   "source": [
    "Forest: This file contains the data about the area of forests [$km^2$]  for each country"
   ]
  },
  {
   "cell_type": "code",
   "execution_count": null,
   "metadata": {},
   "outputs": [],
   "source": [
    "forest = pd.read_csv('./forest_land.csv')\n",
    "print (forest.shape)\n",
    "forest.head()"
   ]
  },
  {
   "cell_type": "markdown",
   "metadata": {},
   "source": [
    "Power - This file contains the information about the usage of electric power / capita [kWh] for each country."
   ]
  },
  {
   "cell_type": "code",
   "execution_count": null,
   "metadata": {},
   "outputs": [],
   "source": [
    "power = pd.read_csv('./power.csv')\n",
    "print (power.shape)\n",
    "power.head()"
   ]
  },
  {
   "cell_type": "markdown",
   "metadata": {},
   "source": [
    "## Join (merge)\n",
    "**pandas.merge** - connects two dataframe objets, similarly to the SQL 'JOIN' clause.\n",
    "The description of this function can be found in [Pandas documentation](http://pandas.pydata.org/pandas-docs/stable/merging.html)\n",
    "The most important arguments:\n",
    "pd.merge(left, right, how='inner, left_on=None, right_on=None)\n",
    "<ul>\n",
    "<li>**left**: first table\n",
    "<li>**right**: Second table\n",
    "<li>**how**: Type of join. Could be 'inner' (default), 'outer', 'left' or 'right'\n",
    "<li>**left_on**: The column we want to join on (from the left table)\n",
    "<li>**right_on**: The column we want to join on (from the right table)\n",
    "</ul>\n",
    "If che columns in left and right table have the same name, you may use **'on'** instead of  \n",
    "**'left_on'** and **'right_on'** (check documentation for more details.).<br>\n",
    "If you want to join by indices instead of **'left_on'** and **'right_on'** \n",
    "you should use **left_index=True, right_index=True**.\n",
    "In case of problems, please check the documentation. You may do it by running:<br><br>\n",
    "pd.merge?<br><br><br>\n",
    "Documentation is clear, and easy to read.\n",
    "\n"
   ]
  },
  {
   "cell_type": "code",
   "execution_count": null,
   "metadata": {},
   "outputs": [],
   "source": [
    "pd.merge?"
   ]
  },
  {
   "cell_type": "code",
   "execution_count": null,
   "metadata": {},
   "outputs": [],
   "source": [
    "ForPow = pd.merge(\n",
    "    forest, power,\n",
    "    how = 'inner',\n",
    "    left_on = 'Country', right_on = 'Country Name')\n",
    "print (ForPow.shape)\n",
    "ForPow.head()"
   ]
  },
  {
   "cell_type": "markdown",
   "metadata": {},
   "source": [
    "## Data cleaning"
   ]
  },
  {
   "cell_type": "markdown",
   "metadata": {},
   "source": [
    "### Task 1\n",
    "The information about Country names is in two columns : **Country** and **Country Name**. We do not need the column **Country Name**. Delete it.<br>"
   ]
  },
  {
   "cell_type": "code",
   "execution_count": null,
   "metadata": {},
   "outputs": [],
   "source": [
    "# ENTER YOUR CODE HERE\n",
    "ForPow = ForPow.drop('Country Name', axis=1)\n",
    "ForPow.head()"
   ]
  },
  {
   "cell_type": "markdown",
   "metadata": {},
   "source": [
    "### Changing names of columns"
   ]
  },
  {
   "cell_type": "code",
   "execution_count": null,
   "metadata": {},
   "outputs": [],
   "source": [
    "ForPow.rename(columns = {'2010_x' : 'forest_2010' })\n",
    "ForPow.head()"
   ]
  },
  {
   "cell_type": "code",
   "execution_count": null,
   "metadata": {},
   "outputs": [],
   "source": [
    "colnames = {\n",
    "    '1990' : 'forest_1990',\n",
    "    '2000_x' : 'forest_2000',\n",
    "    '2005_x' : 'forest_2005',\n",
    "    '2010_x' : 'forest_2010',\n",
    "    '2000_y' : 'power_2000',\n",
    "    '2005_y' : 'power_2005',\n",
    "    '2010_y' : 'power_2010'\n",
    "}\n",
    "\n",
    "ForPow = ForPow.rename(columns = colnames)\n",
    "ForPow.head()"
   ]
  },
  {
   "cell_type": "markdown",
   "metadata": {},
   "source": [
    "### Another one example of joining tables\n",
    "This time we will use a slightly different notation"
   ]
  },
  {
   "cell_type": "code",
   "execution_count": null,
   "metadata": {},
   "outputs": [],
   "source": [
    "pop = pd.read_csv('./population.csv')\n",
    "pop.head()"
   ]
  },
  {
   "cell_type": "code",
   "execution_count": null,
   "metadata": {},
   "outputs": [],
   "source": [
    "ForPow = ForPow.merge(pop, on = 'Country Code')\n",
    "print (ForPow.shape)\n",
    "ForPow.head()"
   ]
  },
  {
   "cell_type": "markdown",
   "metadata": {},
   "source": [
    "### Task 2 - Adding continents\n",
    "- Load the data of the countries and the continents into a new dataframe. You may call your dataframe `cc` (stands for Countries and Continents). Display the first 5 columns of your table. The data\n",
    "- Join the `cc` table table with the `ForPow` table. Your results should be stored in the ForPow table. It means your code should look like: `ForPow = pd.merge(.....)`"
   ]
  },
  {
   "cell_type": "code",
   "execution_count": null,
   "metadata": {},
   "outputs": [],
   "source": [
    "# Loading Countries-Continents.csv data\n",
    "# ENTER YOUR CODE HERE\n",
    "cc = pd.read_csv('./Countries-Continents.csv')\n",
    "cc.head()"
   ]
  },
  {
   "cell_type": "code",
   "execution_count": null,
   "metadata": {},
   "outputs": [],
   "source": [
    "# Merging CC and ForPow table\n",
    "#ENTER YOUR CODE HERE\n",
    "ForPow = ForPow.merge(cc, on='Country')\n",
    "ForPow.head()"
   ]
  },
  {
   "cell_type": "markdown",
   "metadata": {},
   "source": [
    "### Now we are interested only in 2010"
   ]
  },
  {
   "cell_type": "code",
   "execution_count": 25,
   "metadata": {},
   "outputs": [
    {
     "data": {
      "text/html": [
       "<div>\n",
       "<style scoped>\n",
       "    .dataframe tbody tr th:only-of-type {\n",
       "        vertical-align: middle;\n",
       "    }\n",
       "\n",
       "    .dataframe tbody tr th {\n",
       "        vertical-align: top;\n",
       "    }\n",
       "\n",
       "    .dataframe thead th {\n",
       "        text-align: right;\n",
       "    }\n",
       "</style>\n",
       "<table border=\"1\" class=\"dataframe\">\n",
       "  <thead>\n",
       "    <tr style=\"text-align: right;\">\n",
       "      <th></th>\n",
       "      <th>Country</th>\n",
       "      <th>Country Code</th>\n",
       "      <th>Continent</th>\n",
       "      <th>pop_2010</th>\n",
       "      <th>forest_2010</th>\n",
       "      <th>power_2010</th>\n",
       "    </tr>\n",
       "  </thead>\n",
       "  <tbody>\n",
       "    <tr>\n",
       "      <th>0</th>\n",
       "      <td>Albania</td>\n",
       "      <td>ALB</td>\n",
       "      <td>Europe</td>\n",
       "      <td>2913021.0</td>\n",
       "      <td>7760.0</td>\n",
       "      <td>1943.343354</td>\n",
       "    </tr>\n",
       "    <tr>\n",
       "      <th>1</th>\n",
       "      <td>Algeria</td>\n",
       "      <td>DZA</td>\n",
       "      <td>Africa</td>\n",
       "      <td>36117637.0</td>\n",
       "      <td>14920.0</td>\n",
       "      <td>1012.690836</td>\n",
       "    </tr>\n",
       "    <tr>\n",
       "      <th>2</th>\n",
       "      <td>Angola</td>\n",
       "      <td>AGO</td>\n",
       "      <td>Africa</td>\n",
       "      <td>23369131.0</td>\n",
       "      <td>584800.0</td>\n",
       "      <td>206.340578</td>\n",
       "    </tr>\n",
       "    <tr>\n",
       "      <th>3</th>\n",
       "      <td>Argentina</td>\n",
       "      <td>ARG</td>\n",
       "      <td>South America</td>\n",
       "      <td>41223889.0</td>\n",
       "      <td>294000.0</td>\n",
       "      <td>2847.256842</td>\n",
       "    </tr>\n",
       "    <tr>\n",
       "      <th>4</th>\n",
       "      <td>Armenia</td>\n",
       "      <td>ARM</td>\n",
       "      <td>Europe</td>\n",
       "      <td>2877311.0</td>\n",
       "      <td>2620.0</td>\n",
       "      <td>1726.264557</td>\n",
       "    </tr>\n",
       "  </tbody>\n",
       "</table>\n",
       "</div>"
      ],
      "text/plain": [
       "     Country Country Code      Continent    pop_2010  forest_2010   power_2010\n",
       "0    Albania          ALB         Europe   2913021.0       7760.0  1943.343354\n",
       "1    Algeria          DZA         Africa  36117637.0      14920.0  1012.690836\n",
       "2     Angola          AGO         Africa  23369131.0     584800.0   206.340578\n",
       "3  Argentina          ARG  South America  41223889.0     294000.0  2847.256842\n",
       "4    Armenia          ARM         Europe   2877311.0       2620.0  1726.264557"
      ]
     },
     "execution_count": 25,
     "metadata": {},
     "output_type": "execute_result"
    }
   ],
   "source": [
    "ForPow2010 = ForPow[[\n",
    "    'Country', 'Country Code', 'Continent', \n",
    "    'pop_2010', 'forest_2010', 'power_2010'\n",
    "]].copy()\n",
    "ForPow2010.head()"
   ]
  },
  {
   "cell_type": "markdown",
   "metadata": {},
   "source": [
    "### Task 3 - Forest area per 1,000,000 citizens\n",
    "Add column GreenCoef to the table ForPow2010, which shows how many $km^2$ of forest we have for each 1,000,000 of citizens"
   ]
  },
  {
   "cell_type": "code",
   "execution_count": 26,
   "metadata": {},
   "outputs": [
    {
     "data": {
      "text/html": [
       "<div>\n",
       "<style scoped>\n",
       "    .dataframe tbody tr th:only-of-type {\n",
       "        vertical-align: middle;\n",
       "    }\n",
       "\n",
       "    .dataframe tbody tr th {\n",
       "        vertical-align: top;\n",
       "    }\n",
       "\n",
       "    .dataframe thead th {\n",
       "        text-align: right;\n",
       "    }\n",
       "</style>\n",
       "<table border=\"1\" class=\"dataframe\">\n",
       "  <thead>\n",
       "    <tr style=\"text-align: right;\">\n",
       "      <th></th>\n",
       "      <th>Country</th>\n",
       "      <th>Country Code</th>\n",
       "      <th>Continent</th>\n",
       "      <th>pop_2010</th>\n",
       "      <th>forest_2010</th>\n",
       "      <th>power_2010</th>\n",
       "      <th>GreenCoef</th>\n",
       "    </tr>\n",
       "  </thead>\n",
       "  <tbody>\n",
       "    <tr>\n",
       "      <th>0</th>\n",
       "      <td>Albania</td>\n",
       "      <td>ALB</td>\n",
       "      <td>Europe</td>\n",
       "      <td>2913021.0</td>\n",
       "      <td>7760.0</td>\n",
       "      <td>1943.343354</td>\n",
       "      <td>2663.901153</td>\n",
       "    </tr>\n",
       "    <tr>\n",
       "      <th>1</th>\n",
       "      <td>Algeria</td>\n",
       "      <td>DZA</td>\n",
       "      <td>Africa</td>\n",
       "      <td>36117637.0</td>\n",
       "      <td>14920.0</td>\n",
       "      <td>1012.690836</td>\n",
       "      <td>413.094578</td>\n",
       "    </tr>\n",
       "    <tr>\n",
       "      <th>2</th>\n",
       "      <td>Angola</td>\n",
       "      <td>AGO</td>\n",
       "      <td>Africa</td>\n",
       "      <td>23369131.0</td>\n",
       "      <td>584800.0</td>\n",
       "      <td>206.340578</td>\n",
       "      <td>25024.464966</td>\n",
       "    </tr>\n",
       "    <tr>\n",
       "      <th>3</th>\n",
       "      <td>Argentina</td>\n",
       "      <td>ARG</td>\n",
       "      <td>South America</td>\n",
       "      <td>41223889.0</td>\n",
       "      <td>294000.0</td>\n",
       "      <td>2847.256842</td>\n",
       "      <td>7131.787105</td>\n",
       "    </tr>\n",
       "    <tr>\n",
       "      <th>4</th>\n",
       "      <td>Armenia</td>\n",
       "      <td>ARM</td>\n",
       "      <td>Europe</td>\n",
       "      <td>2877311.0</td>\n",
       "      <td>2620.0</td>\n",
       "      <td>1726.264557</td>\n",
       "      <td>910.572406</td>\n",
       "    </tr>\n",
       "  </tbody>\n",
       "</table>\n",
       "</div>"
      ],
      "text/plain": [
       "     Country Country Code      Continent    pop_2010  forest_2010  \\\n",
       "0    Albania          ALB         Europe   2913021.0       7760.0   \n",
       "1    Algeria          DZA         Africa  36117637.0      14920.0   \n",
       "2     Angola          AGO         Africa  23369131.0     584800.0   \n",
       "3  Argentina          ARG  South America  41223889.0     294000.0   \n",
       "4    Armenia          ARM         Europe   2877311.0       2620.0   \n",
       "\n",
       "    power_2010     GreenCoef  \n",
       "0  1943.343354   2663.901153  \n",
       "1  1012.690836    413.094578  \n",
       "2   206.340578  25024.464966  \n",
       "3  2847.256842   7131.787105  \n",
       "4  1726.264557    910.572406  "
      ]
     },
     "execution_count": 26,
     "metadata": {},
     "output_type": "execute_result"
    }
   ],
   "source": [
    "# ENTER YOUR CODE HERE\n",
    "ForPow2010['GreenCoef'] = 1000000 * ForPow2010['forest_2010'] / ForPow2010['pop_2010']\n",
    "ForPow2010.head()"
   ]
  },
  {
   "cell_type": "markdown",
   "metadata": {},
   "source": [
    "### Task 4 - Filtering\n",
    "Display all the countries (all the `ForPow2010` table rows) where the `GreenCoef` is smaller than `GreenCoef` of Haiti\n"
   ]
  },
  {
   "cell_type": "code",
   "execution_count": 28,
   "metadata": {},
   "outputs": [
    {
     "data": {
      "text/html": [
       "<div>\n",
       "<style scoped>\n",
       "    .dataframe tbody tr th:only-of-type {\n",
       "        vertical-align: middle;\n",
       "    }\n",
       "\n",
       "    .dataframe tbody tr th {\n",
       "        vertical-align: top;\n",
       "    }\n",
       "\n",
       "    .dataframe thead th {\n",
       "        text-align: right;\n",
       "    }\n",
       "</style>\n",
       "<table border=\"1\" class=\"dataframe\">\n",
       "  <thead>\n",
       "    <tr style=\"text-align: right;\">\n",
       "      <th></th>\n",
       "      <th>Country</th>\n",
       "      <th>Country Code</th>\n",
       "      <th>Continent</th>\n",
       "      <th>pop_2010</th>\n",
       "      <th>forest_2010</th>\n",
       "      <th>power_2010</th>\n",
       "      <th>GreenCoef</th>\n",
       "    </tr>\n",
       "  </thead>\n",
       "  <tbody>\n",
       "    <tr>\n",
       "      <th>41</th>\n",
       "      <td>Haiti</td>\n",
       "      <td>HTI</td>\n",
       "      <td>North America</td>\n",
       "      <td>9999617.0</td>\n",
       "      <td>1010.0</td>\n",
       "      <td>24.400935</td>\n",
       "      <td>101.003868</td>\n",
       "    </tr>\n",
       "  </tbody>\n",
       "</table>\n",
       "</div>"
      ],
      "text/plain": [
       "   Country Country Code      Continent   pop_2010  forest_2010  power_2010  \\\n",
       "41   Haiti          HTI  North America  9999617.0       1010.0   24.400935   \n",
       "\n",
       "     GreenCoef  \n",
       "41  101.003868  "
      ]
     },
     "execution_count": 28,
     "metadata": {},
     "output_type": "execute_result"
    }
   ],
   "source": [
    "# First try to find Haiti\n",
    "# ENTER YOUR CODE HERE\n",
    "ForPow2010[ForPow2010['Country'] == 'Haiti']"
   ]
  },
  {
   "cell_type": "code",
   "execution_count": 32,
   "metadata": {},
   "outputs": [
    {
     "data": {
      "text/html": [
       "<div>\n",
       "<style scoped>\n",
       "    .dataframe tbody tr th:only-of-type {\n",
       "        vertical-align: middle;\n",
       "    }\n",
       "\n",
       "    .dataframe tbody tr th {\n",
       "        vertical-align: top;\n",
       "    }\n",
       "\n",
       "    .dataframe thead th {\n",
       "        text-align: right;\n",
       "    }\n",
       "</style>\n",
       "<table border=\"1\" class=\"dataframe\">\n",
       "  <thead>\n",
       "    <tr style=\"text-align: right;\">\n",
       "      <th></th>\n",
       "      <th>Country</th>\n",
       "      <th>Country Code</th>\n",
       "      <th>Continent</th>\n",
       "      <th>pop_2010</th>\n",
       "      <th>forest_2010</th>\n",
       "      <th>power_2010</th>\n",
       "      <th>GreenCoef</th>\n",
       "    </tr>\n",
       "  </thead>\n",
       "  <tbody>\n",
       "    <tr>\n",
       "      <th>8</th>\n",
       "      <td>Bahrain</td>\n",
       "      <td>BHR</td>\n",
       "      <td>Asia</td>\n",
       "      <td>1240862.0</td>\n",
       "      <td>10.0</td>\n",
       "      <td>18038.266950</td>\n",
       "      <td>8.058914</td>\n",
       "    </tr>\n",
       "    <tr>\n",
       "      <th>9</th>\n",
       "      <td>Bangladesh</td>\n",
       "      <td>BGD</td>\n",
       "      <td>Asia</td>\n",
       "      <td>152149102.0</td>\n",
       "      <td>14420.0</td>\n",
       "      <td>239.830532</td>\n",
       "      <td>94.775453</td>\n",
       "    </tr>\n",
       "    <tr>\n",
       "      <th>56</th>\n",
       "      <td>Kuwait</td>\n",
       "      <td>KWT</td>\n",
       "      <td>Asia</td>\n",
       "      <td>2998083.0</td>\n",
       "      <td>60.0</td>\n",
       "      <td>16722.685800</td>\n",
       "      <td>20.012788</td>\n",
       "    </tr>\n",
       "    <tr>\n",
       "      <th>79</th>\n",
       "      <td>Oman</td>\n",
       "      <td>OMN</td>\n",
       "      <td>Asia</td>\n",
       "      <td>3041460.0</td>\n",
       "      <td>20.0</td>\n",
       "      <td>5521.032662</td>\n",
       "      <td>6.575789</td>\n",
       "    </tr>\n",
       "    <tr>\n",
       "      <th>80</th>\n",
       "      <td>Pakistan</td>\n",
       "      <td>PAK</td>\n",
       "      <td>Asia</td>\n",
       "      <td>170560182.0</td>\n",
       "      <td>16870.0</td>\n",
       "      <td>465.161323</td>\n",
       "      <td>98.909369</td>\n",
       "    </tr>\n",
       "    <tr>\n",
       "      <th>87</th>\n",
       "      <td>Qatar</td>\n",
       "      <td>QAT</td>\n",
       "      <td>Asia</td>\n",
       "      <td>1779676.0</td>\n",
       "      <td>0.0</td>\n",
       "      <td>14821.237120</td>\n",
       "      <td>0.000000</td>\n",
       "    </tr>\n",
       "    <tr>\n",
       "      <th>92</th>\n",
       "      <td>Singapore</td>\n",
       "      <td>SGP</td>\n",
       "      <td>Asia</td>\n",
       "      <td>5076732.0</td>\n",
       "      <td>20.0</td>\n",
       "      <td>8679.993350</td>\n",
       "      <td>3.939542</td>\n",
       "    </tr>\n",
       "  </tbody>\n",
       "</table>\n",
       "</div>"
      ],
      "text/plain": [
       "       Country Country Code Continent     pop_2010  forest_2010    power_2010  \\\n",
       "8      Bahrain          BHR      Asia    1240862.0         10.0  18038.266950   \n",
       "9   Bangladesh          BGD      Asia  152149102.0      14420.0    239.830532   \n",
       "56      Kuwait          KWT      Asia    2998083.0         60.0  16722.685800   \n",
       "79        Oman          OMN      Asia    3041460.0         20.0   5521.032662   \n",
       "80    Pakistan          PAK      Asia  170560182.0      16870.0    465.161323   \n",
       "87       Qatar          QAT      Asia    1779676.0          0.0  14821.237120   \n",
       "92   Singapore          SGP      Asia    5076732.0         20.0   8679.993350   \n",
       "\n",
       "    GreenCoef  \n",
       "8    8.058914  \n",
       "9   94.775453  \n",
       "56  20.012788  \n",
       "79   6.575789  \n",
       "80  98.909369  \n",
       "87   0.000000  \n",
       "92   3.939542  "
      ]
     },
     "execution_count": 32,
     "metadata": {},
     "output_type": "execute_result"
    }
   ],
   "source": [
    "# Now display the expected output\n",
    "# ENTER YOUR CODE HERE\n",
    "ForPow2010[ForPow2010['GreenCoef'] < ForPow2010.loc[41, 'GreenCoef']]"
   ]
  },
  {
   "cell_type": "markdown",
   "metadata": {},
   "source": [
    "## Group By"
   ]
  },
  {
   "cell_type": "code",
   "execution_count": null,
   "metadata": {},
   "outputs": [],
   "source": [
    "# Uncomment the code below if you haven't done everything above, \n",
    "# or if you are starting this notebook from this place\n",
    "\n",
    "#import pandas as pd\n",
    "#import numpy as np\n",
    "#ForPow2010 = pd.read_csv('ForPow2010.csv')\n",
    "#ForPow = pd.read_csv('ForPow.csv')"
   ]
  },
  {
   "cell_type": "markdown",
   "metadata": {},
   "source": [
    "Our goal os to group the  **ForPow2010** table in such a way to get the sum of the forest area for each continent.\n",
    "<br><br>\n",
    "<i>Note: The three most commonly useg groupping functions are as follows:</i>\n",
    "<li><b>sum:</b> 'sum' or np.sum\n",
    "<li><b>mean:</b> 'mean' or np.average\n",
    "<li><b>counting:</b> 'count'"
   ]
  },
  {
   "cell_type": "code",
   "execution_count": null,
   "metadata": {},
   "outputs": [],
   "source": []
  },
  {
   "cell_type": "code",
   "execution_count": null,
   "metadata": {},
   "outputs": [],
   "source": []
  },
  {
   "cell_type": "code",
   "execution_count": null,
   "metadata": {},
   "outputs": [],
   "source": []
  },
  {
   "cell_type": "markdown",
   "metadata": {},
   "source": [
    "You can aggregate as many columns as you wish"
   ]
  },
  {
   "cell_type": "code",
   "execution_count": null,
   "metadata": {},
   "outputs": [],
   "source": []
  },
  {
   "cell_type": "code",
   "execution_count": null,
   "metadata": {},
   "outputs": [],
   "source": []
  },
  {
   "cell_type": "markdown",
   "metadata": {},
   "source": [
    "### Task  5 - grouping data\n",
    "Group the table **ForPow2010** by continents to get aggregate information about:\n",
    "<li>The number of countries for each continent\n",
    "<li>The total area of forest for each continent\n",
    "<li>The mean power usage per country for each continent "
   ]
  },
  {
   "cell_type": "code",
   "execution_count": null,
   "metadata": {},
   "outputs": [],
   "source": [
    "# As a reminder - let's display the table\n"
   ]
  },
  {
   "cell_type": "code",
   "execution_count": null,
   "metadata": {},
   "outputs": [],
   "source": [
    "# Now you may group.\n",
    "# ENTER YOUR CODE HERE\n"
   ]
  }
 ],
 "metadata": {
  "kernelspec": {
   "display_name": "Python 3",
   "language": "python",
   "name": "python3"
  },
  "language_info": {
   "codemirror_mode": {
    "name": "ipython",
    "version": 3
   },
   "file_extension": ".py",
   "mimetype": "text/x-python",
   "name": "python",
   "nbconvert_exporter": "python",
   "pygments_lexer": "ipython3",
   "version": "3.8.8"
  }
 },
 "nbformat": 4,
 "nbformat_minor": 2
}

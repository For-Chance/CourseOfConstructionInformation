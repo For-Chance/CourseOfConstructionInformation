{
 "cells": [
  {
   "cell_type": "markdown",
   "metadata": {},
   "source": [
    "# Homework\n",
    "In this homework we are working with two datasets.\n",
    "- `rating_final.csv` contains restaurant ratings represented in three columns (scale is always from 0 to 2)\n",
    "    - userID - person who gave the rating\n",
    "    - placeId - id of the restaurant\n",
    "    - rating - overall rating\n",
    "    - food_rating - food rating\n",
    "    - service_rating - service rating\n",
    "- `chefmozparking.csv` contains information about parkings. The columns are as follows:\n",
    "    - placeId - id of the restaurant\n",
    "    - parking_lot - paking info, one of: ['fee', 'none', 'public', 'street', 'valet parking', 'validated parking', 'yes']"
   ]
  },
  {
   "cell_type": "markdown",
   "metadata": {},
   "source": [
    "### Task 1\n",
    "- Import pandas\n",
    "- load `chefmozparking.csv` file and display first five lines of the file\n",
    "- load `rating_final.csv` file and display first five lines of the file"
   ]
  },
  {
   "cell_type": "code",
   "execution_count": null,
   "metadata": {},
   "outputs": [],
   "source": [
    "#ENTER YOUR CODE HERE (chefmozparking.csv)"
   ]
  },
  {
   "cell_type": "code",
   "execution_count": null,
   "metadata": {},
   "outputs": [],
   "source": [
    "#ENTER YOUR CODE HERE (rating_final.csv)"
   ]
  },
  {
   "cell_type": "markdown",
   "metadata": {},
   "source": [
    "### Task 2\n",
    "Merge the actual restaurant ratings with parking lot info. Make sure that all the ratings will be included in the final table (think if you should use 'inner', 'left' or 'outer' join."
   ]
  },
  {
   "cell_type": "code",
   "execution_count": null,
   "metadata": {},
   "outputs": [],
   "source": [
    "#ENTER YOUR CODE HERE"
   ]
  },
  {
   "cell_type": "markdown",
   "metadata": {},
   "source": [
    "### Task 3\n",
    "Group the dataframe created in `Task 2` by `parking_lot`. Display the following information:\n",
    "- number of reviews for each parking lot type\n",
    "- mean rating\n",
    "- mean food_rating\n",
    "- mean service_rating "
   ]
  },
  {
   "cell_type": "code",
   "execution_count": null,
   "metadata": {},
   "outputs": [],
   "source": [
    "#ENTER YOUR CODE HERE"
   ]
  },
  {
   "cell_type": "markdown",
   "metadata": {},
   "source": [
    "### Task 4\n",
    "Group the dataframe created in `Task 2` by `placeId`. For each place compute the number of users that gave a review. Display the all the places that have at least 20 reviews, sorted by number of reviews (descending).\n"
   ]
  },
  {
   "cell_type": "code",
   "execution_count": null,
   "metadata": {},
   "outputs": [],
   "source": [
    "#ENTER YOUR CODE HERE"
   ]
  },
  {
   "cell_type": "code",
   "execution_count": null,
   "metadata": {},
   "outputs": [],
   "source": []
  }
 ],
 "metadata": {
  "kernelspec": {
   "display_name": "Python 3",
   "language": "python",
   "name": "python3"
  },
  "language_info": {
   "codemirror_mode": {
    "name": "ipython",
    "version": 3
   },
   "file_extension": ".py",
   "mimetype": "text/x-python",
   "name": "python",
   "nbconvert_exporter": "python",
   "pygments_lexer": "ipython3",
   "version": "3.7.6"
  }
 },
 "nbformat": 4,
 "nbformat_minor": 4
}

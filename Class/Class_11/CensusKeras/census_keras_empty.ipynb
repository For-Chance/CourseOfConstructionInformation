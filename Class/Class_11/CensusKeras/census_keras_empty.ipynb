{
  "cells": [
    {
      "cell_type": "markdown",
      "metadata": {
        "id": "view-in-github",
        "colab_type": "text"
      },
      "source": [
        "<a href=\"https://colab.research.google.com/github/For-Chance/CourseOfConstructionInformation/blob/master/Class/Class_11/CensusKeras/census_keras_empty.ipynb\" target=\"_parent\"><img src=\"https://colab.research.google.com/assets/colab-badge.svg\" alt=\"Open In Colab\"/></a>"
      ]
    },
    {
      "cell_type": "markdown",
      "metadata": {
        "id": "Tp_h3vUJ8BwH"
      },
      "source": [
        "# Census Income Example\n",
        "This is a Keras example of classification problem. To simplify the data preparation part I used the Census problem from the Sci-Kit Learn class.\n",
        "\n",
        "The dataset comes from http://archive.ics.uci.edu/. \n",
        "\n",
        "Data extraction was done by Barry Becker from the 1994 Census database. A set of reasonably clean records was extracted using the following conditions: ((AAGE>16) && (AGI>100) && (AFNLWGT>1)&& (HRSWK>0)). The data was also preprocessed for the purpose of this example.\n",
        "\n",
        "Prediction task is to determine whether a person makes over 50K a year.\n",
        "\n",
        "\n",
        "### List of attributes:\n",
        "\n",
        "##### Features\n",
        "- age: continuous. \n",
        "- workclass: Private, Self-emp-not-inc, Self-emp-inc, Federal-gov, Local-gov, State-gov, Without-pay, Never-worked. \n",
        "- education: Bachelors, Some-college, 11th, HS-grad, Prof-school, Assoc-acdm, Assoc-voc, 9th, 7th-8th, 12th, Masters, 1st-4th, - 10th, Doctorate, 5th-6th, Preschool. \n",
        "- education-num: continuous. \n",
        "- marital-status: Married-civ-spouse, Divorced, Never-married, Separated, Widowed, Married-spouse-absent, Married-AF-spouse. \n",
        "- occupation: Tech-support, Craft-repair, Other-service, Sales, Exec-managerial, Prof-specialty, Handlers-cleaners, Machine-op-inspct, Adm-clerical, Farming-fishing, Transport-moving, Priv-house-serv, Protective-serv, Armed-Forces. \n",
        "- relationship: Wife, Own-child, Husband, Not-in-family, Other-relative, Unmarried. \n",
        "- race: White, Asian-Pac-Islander, Amer-Indian-Eskimo, Other, Black. \n",
        "- sex: Female, Male. \n",
        "- hours-per-week: continuous. \n",
        "- native-country: United-States, Cambodia, England, Puerto-Rico, Canada, Germany, Outlying-US(Guam-USVI-etc), India, Japan, Greece, South, China, Cuba, Iran, Honduras, Philippines, Italy, Poland, Jamaica, Vietnam, Mexico, Portugal, Ireland, France, Dominican-Republic, Laos, Ecuador, Taiwan, Haiti, Columbia, Hungary, Guatemala, Nicaragua, Scotland, Thailand, Yugoslavia, El-Salvador, Trinadad&Tobago, Peru, Hong, Holand-Netherlands.\n",
        "\n",
        "\n",
        "\n",
        "##### Labels\n",
        "- income - >50K, <=50K. "
      ]
    },
    {
      "cell_type": "markdown",
      "metadata": {
        "id": "DRd2xd3o8BwJ"
      },
      "source": [
        "# Install tensorflow\n",
        "If necessary uncomment one of the lines below"
      ]
    },
    {
      "cell_type": "code",
      "execution_count": 1,
      "metadata": {
        "id": "rlHLzfC18BwJ"
      },
      "outputs": [],
      "source": [
        "# Tensorflow installation - uncomment if necessary\n",
        "#!pip install tensorflow"
      ]
    },
    {
      "cell_type": "markdown",
      "metadata": {
        "id": "KyUuxaSX8BwK"
      },
      "source": [
        "# Imports"
      ]
    },
    {
      "cell_type": "code",
      "execution_count": 2,
      "metadata": {
        "id": "sKicj5IC8BwK"
      },
      "outputs": [],
      "source": [
        "import pandas as pd\n",
        "import numpy as np\n",
        "import tensorflow as tf\n",
        "\n",
        "import matplotlib.pyplot as plt\n",
        "%matplotlib inline"
      ]
    },
    {
      "cell_type": "markdown",
      "metadata": {
        "id": "iHPL5shI8BwL"
      },
      "source": [
        "### Load dataset"
      ]
    },
    {
      "cell_type": "code",
      "execution_count": 3,
      "metadata": {
        "id": "6Yow8vyJ8BwM",
        "outputId": "0a877eb1-520b-4990-9d50-cbe552a931a3",
        "colab": {
          "base_uri": "https://localhost:8080/",
          "height": 293
        }
      },
      "outputs": [
        {
          "output_type": "stream",
          "name": "stdout",
          "text": [
            "(32561, 12)\n",
            "Index(['age', 'workclass', 'education', 'education-num', 'marital-status',\n",
            "       'occupation', 'relationship', 'race', 'sex', 'hours-per-week',\n",
            "       'native-country', 'income'],\n",
            "      dtype='object')\n"
          ]
        },
        {
          "output_type": "execute_result",
          "data": {
            "text/plain": [
              "   age         workclass  education  education-num      marital-status  \\\n",
              "0   39         State-gov  Bachelors             13       Never-married   \n",
              "1   50  Self-emp-not-inc  Bachelors             13  Married-civ-spouse   \n",
              "2   38           Private    HS-grad              9            Divorced   \n",
              "3   53           Private       11th              7  Married-civ-spouse   \n",
              "4   28           Private  Bachelors             13  Married-civ-spouse   \n",
              "\n",
              "          occupation   relationship   race     sex  hours-per-week  \\\n",
              "0       Adm-clerical  Not-in-family  White    Male              40   \n",
              "1    Exec-managerial        Husband  White    Male              13   \n",
              "2  Handlers-cleaners  Not-in-family  White    Male              40   \n",
              "3  Handlers-cleaners        Husband  Black    Male              40   \n",
              "4     Prof-specialty           Wife  Black  Female              40   \n",
              "\n",
              "  native-country income  \n",
              "0  United-States  <=50K  \n",
              "1  United-States  <=50K  \n",
              "2  United-States  <=50K  \n",
              "3  United-States  <=50K  \n",
              "4           Cuba  <=50K  "
            ],
            "text/html": [
              "\n",
              "  <div id=\"df-3580f4ed-513c-4476-a2d4-47ecddad0170\">\n",
              "    <div class=\"colab-df-container\">\n",
              "      <div>\n",
              "<style scoped>\n",
              "    .dataframe tbody tr th:only-of-type {\n",
              "        vertical-align: middle;\n",
              "    }\n",
              "\n",
              "    .dataframe tbody tr th {\n",
              "        vertical-align: top;\n",
              "    }\n",
              "\n",
              "    .dataframe thead th {\n",
              "        text-align: right;\n",
              "    }\n",
              "</style>\n",
              "<table border=\"1\" class=\"dataframe\">\n",
              "  <thead>\n",
              "    <tr style=\"text-align: right;\">\n",
              "      <th></th>\n",
              "      <th>age</th>\n",
              "      <th>workclass</th>\n",
              "      <th>education</th>\n",
              "      <th>education-num</th>\n",
              "      <th>marital-status</th>\n",
              "      <th>occupation</th>\n",
              "      <th>relationship</th>\n",
              "      <th>race</th>\n",
              "      <th>sex</th>\n",
              "      <th>hours-per-week</th>\n",
              "      <th>native-country</th>\n",
              "      <th>income</th>\n",
              "    </tr>\n",
              "  </thead>\n",
              "  <tbody>\n",
              "    <tr>\n",
              "      <th>0</th>\n",
              "      <td>39</td>\n",
              "      <td>State-gov</td>\n",
              "      <td>Bachelors</td>\n",
              "      <td>13</td>\n",
              "      <td>Never-married</td>\n",
              "      <td>Adm-clerical</td>\n",
              "      <td>Not-in-family</td>\n",
              "      <td>White</td>\n",
              "      <td>Male</td>\n",
              "      <td>40</td>\n",
              "      <td>United-States</td>\n",
              "      <td>&lt;=50K</td>\n",
              "    </tr>\n",
              "    <tr>\n",
              "      <th>1</th>\n",
              "      <td>50</td>\n",
              "      <td>Self-emp-not-inc</td>\n",
              "      <td>Bachelors</td>\n",
              "      <td>13</td>\n",
              "      <td>Married-civ-spouse</td>\n",
              "      <td>Exec-managerial</td>\n",
              "      <td>Husband</td>\n",
              "      <td>White</td>\n",
              "      <td>Male</td>\n",
              "      <td>13</td>\n",
              "      <td>United-States</td>\n",
              "      <td>&lt;=50K</td>\n",
              "    </tr>\n",
              "    <tr>\n",
              "      <th>2</th>\n",
              "      <td>38</td>\n",
              "      <td>Private</td>\n",
              "      <td>HS-grad</td>\n",
              "      <td>9</td>\n",
              "      <td>Divorced</td>\n",
              "      <td>Handlers-cleaners</td>\n",
              "      <td>Not-in-family</td>\n",
              "      <td>White</td>\n",
              "      <td>Male</td>\n",
              "      <td>40</td>\n",
              "      <td>United-States</td>\n",
              "      <td>&lt;=50K</td>\n",
              "    </tr>\n",
              "    <tr>\n",
              "      <th>3</th>\n",
              "      <td>53</td>\n",
              "      <td>Private</td>\n",
              "      <td>11th</td>\n",
              "      <td>7</td>\n",
              "      <td>Married-civ-spouse</td>\n",
              "      <td>Handlers-cleaners</td>\n",
              "      <td>Husband</td>\n",
              "      <td>Black</td>\n",
              "      <td>Male</td>\n",
              "      <td>40</td>\n",
              "      <td>United-States</td>\n",
              "      <td>&lt;=50K</td>\n",
              "    </tr>\n",
              "    <tr>\n",
              "      <th>4</th>\n",
              "      <td>28</td>\n",
              "      <td>Private</td>\n",
              "      <td>Bachelors</td>\n",
              "      <td>13</td>\n",
              "      <td>Married-civ-spouse</td>\n",
              "      <td>Prof-specialty</td>\n",
              "      <td>Wife</td>\n",
              "      <td>Black</td>\n",
              "      <td>Female</td>\n",
              "      <td>40</td>\n",
              "      <td>Cuba</td>\n",
              "      <td>&lt;=50K</td>\n",
              "    </tr>\n",
              "  </tbody>\n",
              "</table>\n",
              "</div>\n",
              "      <button class=\"colab-df-convert\" onclick=\"convertToInteractive('df-3580f4ed-513c-4476-a2d4-47ecddad0170')\"\n",
              "              title=\"Convert this dataframe to an interactive table.\"\n",
              "              style=\"display:none;\">\n",
              "        \n",
              "  <svg xmlns=\"http://www.w3.org/2000/svg\" height=\"24px\"viewBox=\"0 0 24 24\"\n",
              "       width=\"24px\">\n",
              "    <path d=\"M0 0h24v24H0V0z\" fill=\"none\"/>\n",
              "    <path d=\"M18.56 5.44l.94 2.06.94-2.06 2.06-.94-2.06-.94-.94-2.06-.94 2.06-2.06.94zm-11 1L8.5 8.5l.94-2.06 2.06-.94-2.06-.94L8.5 2.5l-.94 2.06-2.06.94zm10 10l.94 2.06.94-2.06 2.06-.94-2.06-.94-.94-2.06-.94 2.06-2.06.94z\"/><path d=\"M17.41 7.96l-1.37-1.37c-.4-.4-.92-.59-1.43-.59-.52 0-1.04.2-1.43.59L10.3 9.45l-7.72 7.72c-.78.78-.78 2.05 0 2.83L4 21.41c.39.39.9.59 1.41.59.51 0 1.02-.2 1.41-.59l7.78-7.78 2.81-2.81c.8-.78.8-2.07 0-2.86zM5.41 20L4 18.59l7.72-7.72 1.47 1.35L5.41 20z\"/>\n",
              "  </svg>\n",
              "      </button>\n",
              "      \n",
              "  <style>\n",
              "    .colab-df-container {\n",
              "      display:flex;\n",
              "      flex-wrap:wrap;\n",
              "      gap: 12px;\n",
              "    }\n",
              "\n",
              "    .colab-df-convert {\n",
              "      background-color: #E8F0FE;\n",
              "      border: none;\n",
              "      border-radius: 50%;\n",
              "      cursor: pointer;\n",
              "      display: none;\n",
              "      fill: #1967D2;\n",
              "      height: 32px;\n",
              "      padding: 0 0 0 0;\n",
              "      width: 32px;\n",
              "    }\n",
              "\n",
              "    .colab-df-convert:hover {\n",
              "      background-color: #E2EBFA;\n",
              "      box-shadow: 0px 1px 2px rgba(60, 64, 67, 0.3), 0px 1px 3px 1px rgba(60, 64, 67, 0.15);\n",
              "      fill: #174EA6;\n",
              "    }\n",
              "\n",
              "    [theme=dark] .colab-df-convert {\n",
              "      background-color: #3B4455;\n",
              "      fill: #D2E3FC;\n",
              "    }\n",
              "\n",
              "    [theme=dark] .colab-df-convert:hover {\n",
              "      background-color: #434B5C;\n",
              "      box-shadow: 0px 1px 3px 1px rgba(0, 0, 0, 0.15);\n",
              "      filter: drop-shadow(0px 1px 2px rgba(0, 0, 0, 0.3));\n",
              "      fill: #FFFFFF;\n",
              "    }\n",
              "  </style>\n",
              "\n",
              "      <script>\n",
              "        const buttonEl =\n",
              "          document.querySelector('#df-3580f4ed-513c-4476-a2d4-47ecddad0170 button.colab-df-convert');\n",
              "        buttonEl.style.display =\n",
              "          google.colab.kernel.accessAllowed ? 'block' : 'none';\n",
              "\n",
              "        async function convertToInteractive(key) {\n",
              "          const element = document.querySelector('#df-3580f4ed-513c-4476-a2d4-47ecddad0170');\n",
              "          const dataTable =\n",
              "            await google.colab.kernel.invokeFunction('convertToInteractive',\n",
              "                                                     [key], {});\n",
              "          if (!dataTable) return;\n",
              "\n",
              "          const docLinkHtml = 'Like what you see? Visit the ' +\n",
              "            '<a target=\"_blank\" href=https://colab.research.google.com/notebooks/data_table.ipynb>data table notebook</a>'\n",
              "            + ' to learn more about interactive tables.';\n",
              "          element.innerHTML = '';\n",
              "          dataTable['output_type'] = 'display_data';\n",
              "          await google.colab.output.renderOutput(dataTable, element);\n",
              "          const docLink = document.createElement('div');\n",
              "          docLink.innerHTML = docLinkHtml;\n",
              "          element.appendChild(docLink);\n",
              "        }\n",
              "      </script>\n",
              "    </div>\n",
              "  </div>\n",
              "  "
            ]
          },
          "metadata": {},
          "execution_count": 3
        }
      ],
      "source": [
        "df = pd.read_csv(\"https://github.com/PrzemekSekula/DeepLearningClasses1/raw/master/data/census.csv\")\n",
        "\n",
        "\n",
        "print(df.shape)\n",
        "print(df.columns)\n",
        "df.head()\n"
      ]
    },
    {
      "cell_type": "markdown",
      "metadata": {
        "id": "X4VFNZb38BwM"
      },
      "source": [
        "# Data preparation\n",
        "### Selecting columns\n",
        "Personaly I decided to delete the following columns:\n",
        "- education - we have education-num, this is enough\n",
        "- marital status - too many classes\n",
        "- relationship - I am not sure if it is useful, and there are many classes\n",
        "- race - I am not sure if it is useful\n",
        "- native-country - too many classes\n",
        "\n",
        "**I deleted many columns just to make the task easier to read. Students are encouraged to experiment with the columns and check if they can improve the results.**\n"
      ]
    },
    {
      "cell_type": "code",
      "execution_count": 4,
      "metadata": {
        "id": "wztDeR928BwM",
        "outputId": "10b370d1-88ba-402f-e605-da781a155c07",
        "colab": {
          "base_uri": "https://localhost:8080/",
          "height": 206
        }
      },
      "outputs": [
        {
          "output_type": "execute_result",
          "data": {
            "text/plain": [
              "   age         workclass  education-num         occupation     sex  \\\n",
              "0   39         State-gov             13       Adm-clerical    Male   \n",
              "1   50  Self-emp-not-inc             13    Exec-managerial    Male   \n",
              "2   38           Private              9  Handlers-cleaners    Male   \n",
              "3   53           Private              7  Handlers-cleaners    Male   \n",
              "4   28           Private             13     Prof-specialty  Female   \n",
              "\n",
              "   hours-per-week income  \n",
              "0              40  <=50K  \n",
              "1              13  <=50K  \n",
              "2              40  <=50K  \n",
              "3              40  <=50K  \n",
              "4              40  <=50K  "
            ],
            "text/html": [
              "\n",
              "  <div id=\"df-20193390-cfc0-4318-aeaa-eb325bfd3044\">\n",
              "    <div class=\"colab-df-container\">\n",
              "      <div>\n",
              "<style scoped>\n",
              "    .dataframe tbody tr th:only-of-type {\n",
              "        vertical-align: middle;\n",
              "    }\n",
              "\n",
              "    .dataframe tbody tr th {\n",
              "        vertical-align: top;\n",
              "    }\n",
              "\n",
              "    .dataframe thead th {\n",
              "        text-align: right;\n",
              "    }\n",
              "</style>\n",
              "<table border=\"1\" class=\"dataframe\">\n",
              "  <thead>\n",
              "    <tr style=\"text-align: right;\">\n",
              "      <th></th>\n",
              "      <th>age</th>\n",
              "      <th>workclass</th>\n",
              "      <th>education-num</th>\n",
              "      <th>occupation</th>\n",
              "      <th>sex</th>\n",
              "      <th>hours-per-week</th>\n",
              "      <th>income</th>\n",
              "    </tr>\n",
              "  </thead>\n",
              "  <tbody>\n",
              "    <tr>\n",
              "      <th>0</th>\n",
              "      <td>39</td>\n",
              "      <td>State-gov</td>\n",
              "      <td>13</td>\n",
              "      <td>Adm-clerical</td>\n",
              "      <td>Male</td>\n",
              "      <td>40</td>\n",
              "      <td>&lt;=50K</td>\n",
              "    </tr>\n",
              "    <tr>\n",
              "      <th>1</th>\n",
              "      <td>50</td>\n",
              "      <td>Self-emp-not-inc</td>\n",
              "      <td>13</td>\n",
              "      <td>Exec-managerial</td>\n",
              "      <td>Male</td>\n",
              "      <td>13</td>\n",
              "      <td>&lt;=50K</td>\n",
              "    </tr>\n",
              "    <tr>\n",
              "      <th>2</th>\n",
              "      <td>38</td>\n",
              "      <td>Private</td>\n",
              "      <td>9</td>\n",
              "      <td>Handlers-cleaners</td>\n",
              "      <td>Male</td>\n",
              "      <td>40</td>\n",
              "      <td>&lt;=50K</td>\n",
              "    </tr>\n",
              "    <tr>\n",
              "      <th>3</th>\n",
              "      <td>53</td>\n",
              "      <td>Private</td>\n",
              "      <td>7</td>\n",
              "      <td>Handlers-cleaners</td>\n",
              "      <td>Male</td>\n",
              "      <td>40</td>\n",
              "      <td>&lt;=50K</td>\n",
              "    </tr>\n",
              "    <tr>\n",
              "      <th>4</th>\n",
              "      <td>28</td>\n",
              "      <td>Private</td>\n",
              "      <td>13</td>\n",
              "      <td>Prof-specialty</td>\n",
              "      <td>Female</td>\n",
              "      <td>40</td>\n",
              "      <td>&lt;=50K</td>\n",
              "    </tr>\n",
              "  </tbody>\n",
              "</table>\n",
              "</div>\n",
              "      <button class=\"colab-df-convert\" onclick=\"convertToInteractive('df-20193390-cfc0-4318-aeaa-eb325bfd3044')\"\n",
              "              title=\"Convert this dataframe to an interactive table.\"\n",
              "              style=\"display:none;\">\n",
              "        \n",
              "  <svg xmlns=\"http://www.w3.org/2000/svg\" height=\"24px\"viewBox=\"0 0 24 24\"\n",
              "       width=\"24px\">\n",
              "    <path d=\"M0 0h24v24H0V0z\" fill=\"none\"/>\n",
              "    <path d=\"M18.56 5.44l.94 2.06.94-2.06 2.06-.94-2.06-.94-.94-2.06-.94 2.06-2.06.94zm-11 1L8.5 8.5l.94-2.06 2.06-.94-2.06-.94L8.5 2.5l-.94 2.06-2.06.94zm10 10l.94 2.06.94-2.06 2.06-.94-2.06-.94-.94-2.06-.94 2.06-2.06.94z\"/><path d=\"M17.41 7.96l-1.37-1.37c-.4-.4-.92-.59-1.43-.59-.52 0-1.04.2-1.43.59L10.3 9.45l-7.72 7.72c-.78.78-.78 2.05 0 2.83L4 21.41c.39.39.9.59 1.41.59.51 0 1.02-.2 1.41-.59l7.78-7.78 2.81-2.81c.8-.78.8-2.07 0-2.86zM5.41 20L4 18.59l7.72-7.72 1.47 1.35L5.41 20z\"/>\n",
              "  </svg>\n",
              "      </button>\n",
              "      \n",
              "  <style>\n",
              "    .colab-df-container {\n",
              "      display:flex;\n",
              "      flex-wrap:wrap;\n",
              "      gap: 12px;\n",
              "    }\n",
              "\n",
              "    .colab-df-convert {\n",
              "      background-color: #E8F0FE;\n",
              "      border: none;\n",
              "      border-radius: 50%;\n",
              "      cursor: pointer;\n",
              "      display: none;\n",
              "      fill: #1967D2;\n",
              "      height: 32px;\n",
              "      padding: 0 0 0 0;\n",
              "      width: 32px;\n",
              "    }\n",
              "\n",
              "    .colab-df-convert:hover {\n",
              "      background-color: #E2EBFA;\n",
              "      box-shadow: 0px 1px 2px rgba(60, 64, 67, 0.3), 0px 1px 3px 1px rgba(60, 64, 67, 0.15);\n",
              "      fill: #174EA6;\n",
              "    }\n",
              "\n",
              "    [theme=dark] .colab-df-convert {\n",
              "      background-color: #3B4455;\n",
              "      fill: #D2E3FC;\n",
              "    }\n",
              "\n",
              "    [theme=dark] .colab-df-convert:hover {\n",
              "      background-color: #434B5C;\n",
              "      box-shadow: 0px 1px 3px 1px rgba(0, 0, 0, 0.15);\n",
              "      filter: drop-shadow(0px 1px 2px rgba(0, 0, 0, 0.3));\n",
              "      fill: #FFFFFF;\n",
              "    }\n",
              "  </style>\n",
              "\n",
              "      <script>\n",
              "        const buttonEl =\n",
              "          document.querySelector('#df-20193390-cfc0-4318-aeaa-eb325bfd3044 button.colab-df-convert');\n",
              "        buttonEl.style.display =\n",
              "          google.colab.kernel.accessAllowed ? 'block' : 'none';\n",
              "\n",
              "        async function convertToInteractive(key) {\n",
              "          const element = document.querySelector('#df-20193390-cfc0-4318-aeaa-eb325bfd3044');\n",
              "          const dataTable =\n",
              "            await google.colab.kernel.invokeFunction('convertToInteractive',\n",
              "                                                     [key], {});\n",
              "          if (!dataTable) return;\n",
              "\n",
              "          const docLinkHtml = 'Like what you see? Visit the ' +\n",
              "            '<a target=\"_blank\" href=https://colab.research.google.com/notebooks/data_table.ipynb>data table notebook</a>'\n",
              "            + ' to learn more about interactive tables.';\n",
              "          element.innerHTML = '';\n",
              "          dataTable['output_type'] = 'display_data';\n",
              "          await google.colab.output.renderOutput(dataTable, element);\n",
              "          const docLink = document.createElement('div');\n",
              "          docLink.innerHTML = docLinkHtml;\n",
              "          element.appendChild(docLink);\n",
              "        }\n",
              "      </script>\n",
              "    </div>\n",
              "  </div>\n",
              "  "
            ]
          },
          "metadata": {},
          "execution_count": 4
        }
      ],
      "source": [
        "df = df[['age', 'workclass', 'education-num', 'occupation', \n",
        "         'sex', 'hours-per-week', 'income']]\n",
        "\n",
        "df.head()"
      ]
    },
    {
      "cell_type": "markdown",
      "metadata": {
        "id": "_ib4IW9J8BwN"
      },
      "source": [
        "### Data preprocessing"
      ]
    },
    {
      "cell_type": "markdown",
      "metadata": {
        "id": "iZCOAqyB8BwN"
      },
      "source": [
        "#### First step - change the labels into binary values."
      ]
    },
    {
      "cell_type": "code",
      "execution_count": 5,
      "metadata": {
        "id": "-UnLm6Ca8BwN",
        "outputId": "18574f9c-1786-42b7-dd0d-3b4e100d8927",
        "colab": {
          "base_uri": "https://localhost:8080/",
          "height": 414
        }
      },
      "outputs": [
        {
          "output_type": "stream",
          "name": "stdout",
          "text": [
            "<bound method IndexOpsMixin.value_counts of 0        0\n",
            "1        0\n",
            "2        0\n",
            "3        0\n",
            "4        0\n",
            "        ..\n",
            "32556    0\n",
            "32557    1\n",
            "32558    0\n",
            "32559    0\n",
            "32560    1\n",
            "Name: income, Length: 32561, dtype: int64>\n"
          ]
        },
        {
          "output_type": "execute_result",
          "data": {
            "text/plain": [
              "   age         workclass  education-num         occupation     sex  \\\n",
              "0   39         State-gov             13       Adm-clerical    Male   \n",
              "1   50  Self-emp-not-inc             13    Exec-managerial    Male   \n",
              "2   38           Private              9  Handlers-cleaners    Male   \n",
              "3   53           Private              7  Handlers-cleaners    Male   \n",
              "4   28           Private             13     Prof-specialty  Female   \n",
              "\n",
              "   hours-per-week  income  \n",
              "0              40       0  \n",
              "1              13       0  \n",
              "2              40       0  \n",
              "3              40       0  \n",
              "4              40       0  "
            ],
            "text/html": [
              "\n",
              "  <div id=\"df-772426aa-4d41-43ac-afa4-5e456f49f0c5\">\n",
              "    <div class=\"colab-df-container\">\n",
              "      <div>\n",
              "<style scoped>\n",
              "    .dataframe tbody tr th:only-of-type {\n",
              "        vertical-align: middle;\n",
              "    }\n",
              "\n",
              "    .dataframe tbody tr th {\n",
              "        vertical-align: top;\n",
              "    }\n",
              "\n",
              "    .dataframe thead th {\n",
              "        text-align: right;\n",
              "    }\n",
              "</style>\n",
              "<table border=\"1\" class=\"dataframe\">\n",
              "  <thead>\n",
              "    <tr style=\"text-align: right;\">\n",
              "      <th></th>\n",
              "      <th>age</th>\n",
              "      <th>workclass</th>\n",
              "      <th>education-num</th>\n",
              "      <th>occupation</th>\n",
              "      <th>sex</th>\n",
              "      <th>hours-per-week</th>\n",
              "      <th>income</th>\n",
              "    </tr>\n",
              "  </thead>\n",
              "  <tbody>\n",
              "    <tr>\n",
              "      <th>0</th>\n",
              "      <td>39</td>\n",
              "      <td>State-gov</td>\n",
              "      <td>13</td>\n",
              "      <td>Adm-clerical</td>\n",
              "      <td>Male</td>\n",
              "      <td>40</td>\n",
              "      <td>0</td>\n",
              "    </tr>\n",
              "    <tr>\n",
              "      <th>1</th>\n",
              "      <td>50</td>\n",
              "      <td>Self-emp-not-inc</td>\n",
              "      <td>13</td>\n",
              "      <td>Exec-managerial</td>\n",
              "      <td>Male</td>\n",
              "      <td>13</td>\n",
              "      <td>0</td>\n",
              "    </tr>\n",
              "    <tr>\n",
              "      <th>2</th>\n",
              "      <td>38</td>\n",
              "      <td>Private</td>\n",
              "      <td>9</td>\n",
              "      <td>Handlers-cleaners</td>\n",
              "      <td>Male</td>\n",
              "      <td>40</td>\n",
              "      <td>0</td>\n",
              "    </tr>\n",
              "    <tr>\n",
              "      <th>3</th>\n",
              "      <td>53</td>\n",
              "      <td>Private</td>\n",
              "      <td>7</td>\n",
              "      <td>Handlers-cleaners</td>\n",
              "      <td>Male</td>\n",
              "      <td>40</td>\n",
              "      <td>0</td>\n",
              "    </tr>\n",
              "    <tr>\n",
              "      <th>4</th>\n",
              "      <td>28</td>\n",
              "      <td>Private</td>\n",
              "      <td>13</td>\n",
              "      <td>Prof-specialty</td>\n",
              "      <td>Female</td>\n",
              "      <td>40</td>\n",
              "      <td>0</td>\n",
              "    </tr>\n",
              "  </tbody>\n",
              "</table>\n",
              "</div>\n",
              "      <button class=\"colab-df-convert\" onclick=\"convertToInteractive('df-772426aa-4d41-43ac-afa4-5e456f49f0c5')\"\n",
              "              title=\"Convert this dataframe to an interactive table.\"\n",
              "              style=\"display:none;\">\n",
              "        \n",
              "  <svg xmlns=\"http://www.w3.org/2000/svg\" height=\"24px\"viewBox=\"0 0 24 24\"\n",
              "       width=\"24px\">\n",
              "    <path d=\"M0 0h24v24H0V0z\" fill=\"none\"/>\n",
              "    <path d=\"M18.56 5.44l.94 2.06.94-2.06 2.06-.94-2.06-.94-.94-2.06-.94 2.06-2.06.94zm-11 1L8.5 8.5l.94-2.06 2.06-.94-2.06-.94L8.5 2.5l-.94 2.06-2.06.94zm10 10l.94 2.06.94-2.06 2.06-.94-2.06-.94-.94-2.06-.94 2.06-2.06.94z\"/><path d=\"M17.41 7.96l-1.37-1.37c-.4-.4-.92-.59-1.43-.59-.52 0-1.04.2-1.43.59L10.3 9.45l-7.72 7.72c-.78.78-.78 2.05 0 2.83L4 21.41c.39.39.9.59 1.41.59.51 0 1.02-.2 1.41-.59l7.78-7.78 2.81-2.81c.8-.78.8-2.07 0-2.86zM5.41 20L4 18.59l7.72-7.72 1.47 1.35L5.41 20z\"/>\n",
              "  </svg>\n",
              "      </button>\n",
              "      \n",
              "  <style>\n",
              "    .colab-df-container {\n",
              "      display:flex;\n",
              "      flex-wrap:wrap;\n",
              "      gap: 12px;\n",
              "    }\n",
              "\n",
              "    .colab-df-convert {\n",
              "      background-color: #E8F0FE;\n",
              "      border: none;\n",
              "      border-radius: 50%;\n",
              "      cursor: pointer;\n",
              "      display: none;\n",
              "      fill: #1967D2;\n",
              "      height: 32px;\n",
              "      padding: 0 0 0 0;\n",
              "      width: 32px;\n",
              "    }\n",
              "\n",
              "    .colab-df-convert:hover {\n",
              "      background-color: #E2EBFA;\n",
              "      box-shadow: 0px 1px 2px rgba(60, 64, 67, 0.3), 0px 1px 3px 1px rgba(60, 64, 67, 0.15);\n",
              "      fill: #174EA6;\n",
              "    }\n",
              "\n",
              "    [theme=dark] .colab-df-convert {\n",
              "      background-color: #3B4455;\n",
              "      fill: #D2E3FC;\n",
              "    }\n",
              "\n",
              "    [theme=dark] .colab-df-convert:hover {\n",
              "      background-color: #434B5C;\n",
              "      box-shadow: 0px 1px 3px 1px rgba(0, 0, 0, 0.15);\n",
              "      filter: drop-shadow(0px 1px 2px rgba(0, 0, 0, 0.3));\n",
              "      fill: #FFFFFF;\n",
              "    }\n",
              "  </style>\n",
              "\n",
              "      <script>\n",
              "        const buttonEl =\n",
              "          document.querySelector('#df-772426aa-4d41-43ac-afa4-5e456f49f0c5 button.colab-df-convert');\n",
              "        buttonEl.style.display =\n",
              "          google.colab.kernel.accessAllowed ? 'block' : 'none';\n",
              "\n",
              "        async function convertToInteractive(key) {\n",
              "          const element = document.querySelector('#df-772426aa-4d41-43ac-afa4-5e456f49f0c5');\n",
              "          const dataTable =\n",
              "            await google.colab.kernel.invokeFunction('convertToInteractive',\n",
              "                                                     [key], {});\n",
              "          if (!dataTable) return;\n",
              "\n",
              "          const docLinkHtml = 'Like what you see? Visit the ' +\n",
              "            '<a target=\"_blank\" href=https://colab.research.google.com/notebooks/data_table.ipynb>data table notebook</a>'\n",
              "            + ' to learn more about interactive tables.';\n",
              "          element.innerHTML = '';\n",
              "          dataTable['output_type'] = 'display_data';\n",
              "          await google.colab.output.renderOutput(dataTable, element);\n",
              "          const docLink = document.createElement('div');\n",
              "          docLink.innerHTML = docLinkHtml;\n",
              "          element.appendChild(docLink);\n",
              "        }\n",
              "      </script>\n",
              "    </div>\n",
              "  </div>\n",
              "  "
            ]
          },
          "metadata": {},
          "execution_count": 5
        }
      ],
      "source": [
        "df.income = (df.income == '>50K').astype(int)\n",
        "print(df.income.value_counts)\n",
        "df.head()"
      ]
    },
    {
      "cell_type": "markdown",
      "metadata": {
        "id": "ilJWKhrp8BwO"
      },
      "source": [
        "#### Second step - change the `sex` column into binary values"
      ]
    },
    {
      "cell_type": "code",
      "execution_count": 7,
      "metadata": {
        "id": "nYL3tyrx8BwO",
        "outputId": "a1552846-07c8-40e4-8e70-89ea2eb57cd6",
        "colab": {
          "base_uri": "https://localhost:8080/",
          "height": 206
        }
      },
      "outputs": [
        {
          "output_type": "execute_result",
          "data": {
            "text/plain": [
              "   age         workclass  education-num         occupation  hours-per-week  \\\n",
              "0   39         State-gov             13       Adm-clerical              40   \n",
              "1   50  Self-emp-not-inc             13    Exec-managerial              13   \n",
              "2   38           Private              9  Handlers-cleaners              40   \n",
              "3   53           Private              7  Handlers-cleaners              40   \n",
              "4   28           Private             13     Prof-specialty              40   \n",
              "\n",
              "   income  sex_Male  \n",
              "0       0         1  \n",
              "1       0         1  \n",
              "2       0         1  \n",
              "3       0         1  \n",
              "4       0         0  "
            ],
            "text/html": [
              "\n",
              "  <div id=\"df-1c047e09-ab44-4099-b458-7beb254d59fe\">\n",
              "    <div class=\"colab-df-container\">\n",
              "      <div>\n",
              "<style scoped>\n",
              "    .dataframe tbody tr th:only-of-type {\n",
              "        vertical-align: middle;\n",
              "    }\n",
              "\n",
              "    .dataframe tbody tr th {\n",
              "        vertical-align: top;\n",
              "    }\n",
              "\n",
              "    .dataframe thead th {\n",
              "        text-align: right;\n",
              "    }\n",
              "</style>\n",
              "<table border=\"1\" class=\"dataframe\">\n",
              "  <thead>\n",
              "    <tr style=\"text-align: right;\">\n",
              "      <th></th>\n",
              "      <th>age</th>\n",
              "      <th>workclass</th>\n",
              "      <th>education-num</th>\n",
              "      <th>occupation</th>\n",
              "      <th>hours-per-week</th>\n",
              "      <th>income</th>\n",
              "      <th>sex_Male</th>\n",
              "    </tr>\n",
              "  </thead>\n",
              "  <tbody>\n",
              "    <tr>\n",
              "      <th>0</th>\n",
              "      <td>39</td>\n",
              "      <td>State-gov</td>\n",
              "      <td>13</td>\n",
              "      <td>Adm-clerical</td>\n",
              "      <td>40</td>\n",
              "      <td>0</td>\n",
              "      <td>1</td>\n",
              "    </tr>\n",
              "    <tr>\n",
              "      <th>1</th>\n",
              "      <td>50</td>\n",
              "      <td>Self-emp-not-inc</td>\n",
              "      <td>13</td>\n",
              "      <td>Exec-managerial</td>\n",
              "      <td>13</td>\n",
              "      <td>0</td>\n",
              "      <td>1</td>\n",
              "    </tr>\n",
              "    <tr>\n",
              "      <th>2</th>\n",
              "      <td>38</td>\n",
              "      <td>Private</td>\n",
              "      <td>9</td>\n",
              "      <td>Handlers-cleaners</td>\n",
              "      <td>40</td>\n",
              "      <td>0</td>\n",
              "      <td>1</td>\n",
              "    </tr>\n",
              "    <tr>\n",
              "      <th>3</th>\n",
              "      <td>53</td>\n",
              "      <td>Private</td>\n",
              "      <td>7</td>\n",
              "      <td>Handlers-cleaners</td>\n",
              "      <td>40</td>\n",
              "      <td>0</td>\n",
              "      <td>1</td>\n",
              "    </tr>\n",
              "    <tr>\n",
              "      <th>4</th>\n",
              "      <td>28</td>\n",
              "      <td>Private</td>\n",
              "      <td>13</td>\n",
              "      <td>Prof-specialty</td>\n",
              "      <td>40</td>\n",
              "      <td>0</td>\n",
              "      <td>0</td>\n",
              "    </tr>\n",
              "  </tbody>\n",
              "</table>\n",
              "</div>\n",
              "      <button class=\"colab-df-convert\" onclick=\"convertToInteractive('df-1c047e09-ab44-4099-b458-7beb254d59fe')\"\n",
              "              title=\"Convert this dataframe to an interactive table.\"\n",
              "              style=\"display:none;\">\n",
              "        \n",
              "  <svg xmlns=\"http://www.w3.org/2000/svg\" height=\"24px\"viewBox=\"0 0 24 24\"\n",
              "       width=\"24px\">\n",
              "    <path d=\"M0 0h24v24H0V0z\" fill=\"none\"/>\n",
              "    <path d=\"M18.56 5.44l.94 2.06.94-2.06 2.06-.94-2.06-.94-.94-2.06-.94 2.06-2.06.94zm-11 1L8.5 8.5l.94-2.06 2.06-.94-2.06-.94L8.5 2.5l-.94 2.06-2.06.94zm10 10l.94 2.06.94-2.06 2.06-.94-2.06-.94-.94-2.06-.94 2.06-2.06.94z\"/><path d=\"M17.41 7.96l-1.37-1.37c-.4-.4-.92-.59-1.43-.59-.52 0-1.04.2-1.43.59L10.3 9.45l-7.72 7.72c-.78.78-.78 2.05 0 2.83L4 21.41c.39.39.9.59 1.41.59.51 0 1.02-.2 1.41-.59l7.78-7.78 2.81-2.81c.8-.78.8-2.07 0-2.86zM5.41 20L4 18.59l7.72-7.72 1.47 1.35L5.41 20z\"/>\n",
              "  </svg>\n",
              "      </button>\n",
              "      \n",
              "  <style>\n",
              "    .colab-df-container {\n",
              "      display:flex;\n",
              "      flex-wrap:wrap;\n",
              "      gap: 12px;\n",
              "    }\n",
              "\n",
              "    .colab-df-convert {\n",
              "      background-color: #E8F0FE;\n",
              "      border: none;\n",
              "      border-radius: 50%;\n",
              "      cursor: pointer;\n",
              "      display: none;\n",
              "      fill: #1967D2;\n",
              "      height: 32px;\n",
              "      padding: 0 0 0 0;\n",
              "      width: 32px;\n",
              "    }\n",
              "\n",
              "    .colab-df-convert:hover {\n",
              "      background-color: #E2EBFA;\n",
              "      box-shadow: 0px 1px 2px rgba(60, 64, 67, 0.3), 0px 1px 3px 1px rgba(60, 64, 67, 0.15);\n",
              "      fill: #174EA6;\n",
              "    }\n",
              "\n",
              "    [theme=dark] .colab-df-convert {\n",
              "      background-color: #3B4455;\n",
              "      fill: #D2E3FC;\n",
              "    }\n",
              "\n",
              "    [theme=dark] .colab-df-convert:hover {\n",
              "      background-color: #434B5C;\n",
              "      box-shadow: 0px 1px 3px 1px rgba(0, 0, 0, 0.15);\n",
              "      filter: drop-shadow(0px 1px 2px rgba(0, 0, 0, 0.3));\n",
              "      fill: #FFFFFF;\n",
              "    }\n",
              "  </style>\n",
              "\n",
              "      <script>\n",
              "        const buttonEl =\n",
              "          document.querySelector('#df-1c047e09-ab44-4099-b458-7beb254d59fe button.colab-df-convert');\n",
              "        buttonEl.style.display =\n",
              "          google.colab.kernel.accessAllowed ? 'block' : 'none';\n",
              "\n",
              "        async function convertToInteractive(key) {\n",
              "          const element = document.querySelector('#df-1c047e09-ab44-4099-b458-7beb254d59fe');\n",
              "          const dataTable =\n",
              "            await google.colab.kernel.invokeFunction('convertToInteractive',\n",
              "                                                     [key], {});\n",
              "          if (!dataTable) return;\n",
              "\n",
              "          const docLinkHtml = 'Like what you see? Visit the ' +\n",
              "            '<a target=\"_blank\" href=https://colab.research.google.com/notebooks/data_table.ipynb>data table notebook</a>'\n",
              "            + ' to learn more about interactive tables.';\n",
              "          element.innerHTML = '';\n",
              "          dataTable['output_type'] = 'display_data';\n",
              "          await google.colab.output.renderOutput(dataTable, element);\n",
              "          const docLink = document.createElement('div');\n",
              "          docLink.innerHTML = docLinkHtml;\n",
              "          element.appendChild(docLink);\n",
              "        }\n",
              "      </script>\n",
              "    </div>\n",
              "  </div>\n",
              "  "
            ]
          },
          "metadata": {},
          "execution_count": 7
        }
      ],
      "source": [
        "df = pd.get_dummies(df, columns=['sex'], drop_first=True)\n",
        "df.head()"
      ]
    },
    {
      "cell_type": "markdown",
      "metadata": {
        "id": "ht5-Ux_V8BwO"
      },
      "source": [
        "#### Third step - replace rare classes"
      ]
    },
    {
      "cell_type": "markdown",
      "metadata": {
        "id": "ruqQosbL8BwO"
      },
      "source": [
        "Let's check if we have any rare classes"
      ]
    },
    {
      "cell_type": "code",
      "execution_count": 8,
      "metadata": {
        "id": "t9Jl2f9r8BwP",
        "outputId": "26a46023-fc5c-47f3-cc6a-1725f88d3b04",
        "colab": {
          "base_uri": "https://localhost:8080/"
        }
      },
      "outputs": [
        {
          "output_type": "execute_result",
          "data": {
            "text/plain": [
              "Private             22696\n",
              "Self-emp-not-inc     2541\n",
              "Local-gov            2093\n",
              "?                    1836\n",
              "State-gov            1298\n",
              "Self-emp-inc         1116\n",
              "Federal-gov           960\n",
              "Without-pay            14\n",
              "Never-worked            7\n",
              "Name: workclass, dtype: int64"
            ]
          },
          "metadata": {},
          "execution_count": 8
        }
      ],
      "source": [
        "df.workclass.value_counts()"
      ]
    },
    {
      "cell_type": "code",
      "execution_count": 9,
      "metadata": {
        "id": "lzV2c_x58BwP",
        "outputId": "786f269b-c2fe-4b28-86d3-c792d58da3e2",
        "colab": {
          "base_uri": "https://localhost:8080/"
        }
      },
      "outputs": [
        {
          "output_type": "execute_result",
          "data": {
            "text/plain": [
              "Prof-specialty       4140\n",
              "Craft-repair         4099\n",
              "Exec-managerial      4066\n",
              "Adm-clerical         3770\n",
              "Sales                3650\n",
              "Other-service        3295\n",
              "Machine-op-inspct    2002\n",
              "?                    1843\n",
              "Transport-moving     1597\n",
              "Handlers-cleaners    1370\n",
              "Farming-fishing       994\n",
              "Tech-support          928\n",
              "Protective-serv       649\n",
              "Priv-house-serv       149\n",
              "Armed-Forces            9\n",
              "Name: occupation, dtype: int64"
            ]
          },
          "metadata": {},
          "execution_count": 9
        }
      ],
      "source": [
        "df.occupation.value_counts()"
      ]
    },
    {
      "cell_type": "markdown",
      "metadata": {
        "id": "W0PLQ3A18BwP"
      },
      "source": [
        "Then we should replace rare classes for one-hot encoded columns"
      ]
    },
    {
      "cell_type": "code",
      "execution_count": 10,
      "metadata": {
        "id": "rsttz0Hg8BwP",
        "outputId": "0bee6d10-d486-4737-dde8-1603d54af88d",
        "colab": {
          "base_uri": "https://localhost:8080/"
        }
      },
      "outputs": [
        {
          "output_type": "execute_result",
          "data": {
            "text/plain": [
              "Private             22696\n",
              "Self-emp-not-inc     2541\n",
              "Local-gov            2093\n",
              "?                    1857\n",
              "State-gov            1298\n",
              "Self-emp-inc         1116\n",
              "Federal-gov           960\n",
              "Name: workclass, dtype: int64"
            ]
          },
          "metadata": {},
          "execution_count": 10
        }
      ],
      "source": [
        "df.loc[df.workclass.isin(['Without-pay', 'Never-worked']), 'workclass'] = '?'\n",
        "df.workclass.value_counts()"
      ]
    },
    {
      "cell_type": "code",
      "execution_count": 11,
      "metadata": {
        "id": "JKo_rlLi8BwP",
        "outputId": "224e282a-d7be-4a6d-a9a5-43865bfe1f07",
        "colab": {
          "base_uri": "https://localhost:8080/"
        }
      },
      "outputs": [
        {
          "output_type": "execute_result",
          "data": {
            "text/plain": [
              "Prof-specialty       4140\n",
              "Craft-repair         4099\n",
              "Exec-managerial      4066\n",
              "Adm-clerical         3770\n",
              "Sales                3650\n",
              "Other-service        3295\n",
              "?                    2650\n",
              "Machine-op-inspct    2002\n",
              "Transport-moving     1597\n",
              "Handlers-cleaners    1370\n",
              "Farming-fishing       994\n",
              "Tech-support          928\n",
              "Name: occupation, dtype: int64"
            ]
          },
          "metadata": {},
          "execution_count": 11
        }
      ],
      "source": [
        "df.loc[df.occupation.isin(['Protective-serv', 'Priv-house-serv', 'Armed-Forces']), 'occupation'] = '?'\n",
        "df.occupation.value_counts()"
      ]
    },
    {
      "cell_type": "markdown",
      "metadata": {
        "id": "4V8JONxh8BwQ"
      },
      "source": [
        "#### Final step - one hot encoding"
      ]
    },
    {
      "cell_type": "code",
      "execution_count": 12,
      "metadata": {
        "id": "y0xY4Rvd8BwQ",
        "outputId": "046e3d77-06d3-4c56-a5c8-3daa36581d72",
        "colab": {
          "base_uri": "https://localhost:8080/",
          "height": 542
        }
      },
      "outputs": [
        {
          "output_type": "stream",
          "name": "stdout",
          "text": [
            "(32561, 24)\n",
            "Index(['age', 'education-num', 'hours-per-week', 'income', 'sex_Male',\n",
            "       'workclass_?', 'workclass_Federal-gov', 'workclass_Local-gov',\n",
            "       'workclass_Private', 'workclass_Self-emp-inc',\n",
            "       'workclass_Self-emp-not-inc', 'workclass_State-gov', 'occupation_?',\n",
            "       'occupation_Adm-clerical', 'occupation_Craft-repair',\n",
            "       'occupation_Exec-managerial', 'occupation_Farming-fishing',\n",
            "       'occupation_Handlers-cleaners', 'occupation_Machine-op-inspct',\n",
            "       'occupation_Other-service', 'occupation_Prof-specialty',\n",
            "       'occupation_Sales', 'occupation_Tech-support',\n",
            "       'occupation_Transport-moving'],\n",
            "      dtype='object')\n"
          ]
        },
        {
          "output_type": "execute_result",
          "data": {
            "text/plain": [
              "   age  education-num  hours-per-week  income  sex_Male  workclass_?  \\\n",
              "0   39             13              40       0         1            0   \n",
              "1   50             13              13       0         1            0   \n",
              "2   38              9              40       0         1            0   \n",
              "3   53              7              40       0         1            0   \n",
              "4   28             13              40       0         0            0   \n",
              "\n",
              "   workclass_Federal-gov  workclass_Local-gov  workclass_Private  \\\n",
              "0                      0                    0                  0   \n",
              "1                      0                    0                  0   \n",
              "2                      0                    0                  1   \n",
              "3                      0                    0                  1   \n",
              "4                      0                    0                  1   \n",
              "\n",
              "   workclass_Self-emp-inc  ...  occupation_Craft-repair  \\\n",
              "0                       0  ...                        0   \n",
              "1                       0  ...                        0   \n",
              "2                       0  ...                        0   \n",
              "3                       0  ...                        0   \n",
              "4                       0  ...                        0   \n",
              "\n",
              "   occupation_Exec-managerial  occupation_Farming-fishing  \\\n",
              "0                           0                           0   \n",
              "1                           1                           0   \n",
              "2                           0                           0   \n",
              "3                           0                           0   \n",
              "4                           0                           0   \n",
              "\n",
              "   occupation_Handlers-cleaners  occupation_Machine-op-inspct  \\\n",
              "0                             0                             0   \n",
              "1                             0                             0   \n",
              "2                             1                             0   \n",
              "3                             1                             0   \n",
              "4                             0                             0   \n",
              "\n",
              "   occupation_Other-service  occupation_Prof-specialty  occupation_Sales  \\\n",
              "0                         0                          0                 0   \n",
              "1                         0                          0                 0   \n",
              "2                         0                          0                 0   \n",
              "3                         0                          0                 0   \n",
              "4                         0                          1                 0   \n",
              "\n",
              "   occupation_Tech-support  occupation_Transport-moving  \n",
              "0                        0                            0  \n",
              "1                        0                            0  \n",
              "2                        0                            0  \n",
              "3                        0                            0  \n",
              "4                        0                            0  \n",
              "\n",
              "[5 rows x 24 columns]"
            ],
            "text/html": [
              "\n",
              "  <div id=\"df-e19fe59d-2f80-4535-8e44-fd435bc624cd\">\n",
              "    <div class=\"colab-df-container\">\n",
              "      <div>\n",
              "<style scoped>\n",
              "    .dataframe tbody tr th:only-of-type {\n",
              "        vertical-align: middle;\n",
              "    }\n",
              "\n",
              "    .dataframe tbody tr th {\n",
              "        vertical-align: top;\n",
              "    }\n",
              "\n",
              "    .dataframe thead th {\n",
              "        text-align: right;\n",
              "    }\n",
              "</style>\n",
              "<table border=\"1\" class=\"dataframe\">\n",
              "  <thead>\n",
              "    <tr style=\"text-align: right;\">\n",
              "      <th></th>\n",
              "      <th>age</th>\n",
              "      <th>education-num</th>\n",
              "      <th>hours-per-week</th>\n",
              "      <th>income</th>\n",
              "      <th>sex_Male</th>\n",
              "      <th>workclass_?</th>\n",
              "      <th>workclass_Federal-gov</th>\n",
              "      <th>workclass_Local-gov</th>\n",
              "      <th>workclass_Private</th>\n",
              "      <th>workclass_Self-emp-inc</th>\n",
              "      <th>...</th>\n",
              "      <th>occupation_Craft-repair</th>\n",
              "      <th>occupation_Exec-managerial</th>\n",
              "      <th>occupation_Farming-fishing</th>\n",
              "      <th>occupation_Handlers-cleaners</th>\n",
              "      <th>occupation_Machine-op-inspct</th>\n",
              "      <th>occupation_Other-service</th>\n",
              "      <th>occupation_Prof-specialty</th>\n",
              "      <th>occupation_Sales</th>\n",
              "      <th>occupation_Tech-support</th>\n",
              "      <th>occupation_Transport-moving</th>\n",
              "    </tr>\n",
              "  </thead>\n",
              "  <tbody>\n",
              "    <tr>\n",
              "      <th>0</th>\n",
              "      <td>39</td>\n",
              "      <td>13</td>\n",
              "      <td>40</td>\n",
              "      <td>0</td>\n",
              "      <td>1</td>\n",
              "      <td>0</td>\n",
              "      <td>0</td>\n",
              "      <td>0</td>\n",
              "      <td>0</td>\n",
              "      <td>0</td>\n",
              "      <td>...</td>\n",
              "      <td>0</td>\n",
              "      <td>0</td>\n",
              "      <td>0</td>\n",
              "      <td>0</td>\n",
              "      <td>0</td>\n",
              "      <td>0</td>\n",
              "      <td>0</td>\n",
              "      <td>0</td>\n",
              "      <td>0</td>\n",
              "      <td>0</td>\n",
              "    </tr>\n",
              "    <tr>\n",
              "      <th>1</th>\n",
              "      <td>50</td>\n",
              "      <td>13</td>\n",
              "      <td>13</td>\n",
              "      <td>0</td>\n",
              "      <td>1</td>\n",
              "      <td>0</td>\n",
              "      <td>0</td>\n",
              "      <td>0</td>\n",
              "      <td>0</td>\n",
              "      <td>0</td>\n",
              "      <td>...</td>\n",
              "      <td>0</td>\n",
              "      <td>1</td>\n",
              "      <td>0</td>\n",
              "      <td>0</td>\n",
              "      <td>0</td>\n",
              "      <td>0</td>\n",
              "      <td>0</td>\n",
              "      <td>0</td>\n",
              "      <td>0</td>\n",
              "      <td>0</td>\n",
              "    </tr>\n",
              "    <tr>\n",
              "      <th>2</th>\n",
              "      <td>38</td>\n",
              "      <td>9</td>\n",
              "      <td>40</td>\n",
              "      <td>0</td>\n",
              "      <td>1</td>\n",
              "      <td>0</td>\n",
              "      <td>0</td>\n",
              "      <td>0</td>\n",
              "      <td>1</td>\n",
              "      <td>0</td>\n",
              "      <td>...</td>\n",
              "      <td>0</td>\n",
              "      <td>0</td>\n",
              "      <td>0</td>\n",
              "      <td>1</td>\n",
              "      <td>0</td>\n",
              "      <td>0</td>\n",
              "      <td>0</td>\n",
              "      <td>0</td>\n",
              "      <td>0</td>\n",
              "      <td>0</td>\n",
              "    </tr>\n",
              "    <tr>\n",
              "      <th>3</th>\n",
              "      <td>53</td>\n",
              "      <td>7</td>\n",
              "      <td>40</td>\n",
              "      <td>0</td>\n",
              "      <td>1</td>\n",
              "      <td>0</td>\n",
              "      <td>0</td>\n",
              "      <td>0</td>\n",
              "      <td>1</td>\n",
              "      <td>0</td>\n",
              "      <td>...</td>\n",
              "      <td>0</td>\n",
              "      <td>0</td>\n",
              "      <td>0</td>\n",
              "      <td>1</td>\n",
              "      <td>0</td>\n",
              "      <td>0</td>\n",
              "      <td>0</td>\n",
              "      <td>0</td>\n",
              "      <td>0</td>\n",
              "      <td>0</td>\n",
              "    </tr>\n",
              "    <tr>\n",
              "      <th>4</th>\n",
              "      <td>28</td>\n",
              "      <td>13</td>\n",
              "      <td>40</td>\n",
              "      <td>0</td>\n",
              "      <td>0</td>\n",
              "      <td>0</td>\n",
              "      <td>0</td>\n",
              "      <td>0</td>\n",
              "      <td>1</td>\n",
              "      <td>0</td>\n",
              "      <td>...</td>\n",
              "      <td>0</td>\n",
              "      <td>0</td>\n",
              "      <td>0</td>\n",
              "      <td>0</td>\n",
              "      <td>0</td>\n",
              "      <td>0</td>\n",
              "      <td>1</td>\n",
              "      <td>0</td>\n",
              "      <td>0</td>\n",
              "      <td>0</td>\n",
              "    </tr>\n",
              "  </tbody>\n",
              "</table>\n",
              "<p>5 rows × 24 columns</p>\n",
              "</div>\n",
              "      <button class=\"colab-df-convert\" onclick=\"convertToInteractive('df-e19fe59d-2f80-4535-8e44-fd435bc624cd')\"\n",
              "              title=\"Convert this dataframe to an interactive table.\"\n",
              "              style=\"display:none;\">\n",
              "        \n",
              "  <svg xmlns=\"http://www.w3.org/2000/svg\" height=\"24px\"viewBox=\"0 0 24 24\"\n",
              "       width=\"24px\">\n",
              "    <path d=\"M0 0h24v24H0V0z\" fill=\"none\"/>\n",
              "    <path d=\"M18.56 5.44l.94 2.06.94-2.06 2.06-.94-2.06-.94-.94-2.06-.94 2.06-2.06.94zm-11 1L8.5 8.5l.94-2.06 2.06-.94-2.06-.94L8.5 2.5l-.94 2.06-2.06.94zm10 10l.94 2.06.94-2.06 2.06-.94-2.06-.94-.94-2.06-.94 2.06-2.06.94z\"/><path d=\"M17.41 7.96l-1.37-1.37c-.4-.4-.92-.59-1.43-.59-.52 0-1.04.2-1.43.59L10.3 9.45l-7.72 7.72c-.78.78-.78 2.05 0 2.83L4 21.41c.39.39.9.59 1.41.59.51 0 1.02-.2 1.41-.59l7.78-7.78 2.81-2.81c.8-.78.8-2.07 0-2.86zM5.41 20L4 18.59l7.72-7.72 1.47 1.35L5.41 20z\"/>\n",
              "  </svg>\n",
              "      </button>\n",
              "      \n",
              "  <style>\n",
              "    .colab-df-container {\n",
              "      display:flex;\n",
              "      flex-wrap:wrap;\n",
              "      gap: 12px;\n",
              "    }\n",
              "\n",
              "    .colab-df-convert {\n",
              "      background-color: #E8F0FE;\n",
              "      border: none;\n",
              "      border-radius: 50%;\n",
              "      cursor: pointer;\n",
              "      display: none;\n",
              "      fill: #1967D2;\n",
              "      height: 32px;\n",
              "      padding: 0 0 0 0;\n",
              "      width: 32px;\n",
              "    }\n",
              "\n",
              "    .colab-df-convert:hover {\n",
              "      background-color: #E2EBFA;\n",
              "      box-shadow: 0px 1px 2px rgba(60, 64, 67, 0.3), 0px 1px 3px 1px rgba(60, 64, 67, 0.15);\n",
              "      fill: #174EA6;\n",
              "    }\n",
              "\n",
              "    [theme=dark] .colab-df-convert {\n",
              "      background-color: #3B4455;\n",
              "      fill: #D2E3FC;\n",
              "    }\n",
              "\n",
              "    [theme=dark] .colab-df-convert:hover {\n",
              "      background-color: #434B5C;\n",
              "      box-shadow: 0px 1px 3px 1px rgba(0, 0, 0, 0.15);\n",
              "      filter: drop-shadow(0px 1px 2px rgba(0, 0, 0, 0.3));\n",
              "      fill: #FFFFFF;\n",
              "    }\n",
              "  </style>\n",
              "\n",
              "      <script>\n",
              "        const buttonEl =\n",
              "          document.querySelector('#df-e19fe59d-2f80-4535-8e44-fd435bc624cd button.colab-df-convert');\n",
              "        buttonEl.style.display =\n",
              "          google.colab.kernel.accessAllowed ? 'block' : 'none';\n",
              "\n",
              "        async function convertToInteractive(key) {\n",
              "          const element = document.querySelector('#df-e19fe59d-2f80-4535-8e44-fd435bc624cd');\n",
              "          const dataTable =\n",
              "            await google.colab.kernel.invokeFunction('convertToInteractive',\n",
              "                                                     [key], {});\n",
              "          if (!dataTable) return;\n",
              "\n",
              "          const docLinkHtml = 'Like what you see? Visit the ' +\n",
              "            '<a target=\"_blank\" href=https://colab.research.google.com/notebooks/data_table.ipynb>data table notebook</a>'\n",
              "            + ' to learn more about interactive tables.';\n",
              "          element.innerHTML = '';\n",
              "          dataTable['output_type'] = 'display_data';\n",
              "          await google.colab.output.renderOutput(dataTable, element);\n",
              "          const docLink = document.createElement('div');\n",
              "          docLink.innerHTML = docLinkHtml;\n",
              "          element.appendChild(docLink);\n",
              "        }\n",
              "      </script>\n",
              "    </div>\n",
              "  </div>\n",
              "  "
            ]
          },
          "metadata": {},
          "execution_count": 12
        }
      ],
      "source": [
        "df = pd.get_dummies(df, columns=['workclass', 'occupation'])\n",
        "print (df.shape)\n",
        "print (df.columns)\n",
        "df.head()"
      ]
    },
    {
      "cell_type": "markdown",
      "metadata": {
        "id": "di548Pvc8BwQ"
      },
      "source": [
        "## Splitting dataset"
      ]
    },
    {
      "cell_type": "markdown",
      "metadata": {
        "id": "L4cDichv8BwQ"
      },
      "source": [
        "Let's split the dataset into features and labels first.\n",
        "- `income` is the label (`y`)\n",
        "- all other columns are features (`X`)"
      ]
    },
    {
      "cell_type": "code",
      "execution_count": 13,
      "metadata": {
        "id": "7Ayq_PjV8BwQ"
      },
      "outputs": [],
      "source": [
        "y = df.income\n",
        "X = df.drop(['income'], axis=1)"
      ]
    },
    {
      "cell_type": "markdown",
      "metadata": {
        "id": "nVF_vJby8BwQ"
      },
      "source": [
        "### Train test split\n",
        "#### NOTE: This time we want to split the data into 3 datasets\n",
        "Split ratio: 60, 20, 20"
      ]
    },
    {
      "cell_type": "code",
      "execution_count": 15,
      "metadata": {
        "id": "2dWyJhru8BwR",
        "outputId": "3f56d713-42e7-4af4-9256-d3aeb8ee6197",
        "colab": {
          "base_uri": "https://localhost:8080/"
        }
      },
      "outputs": [
        {
          "output_type": "stream",
          "name": "stdout",
          "text": [
            "X train shape:(19536, 23)\n",
            "y train shape:(19536,)\n",
            "X valid shape:(6512, 23)\n",
            "y valid shape:(6512,)\n",
            "X test shape:(6513, 23)\n",
            "y test shape:(6513,)\n"
          ]
        }
      ],
      "source": [
        "from sklearn.model_selection import train_test_split\n",
        "\n",
        "X_train, X_test, y_train, y_test = train_test_split(\n",
        "    X, y, test_size = 0.4,\n",
        "    stratify = y, random_state = 1\n",
        ")\n",
        "\n",
        "X_valid, X_test, y_valid, y_test = train_test_split(\n",
        "    X_test, y_test, test_size = 0.5,\n",
        "    stratify=y_test, random_state=1\n",
        ")\n",
        "\n",
        "print(f'X train shape:{X_train.shape}')\n",
        "print(f'y train shape:{y_train.shape}')\n",
        "\n",
        "print(f'X valid shape:{X_valid.shape}')\n",
        "print(f'y valid shape:{y_valid.shape}')\n",
        "\n",
        "print(f'X test shape:{X_test.shape}')\n",
        "print(f'y test shape:{y_test.shape}')"
      ]
    },
    {
      "cell_type": "markdown",
      "metadata": {
        "id": "HhS0XTvU8BwR"
      },
      "source": [
        "# Keras"
      ]
    },
    {
      "cell_type": "markdown",
      "metadata": {
        "id": "DZfHyZ3H8BwR"
      },
      "source": [
        "Import modules"
      ]
    },
    {
      "cell_type": "code",
      "execution_count": 16,
      "metadata": {
        "id": "PlcSfF298BwR"
      },
      "outputs": [],
      "source": [
        "from tensorflow.keras.models import Sequential\n",
        "from tensorflow.keras.layers import Dense\n",
        "from tensorflow.keras.layers import Dropout\n",
        "from tensorflow.keras import optimizers"
      ]
    },
    {
      "cell_type": "markdown",
      "metadata": {
        "id": "QnYWFcTN8BwR"
      },
      "source": [
        "## Building model"
      ]
    },
    {
      "cell_type": "markdown",
      "metadata": {
        "id": "FldW3j5i8BwR"
      },
      "source": [
        "Let's define the hyperparameters first"
      ]
    },
    {
      "cell_type": "code",
      "execution_count": 21,
      "metadata": {
        "id": "yajUYkVZ8BwS",
        "outputId": "1859cdbf-b92d-4b64-89a8-f6322621d66e",
        "colab": {
          "base_uri": "https://localhost:8080/"
        }
      },
      "outputs": [
        {
          "output_type": "stream",
          "name": "stdout",
          "text": [
            "23 columns in input data.\n"
          ]
        }
      ],
      "source": [
        "CELLS_1 = 32\n",
        "CELLS_2 = 8\n",
        "LEARNING_RATE = 0.001\n",
        "EPOCHS = 10\n",
        "BATCH_SIZE = 128\n",
        "\n",
        "NR_INPUTS = X_train.shape[1]  # num of features\n",
        "print(f'{NR_INPUTS} columns in input data.')"
      ]
    },
    {
      "cell_type": "markdown",
      "metadata": {
        "id": "ImUlBcto8BwS"
      },
      "source": [
        "Now we may build the model"
      ]
    },
    {
      "cell_type": "code",
      "execution_count": 22,
      "metadata": {
        "id": "POFZRaRW8BwS",
        "outputId": "9a0f4834-5dd6-48a8-f716-bf5511792760",
        "colab": {
          "base_uri": "https://localhost:8080/"
        }
      },
      "outputs": [
        {
          "output_type": "stream",
          "name": "stdout",
          "text": [
            "Model: \"sequential_2\"\n",
            "_________________________________________________________________\n",
            " Layer (type)                Output Shape              Param #   \n",
            "=================================================================\n",
            " dense_3 (Dense)             (None, 32)                768       \n",
            "                                                                 \n",
            " dense_4 (Dense)             (None, 8)                 264       \n",
            "                                                                 \n",
            " dense_5 (Dense)             (None, 1)                 9         \n",
            "                                                                 \n",
            "=================================================================\n",
            "Total params: 1,041\n",
            "Trainable params: 1,041\n",
            "Non-trainable params: 0\n",
            "_________________________________________________________________\n"
          ]
        },
        {
          "output_type": "stream",
          "name": "stderr",
          "text": [
            "/usr/local/lib/python3.7/dist-packages/keras/optimizer_v2/adam.py:105: UserWarning: The `lr` argument is deprecated, use `learning_rate` instead.\n",
            "  super(Adam, self).__init__(name, **kwargs)\n"
          ]
        }
      ],
      "source": [
        "model = Sequential()\n",
        "\n",
        "model.add(Dense(CELLS_1, input_shape=[NR_INPUTS, ], activation='relu'))\n",
        "model.add(Dense(CELLS_2, activation='relu'))\n",
        "model.add(Dense(1, activation='sigmoid'))\n",
        "\n",
        "optimizer = optimizers.Adam(lr=LEARNING_RATE)\n",
        "\n",
        "model.compile(loss = 'binary_crossentropy', optimizer=optimizer, metrics=['accuracy'])\n",
        "\n",
        "model.summary()"
      ]
    },
    {
      "cell_type": "code",
      "source": [
        "history = model.fit(X_train, y_train, \n",
        "    validation_data = (X_valid, y_valid),\n",
        "    batch_size = BATCH_SIZE,\n",
        "    epochs = EPOCHS)"
      ],
      "metadata": {
        "id": "fSwJdreFCaYl",
        "outputId": "f1e93ee0-81f1-4ed1-faf9-58f5ec8d0bf0",
        "colab": {
          "base_uri": "https://localhost:8080/"
        }
      },
      "execution_count": 24,
      "outputs": [
        {
          "output_type": "stream",
          "name": "stdout",
          "text": [
            "Epoch 1/10\n",
            "153/153 [==============================] - 2s 6ms/step - loss: 0.7505 - accuracy: 0.6960 - val_loss: 0.5611 - val_accuracy: 0.7521\n",
            "Epoch 2/10\n",
            "153/153 [==============================] - 1s 5ms/step - loss: 0.5439 - accuracy: 0.7566 - val_loss: 0.5228 - val_accuracy: 0.7601\n",
            "Epoch 3/10\n",
            "153/153 [==============================] - 1s 5ms/step - loss: 0.5064 - accuracy: 0.7642 - val_loss: 0.4831 - val_accuracy: 0.7741\n",
            "Epoch 4/10\n",
            "153/153 [==============================] - 1s 5ms/step - loss: 0.4735 - accuracy: 0.7769 - val_loss: 0.4596 - val_accuracy: 0.7844\n",
            "Epoch 5/10\n",
            "153/153 [==============================] - 1s 4ms/step - loss: 0.4566 - accuracy: 0.7856 - val_loss: 0.4509 - val_accuracy: 0.7862\n",
            "Epoch 6/10\n",
            "153/153 [==============================] - 1s 4ms/step - loss: 0.4471 - accuracy: 0.7891 - val_loss: 0.4414 - val_accuracy: 0.7932\n",
            "Epoch 7/10\n",
            "153/153 [==============================] - 1s 5ms/step - loss: 0.4404 - accuracy: 0.7937 - val_loss: 0.4333 - val_accuracy: 0.7964\n",
            "Epoch 8/10\n",
            "153/153 [==============================] - 1s 5ms/step - loss: 0.4340 - accuracy: 0.7962 - val_loss: 0.4258 - val_accuracy: 0.7975\n",
            "Epoch 9/10\n",
            "153/153 [==============================] - 1s 5ms/step - loss: 0.4301 - accuracy: 0.8001 - val_loss: 0.4212 - val_accuracy: 0.8033\n",
            "Epoch 10/10\n",
            "153/153 [==============================] - 1s 4ms/step - loss: 0.4265 - accuracy: 0.8011 - val_loss: 0.4177 - val_accuracy: 0.8016\n"
          ]
        }
      ]
    },
    {
      "cell_type": "markdown",
      "metadata": {
        "id": "I8pqn7gt8BwS"
      },
      "source": [
        "Let's display the training history"
      ]
    },
    {
      "cell_type": "code",
      "execution_count": 23,
      "metadata": {
        "id": "xQd2u1KG8BwS"
      },
      "outputs": [],
      "source": [
        "def plot_train_valid_history(history):\n",
        "    \"\"\"\n",
        "    Plots train and validation losses.\n",
        "    Arguments: history - history of training (result of keras model.fit).\n",
        "        history.history must be a dictionary that looks as follow:\n",
        "        {\n",
        "            'loss' : .....\n",
        "            'valid_loss' : .....\n",
        "            'acc' : .... # Optional\n",
        "            'val_acc' : ..... # Optional\n",
        "        }\n",
        "    \"\"\"\n",
        "    epochs = np.arange(len(history.history['val_loss'])) + 1\n",
        "    fig = plt.figure(figsize=(8, 4))\n",
        "    if 'accuracy' in history.history:\n",
        "        ax1 = fig.add_subplot(121)\n",
        "        ax1.plot(epochs, history.history['loss'], c='b', label='Train loss')\n",
        "        ax1.plot(epochs, history.history['val_loss'], c='g', label='Valid loss')\n",
        "        plt.legend(loc='lower left');\n",
        "        plt.grid(True)        \n",
        "        \n",
        "        ax1 = fig.add_subplot(122)\n",
        "        ax1.plot(epochs, history.history['accuracy'], c='b', label='Train acc')\n",
        "        ax1.plot(epochs, history.history['val_accuracy'], c='g', label='Valid acc')\n",
        "        plt.legend(loc='lower right');\n",
        "        plt.grid(True)        \n",
        "         \n",
        "        \n",
        "    else:\n",
        "        ax1 = fig.add_subplot(111)\n",
        "        ax1.plot(epochs, history.history['loss'], c='b', label='Train loss')\n",
        "        ax1.plot(epochs, history.history['val_loss'], c='g', label='Valid loss')\n",
        "        plt.legend(loc='lower left');\n",
        "        plt.grid(True)\n",
        "    plt.show()\n",
        "\n"
      ]
    },
    {
      "cell_type": "code",
      "execution_count": 26,
      "metadata": {
        "id": "Nx19FnsT8BwT",
        "outputId": "74d56f64-abe5-4586-9082-bf559d9a89a9",
        "colab": {
          "base_uri": "https://localhost:8080/",
          "height": 265
        }
      },
      "outputs": [
        {
          "output_type": "display_data",
          "data": {
            "text/plain": [
              "<Figure size 576x288 with 2 Axes>"
            ],
            "image/png": "[encoded data removed]"
          },
          "metadata": {
            "needs_background": "light"
          }
        }
      ],
      "source": [
        "plot_train_valid_history(history)"
      ]
    },
    {
      "cell_type": "code",
      "execution_count": 29,
      "metadata": {
        "id": "PINB2Syh8BwT",
        "outputId": "3c78f329-c37a-4f06-99ba-3c98850462df",
        "colab": {
          "base_uri": "https://localhost:8080/"
        }
      },
      "outputs": [
        {
          "output_type": "stream",
          "name": "stdout",
          "text": [
            "204/204 [==============================] - 0s 1ms/step - loss: 0.4165 - accuracy: 0.8084\n",
            "Test score: 0.4165398180484772\n",
            "Test accuracy: 80.8%\n"
          ]
        }
      ],
      "source": [
        "score, acc = model.evaluate(X_test, y_test)\n",
        "print('Test score:', score)\n",
        "print('Test accuracy: {:.1f}%'.format(100*acc))"
      ]
    },
    {
      "cell_type": "markdown",
      "metadata": {
        "id": "70qvBoUG8BwU"
      },
      "source": [
        "## Task 1\n",
        "Create, train and test a model with following parameters:\n",
        "- First hidden layer: 32 neurons, relu activation\n",
        "- Dropout after first hidden layer keep_probability = 0.5\n",
        "- Second hidden layer: 32 neurons, relu activation\n",
        "- Output layer: 1 neuron, sigmoid activation\n",
        "\n",
        "Training parameters:\n",
        "- Learning Rate: 0.0003\n",
        "- Number of Epochs: 50\n",
        "- Batch size: 128\n",
        "\n",
        "*Note: You will need your model in task 2, so it is a good idea to write a function, which creates the model.*\n",
        "\n",
        "![alt text](./img/model_keras_task1.png \"Task 1 model\")"
      ]
    },
    {
      "cell_type": "code",
      "execution_count": 31,
      "metadata": {
        "id": "LBK4Ckrc8BwU",
        "outputId": "d2e16c19-82f4-4d8e-e8e0-4cc5841ec78e",
        "colab": {
          "base_uri": "https://localhost:8080/"
        }
      },
      "outputs": [
        {
          "output_type": "execute_result",
          "data": {
            "text/plain": [
              "23"
            ]
          },
          "metadata": {},
          "execution_count": 31
        }
      ],
      "source": [
        "# HYPERPARAMETERS\n",
        "# ENTER YOUR CODE HERE\n",
        "cell_1 = 32\n",
        "cell_2 = 32\n",
        "\n",
        "lr = 0.0003\n",
        "epochs = 50\n",
        "batch_size = 128\n",
        "\n",
        "input = X_train.shape[1]\n",
        "input"
      ]
    },
    {
      "cell_type": "code",
      "execution_count": 32,
      "metadata": {
        "id": "JN9RZ8Jl8BwV"
      },
      "outputs": [],
      "source": [
        "def create_model():\n",
        "    # ENTER YOUR CODE HERE\n",
        "    model = Sequential()\n",
        "\n",
        "    model.add(Dense(cell_1, input_shape=[input, ], activation='relu'))\n",
        "    model.add(Dropout(rate=0.5))\n",
        "    model.add(Dense(cell_2, activation='relu'))\n",
        "    model.add(Dense(1, activation='sigmoid'))\n",
        "\n",
        "    optimizer = optimizers.Adam(lr=LEARNING_RATE)\n",
        "\n",
        "    model.compile(loss = 'binary_crossentropy', optimizer=optimizer, metrics=['accuracy'])\n",
        "    return model\n"
      ]
    },
    {
      "cell_type": "code",
      "execution_count": 33,
      "metadata": {
        "id": "tvR0IebV8BwV",
        "outputId": "38d5efb6-d7a3-4683-ed54-e75b325b1852",
        "colab": {
          "base_uri": "https://localhost:8080/"
        }
      },
      "outputs": [
        {
          "output_type": "stream",
          "name": "stderr",
          "text": [
            "/usr/local/lib/python3.7/dist-packages/keras/optimizer_v2/adam.py:105: UserWarning: The `lr` argument is deprecated, use `learning_rate` instead.\n",
            "  super(Adam, self).__init__(name, **kwargs)\n"
          ]
        }
      ],
      "source": [
        "model = create_model()"
      ]
    },
    {
      "cell_type": "code",
      "source": [
        "model.summary()"
      ],
      "metadata": {
        "id": "yv36ilxMKZBn",
        "outputId": "8eaf8d1a-d73c-449e-9804-0b5743ec700e",
        "colab": {
          "base_uri": "https://localhost:8080/"
        }
      },
      "execution_count": 34,
      "outputs": [
        {
          "output_type": "stream",
          "name": "stdout",
          "text": [
            "Model: \"sequential_3\"\n",
            "_________________________________________________________________\n",
            " Layer (type)                Output Shape              Param #   \n",
            "=================================================================\n",
            " dense_6 (Dense)             (None, 32)                768       \n",
            "                                                                 \n",
            " dropout (Dropout)           (None, 32)                0         \n",
            "                                                                 \n",
            " dense_7 (Dense)             (None, 32)                1056      \n",
            "                                                                 \n",
            " dense_8 (Dense)             (None, 1)                 33        \n",
            "                                                                 \n",
            "=================================================================\n",
            "Total params: 1,857\n",
            "Trainable params: 1,857\n",
            "Non-trainable params: 0\n",
            "_________________________________________________________________\n"
          ]
        }
      ]
    },
    {
      "cell_type": "code",
      "execution_count": 37,
      "metadata": {
        "id": "TuZcBgOu8BwV",
        "outputId": "368d3907-df39-4ace-b3d6-5fa3e7de62b0",
        "colab": {
          "base_uri": "https://localhost:8080/",
          "height": 1000
        }
      },
      "outputs": [
        {
          "output_type": "stream",
          "name": "stdout",
          "text": [
            "Epoch 1/50\n",
            "153/153 [==============================] - 0s 3ms/step - loss: 0.4079 - accuracy: 0.8097 - val_loss: 0.5679 - val_accuracy: 0.7592\n",
            "Epoch 2/50\n",
            "153/153 [==============================] - 0s 3ms/step - loss: 0.4073 - accuracy: 0.8108 - val_loss: 0.5955 - val_accuracy: 0.7592\n",
            "Epoch 3/50\n",
            "153/153 [==============================] - 0s 3ms/step - loss: 0.4064 - accuracy: 0.8077 - val_loss: 0.5815 - val_accuracy: 0.7592\n",
            "Epoch 4/50\n",
            "153/153 [==============================] - 0s 3ms/step - loss: 0.4083 - accuracy: 0.8084 - val_loss: 0.6017 - val_accuracy: 0.7592\n",
            "Epoch 5/50\n",
            "153/153 [==============================] - 0s 3ms/step - loss: 0.4067 - accuracy: 0.8111 - val_loss: 0.6417 - val_accuracy: 0.7592\n",
            "Epoch 6/50\n",
            "153/153 [==============================] - 0s 3ms/step - loss: 0.4064 - accuracy: 0.8100 - val_loss: 0.6214 - val_accuracy: 0.7592\n",
            "Epoch 7/50\n",
            "153/153 [==============================] - 0s 3ms/step - loss: 0.4063 - accuracy: 0.8116 - val_loss: 0.5960 - val_accuracy: 0.7592\n",
            "Epoch 8/50\n",
            "153/153 [==============================] - 0s 3ms/step - loss: 0.4088 - accuracy: 0.8098 - val_loss: 0.5832 - val_accuracy: 0.7592\n",
            "Epoch 9/50\n",
            "153/153 [==============================] - 0s 3ms/step - loss: 0.4054 - accuracy: 0.8089 - val_loss: 0.5726 - val_accuracy: 0.7592\n",
            "Epoch 10/50\n",
            "153/153 [==============================] - 0s 3ms/step - loss: 0.4062 - accuracy: 0.8115 - val_loss: 0.5884 - val_accuracy: 0.7592\n",
            "Epoch 11/50\n",
            "153/153 [==============================] - 0s 3ms/step - loss: 0.4049 - accuracy: 0.8103 - val_loss: 0.6087 - val_accuracy: 0.7592\n",
            "Epoch 12/50\n",
            "153/153 [==============================] - 0s 3ms/step - loss: 0.4058 - accuracy: 0.8095 - val_loss: 0.5473 - val_accuracy: 0.7592\n",
            "Epoch 13/50\n",
            "153/153 [==============================] - 0s 3ms/step - loss: 0.4058 - accuracy: 0.8086 - val_loss: 0.6201 - val_accuracy: 0.7592\n",
            "Epoch 14/50\n",
            "153/153 [==============================] - 0s 3ms/step - loss: 0.4055 - accuracy: 0.8106 - val_loss: 0.6017 - val_accuracy: 0.7592\n",
            "Epoch 15/50\n",
            "153/153 [==============================] - 0s 3ms/step - loss: 0.4063 - accuracy: 0.8086 - val_loss: 0.5918 - val_accuracy: 0.7592\n",
            "Epoch 16/50\n",
            "153/153 [==============================] - 0s 3ms/step - loss: 0.4056 - accuracy: 0.8112 - val_loss: 0.6137 - val_accuracy: 0.7592\n",
            "Epoch 17/50\n",
            "153/153 [==============================] - 0s 3ms/step - loss: 0.4050 - accuracy: 0.8105 - val_loss: 0.6322 - val_accuracy: 0.7592\n",
            "Epoch 18/50\n",
            "153/153 [==============================] - 0s 3ms/step - loss: 0.4064 - accuracy: 0.8093 - val_loss: 0.6485 - val_accuracy: 0.7592\n",
            "Epoch 19/50\n",
            "153/153 [==============================] - 0s 3ms/step - loss: 0.4041 - accuracy: 0.8111 - val_loss: 0.5816 - val_accuracy: 0.7592\n",
            "Epoch 20/50\n",
            "153/153 [==============================] - 0s 3ms/step - loss: 0.4051 - accuracy: 0.8102 - val_loss: 0.6190 - val_accuracy: 0.7592\n",
            "Epoch 21/50\n",
            "153/153 [==============================] - 0s 3ms/step - loss: 0.4030 - accuracy: 0.8116 - val_loss: 0.6266 - val_accuracy: 0.7592\n",
            "Epoch 22/50\n",
            "153/153 [==============================] - 0s 2ms/step - loss: 0.4043 - accuracy: 0.8111 - val_loss: 0.6064 - val_accuracy: 0.7592\n",
            "Epoch 23/50\n",
            "153/153 [==============================] - 0s 3ms/step - loss: 0.4054 - accuracy: 0.8117 - val_loss: 0.6389 - val_accuracy: 0.7592\n",
            "Epoch 24/50\n",
            "153/153 [==============================] - 0s 3ms/step - loss: 0.4029 - accuracy: 0.8115 - val_loss: 0.5903 - val_accuracy: 0.7592\n",
            "Epoch 25/50\n",
            "153/153 [==============================] - 0s 3ms/step - loss: 0.4049 - accuracy: 0.8126 - val_loss: 0.6396 - val_accuracy: 0.7592\n",
            "Epoch 26/50\n",
            "153/153 [==============================] - 0s 3ms/step - loss: 0.4040 - accuracy: 0.8103 - val_loss: 0.6251 - val_accuracy: 0.7592\n",
            "Epoch 27/50\n",
            "153/153 [==============================] - 0s 3ms/step - loss: 0.4037 - accuracy: 0.8115 - val_loss: 0.5989 - val_accuracy: 0.7592\n",
            "Epoch 28/50\n",
            "153/153 [==============================] - 0s 3ms/step - loss: 0.4033 - accuracy: 0.8115 - val_loss: 0.6058 - val_accuracy: 0.7592\n",
            "Epoch 29/50\n",
            "153/153 [==============================] - 0s 3ms/step - loss: 0.4051 - accuracy: 0.8107 - val_loss: 0.6194 - val_accuracy: 0.7592\n",
            "Epoch 30/50\n",
            "153/153 [==============================] - 0s 3ms/step - loss: 0.4046 - accuracy: 0.8092 - val_loss: 0.6169 - val_accuracy: 0.7592\n",
            "Epoch 31/50\n",
            "153/153 [==============================] - 0s 3ms/step - loss: 0.4041 - accuracy: 0.8116 - val_loss: 0.6314 - val_accuracy: 0.7592\n",
            "Epoch 32/50\n",
            "153/153 [==============================] - 0s 3ms/step - loss: 0.4057 - accuracy: 0.8099 - val_loss: 0.5985 - val_accuracy: 0.7592\n",
            "Epoch 33/50\n",
            "153/153 [==============================] - 0s 3ms/step - loss: 0.4014 - accuracy: 0.8108 - val_loss: 0.6159 - val_accuracy: 0.7592\n",
            "Epoch 34/50\n",
            "153/153 [==============================] - 0s 3ms/step - loss: 0.4036 - accuracy: 0.8114 - val_loss: 0.5989 - val_accuracy: 0.7592\n",
            "Epoch 35/50\n",
            "153/153 [==============================] - 0s 3ms/step - loss: 0.4051 - accuracy: 0.8097 - val_loss: 0.6468 - val_accuracy: 0.7592\n",
            "Epoch 36/50\n",
            "153/153 [==============================] - 0s 3ms/step - loss: 0.4039 - accuracy: 0.8123 - val_loss: 0.6287 - val_accuracy: 0.7592\n",
            "Epoch 37/50\n",
            "153/153 [==============================] - 0s 3ms/step - loss: 0.4039 - accuracy: 0.8095 - val_loss: 0.6388 - val_accuracy: 0.7592\n",
            "Epoch 38/50\n",
            "153/153 [==============================] - 0s 3ms/step - loss: 0.4039 - accuracy: 0.8108 - val_loss: 0.6208 - val_accuracy: 0.7592\n",
            "Epoch 39/50\n",
            "153/153 [==============================] - 0s 3ms/step - loss: 0.4032 - accuracy: 0.8101 - val_loss: 0.6312 - val_accuracy: 0.7592\n",
            "Epoch 40/50\n",
            "153/153 [==============================] - 0s 3ms/step - loss: 0.4012 - accuracy: 0.8112 - val_loss: 0.6380 - val_accuracy: 0.7592\n",
            "Epoch 41/50\n",
            "153/153 [==============================] - 0s 3ms/step - loss: 0.4011 - accuracy: 0.8120 - val_loss: 0.6233 - val_accuracy: 0.7592\n",
            "Epoch 42/50\n",
            "153/153 [==============================] - 0s 3ms/step - loss: 0.4016 - accuracy: 0.8116 - val_loss: 0.6566 - val_accuracy: 0.7592\n",
            "Epoch 43/50\n",
            "153/153 [==============================] - 0s 3ms/step - loss: 0.4027 - accuracy: 0.8112 - val_loss: 0.5954 - val_accuracy: 0.7592\n",
            "Epoch 44/50\n",
            "153/153 [==============================] - 0s 3ms/step - loss: 0.4036 - accuracy: 0.8109 - val_loss: 0.6160 - val_accuracy: 0.7592\n",
            "Epoch 45/50\n",
            "153/153 [==============================] - 1s 3ms/step - loss: 0.4038 - accuracy: 0.8102 - val_loss: 0.6368 - val_accuracy: 0.7592\n",
            "Epoch 46/50\n",
            "153/153 [==============================] - 0s 3ms/step - loss: 0.4030 - accuracy: 0.8111 - val_loss: 0.6170 - val_accuracy: 0.7592\n",
            "Epoch 47/50\n",
            "153/153 [==============================] - 0s 3ms/step - loss: 0.4003 - accuracy: 0.8122 - val_loss: 0.6146 - val_accuracy: 0.7592\n",
            "Epoch 48/50\n",
            "153/153 [==============================] - 0s 3ms/step - loss: 0.4034 - accuracy: 0.8114 - val_loss: 0.6202 - val_accuracy: 0.7592\n",
            "Epoch 49/50\n",
            "153/153 [==============================] - 0s 3ms/step - loss: 0.4021 - accuracy: 0.8114 - val_loss: 0.6100 - val_accuracy: 0.7592\n",
            "Epoch 50/50\n",
            "153/153 [==============================] - 0s 3ms/step - loss: 0.4012 - accuracy: 0.8122 - val_loss: 0.6193 - val_accuracy: 0.7592\n"
          ]
        },
        {
          "output_type": "display_data",
          "data": {
            "text/plain": [
              "<Figure size 576x288 with 2 Axes>"
            ],
            "image/png": "[encoded data removed]"
          },
          "metadata": {
            "needs_background": "light"
          }
        },
        {
          "output_type": "stream",
          "name": "stdout",
          "text": [
            "204/204 [==============================] - 0s 2ms/step - loss: 0.6231 - accuracy: 0.7591\n",
            "Test score: 0.6230530738830566\n",
            "Test accuracy: 75.9%\n"
          ]
        }
      ],
      "source": [
        "# ENTER YOUR CODE HERE\n",
        "history = model.fit(X_train, y_train, \n",
        "    validation_data = (X_valid, y_valid),\n",
        "    batch_size = batch_size,\n",
        "    epochs = epochs)\n",
        "\n",
        "plot_train_valid_history(history)\n",
        "\n",
        "score, acc = model.evaluate(X_test, y_test)\n",
        "print('Test score:', score)\n",
        "print('Test accuracy: {:.1f}%'.format(100*acc))\n"
      ]
    },
    {
      "cell_type": "markdown",
      "metadata": {
        "id": "aOViVPw58BwW"
      },
      "source": [
        "## Question 1\n",
        "- How does the model behave. Can you see any overfitting or undergitting problems?\n",
        "- How you can prevent these problems?"
      ]
    },
    {
      "cell_type": "markdown",
      "metadata": {
        "id": "M-oLGN3o8BwW"
      },
      "source": [
        "## Task 2\n",
        "Normalize your features. Use StandardScaler from sklearn.preprocessing library. Then train your model on the normalized features. Did it change anything with the behaviour of the model?"
      ]
    },
    {
      "cell_type": "code",
      "execution_count": 41,
      "metadata": {
        "id": "6BD1sW208BwX"
      },
      "outputs": [],
      "source": [
        "from sklearn.preprocessing import StandardScaler\n",
        "# ENTER YOUR CODE HERE\n",
        "scaler = StandardScaler()"
      ]
    },
    {
      "cell_type": "code",
      "execution_count": 43,
      "metadata": {
        "id": "X0DbCHwB8BwX"
      },
      "outputs": [],
      "source": [
        "# Create and train the model\n",
        "# ENTER YOUR CODE HERE\n",
        "X_train_norm = scaler.fit_transform(X_train)\n",
        "X_valid_norm = scaler.transform(X_valid)\n",
        "X_test_norm = scaler.transform(X_test)\n"
      ]
    },
    {
      "cell_type": "code",
      "source": [
        "model = create_model()\n",
        "history = model.fit(X_train_norm, y_train,\n",
        "          validation_data = (X_valid_norm, y_valid),\n",
        "          batch_size = batch_size,\n",
        "          epochs = epochs)"
      ],
      "metadata": {
        "id": "Oiszrr7XPm3o",
        "outputId": "21f0e439-512a-4d40-f8d8-40ef98a16ad7",
        "colab": {
          "base_uri": "https://localhost:8080/"
        }
      },
      "execution_count": 44,
      "outputs": [
        {
          "output_type": "stream",
          "name": "stdout",
          "text": [
            "Epoch 1/50\n"
          ]
        },
        {
          "output_type": "stream",
          "name": "stderr",
          "text": [
            "/usr/local/lib/python3.7/dist-packages/keras/optimizer_v2/adam.py:105: UserWarning: The `lr` argument is deprecated, use `learning_rate` instead.\n",
            "  super(Adam, self).__init__(name, **kwargs)\n"
          ]
        },
        {
          "output_type": "stream",
          "name": "stdout",
          "text": [
            "153/153 [==============================] - 2s 6ms/step - loss: 0.4960 - accuracy: 0.7607 - val_loss: 0.4239 - val_accuracy: 0.8088\n",
            "Epoch 2/50\n",
            "153/153 [==============================] - 1s 5ms/step - loss: 0.4439 - accuracy: 0.7876 - val_loss: 0.4064 - val_accuracy: 0.8214\n",
            "Epoch 3/50\n",
            "153/153 [==============================] - 1s 5ms/step - loss: 0.4307 - accuracy: 0.7952 - val_loss: 0.4001 - val_accuracy: 0.8209\n",
            "Epoch 4/50\n",
            "153/153 [==============================] - 1s 5ms/step - loss: 0.4230 - accuracy: 0.8022 - val_loss: 0.3956 - val_accuracy: 0.8219\n",
            "Epoch 5/50\n",
            "153/153 [==============================] - 1s 6ms/step - loss: 0.4216 - accuracy: 0.8020 - val_loss: 0.3957 - val_accuracy: 0.8229\n",
            "Epoch 6/50\n",
            "153/153 [==============================] - 1s 5ms/step - loss: 0.4151 - accuracy: 0.8077 - val_loss: 0.3938 - val_accuracy: 0.8220\n",
            "Epoch 7/50\n",
            "153/153 [==============================] - 1s 5ms/step - loss: 0.4170 - accuracy: 0.8050 - val_loss: 0.3934 - val_accuracy: 0.8228\n",
            "Epoch 8/50\n",
            "153/153 [==============================] - 1s 5ms/step - loss: 0.4117 - accuracy: 0.8099 - val_loss: 0.3932 - val_accuracy: 0.8222\n",
            "Epoch 9/50\n",
            "153/153 [==============================] - 1s 4ms/step - loss: 0.4120 - accuracy: 0.8091 - val_loss: 0.3924 - val_accuracy: 0.8226\n",
            "Epoch 10/50\n",
            "153/153 [==============================] - 1s 5ms/step - loss: 0.4086 - accuracy: 0.8106 - val_loss: 0.3928 - val_accuracy: 0.8234\n",
            "Epoch 11/50\n",
            "153/153 [==============================] - 1s 5ms/step - loss: 0.4062 - accuracy: 0.8122 - val_loss: 0.3899 - val_accuracy: 0.8228\n",
            "Epoch 12/50\n",
            "153/153 [==============================] - 1s 5ms/step - loss: 0.4076 - accuracy: 0.8118 - val_loss: 0.3910 - val_accuracy: 0.8251\n",
            "Epoch 13/50\n",
            "153/153 [==============================] - 1s 4ms/step - loss: 0.4032 - accuracy: 0.8132 - val_loss: 0.3929 - val_accuracy: 0.8240\n",
            "Epoch 14/50\n",
            "153/153 [==============================] - 1s 4ms/step - loss: 0.4027 - accuracy: 0.8141 - val_loss: 0.3887 - val_accuracy: 0.8232\n",
            "Epoch 15/50\n",
            "153/153 [==============================] - 1s 5ms/step - loss: 0.4045 - accuracy: 0.8136 - val_loss: 0.3929 - val_accuracy: 0.8260\n",
            "Epoch 16/50\n",
            "153/153 [==============================] - 1s 5ms/step - loss: 0.4034 - accuracy: 0.8119 - val_loss: 0.3926 - val_accuracy: 0.8242\n",
            "Epoch 17/50\n",
            "153/153 [==============================] - 1s 5ms/step - loss: 0.4008 - accuracy: 0.8184 - val_loss: 0.3917 - val_accuracy: 0.8240\n",
            "Epoch 18/50\n",
            "153/153 [==============================] - 1s 5ms/step - loss: 0.4039 - accuracy: 0.8149 - val_loss: 0.3948 - val_accuracy: 0.8234\n",
            "Epoch 19/50\n",
            "153/153 [==============================] - 1s 4ms/step - loss: 0.4020 - accuracy: 0.8176 - val_loss: 0.3936 - val_accuracy: 0.8234\n",
            "Epoch 20/50\n",
            "153/153 [==============================] - 1s 4ms/step - loss: 0.4012 - accuracy: 0.8177 - val_loss: 0.3937 - val_accuracy: 0.8236\n",
            "Epoch 21/50\n",
            "153/153 [==============================] - 1s 4ms/step - loss: 0.3998 - accuracy: 0.8146 - val_loss: 0.3952 - val_accuracy: 0.8226\n",
            "Epoch 22/50\n",
            "153/153 [==============================] - 1s 5ms/step - loss: 0.4000 - accuracy: 0.8153 - val_loss: 0.3958 - val_accuracy: 0.8225\n",
            "Epoch 23/50\n",
            "153/153 [==============================] - 1s 4ms/step - loss: 0.4005 - accuracy: 0.8178 - val_loss: 0.3979 - val_accuracy: 0.8240\n",
            "Epoch 24/50\n",
            "153/153 [==============================] - 1s 5ms/step - loss: 0.3992 - accuracy: 0.8183 - val_loss: 0.4012 - val_accuracy: 0.8229\n",
            "Epoch 25/50\n",
            "153/153 [==============================] - 1s 4ms/step - loss: 0.3988 - accuracy: 0.8172 - val_loss: 0.3925 - val_accuracy: 0.8251\n",
            "Epoch 26/50\n",
            "153/153 [==============================] - 1s 5ms/step - loss: 0.4000 - accuracy: 0.8169 - val_loss: 0.4003 - val_accuracy: 0.8239\n",
            "Epoch 27/50\n",
            "153/153 [==============================] - 1s 4ms/step - loss: 0.3977 - accuracy: 0.8180 - val_loss: 0.3961 - val_accuracy: 0.8248\n",
            "Epoch 28/50\n",
            "153/153 [==============================] - 1s 5ms/step - loss: 0.3976 - accuracy: 0.8183 - val_loss: 0.4041 - val_accuracy: 0.8245\n",
            "Epoch 29/50\n",
            "153/153 [==============================] - 1s 5ms/step - loss: 0.3977 - accuracy: 0.8162 - val_loss: 0.3994 - val_accuracy: 0.8245\n",
            "Epoch 30/50\n",
            "153/153 [==============================] - 1s 4ms/step - loss: 0.3976 - accuracy: 0.8185 - val_loss: 0.3974 - val_accuracy: 0.8219\n",
            "Epoch 31/50\n",
            "153/153 [==============================] - 1s 4ms/step - loss: 0.3976 - accuracy: 0.8164 - val_loss: 0.4006 - val_accuracy: 0.8246\n",
            "Epoch 32/50\n",
            "153/153 [==============================] - 1s 5ms/step - loss: 0.3968 - accuracy: 0.8164 - val_loss: 0.4003 - val_accuracy: 0.8240\n",
            "Epoch 33/50\n",
            "153/153 [==============================] - 1s 4ms/step - loss: 0.3970 - accuracy: 0.8179 - val_loss: 0.4054 - val_accuracy: 0.8234\n",
            "Epoch 34/50\n",
            "153/153 [==============================] - 1s 5ms/step - loss: 0.3956 - accuracy: 0.8179 - val_loss: 0.4018 - val_accuracy: 0.8252\n",
            "Epoch 35/50\n",
            "153/153 [==============================] - 1s 4ms/step - loss: 0.3959 - accuracy: 0.8176 - val_loss: 0.4031 - val_accuracy: 0.8231\n",
            "Epoch 36/50\n",
            "153/153 [==============================] - 1s 5ms/step - loss: 0.3974 - accuracy: 0.8173 - val_loss: 0.4017 - val_accuracy: 0.8236\n",
            "Epoch 37/50\n",
            "153/153 [==============================] - 1s 5ms/step - loss: 0.3961 - accuracy: 0.8184 - val_loss: 0.4106 - val_accuracy: 0.8243\n",
            "Epoch 38/50\n",
            "153/153 [==============================] - 1s 4ms/step - loss: 0.3955 - accuracy: 0.8169 - val_loss: 0.4018 - val_accuracy: 0.8239\n",
            "Epoch 39/50\n",
            "153/153 [==============================] - 1s 4ms/step - loss: 0.3965 - accuracy: 0.8167 - val_loss: 0.4079 - val_accuracy: 0.8239\n",
            "Epoch 40/50\n",
            "153/153 [==============================] - 1s 5ms/step - loss: 0.3942 - accuracy: 0.8202 - val_loss: 0.4046 - val_accuracy: 0.8246\n",
            "Epoch 41/50\n",
            "153/153 [==============================] - 1s 5ms/step - loss: 0.3941 - accuracy: 0.8182 - val_loss: 0.4071 - val_accuracy: 0.8257\n",
            "Epoch 42/50\n",
            "153/153 [==============================] - 1s 5ms/step - loss: 0.3964 - accuracy: 0.8171 - val_loss: 0.4032 - val_accuracy: 0.8249\n",
            "Epoch 43/50\n",
            "153/153 [==============================] - 1s 5ms/step - loss: 0.3950 - accuracy: 0.8193 - val_loss: 0.4082 - val_accuracy: 0.8242\n",
            "Epoch 44/50\n",
            "153/153 [==============================] - 1s 5ms/step - loss: 0.3950 - accuracy: 0.8182 - val_loss: 0.4035 - val_accuracy: 0.8239\n",
            "Epoch 45/50\n",
            "153/153 [==============================] - 1s 5ms/step - loss: 0.3924 - accuracy: 0.8205 - val_loss: 0.4027 - val_accuracy: 0.8239\n",
            "Epoch 46/50\n",
            "153/153 [==============================] - 1s 5ms/step - loss: 0.3937 - accuracy: 0.8190 - val_loss: 0.4059 - val_accuracy: 0.8237\n",
            "Epoch 47/50\n",
            "153/153 [==============================] - 1s 5ms/step - loss: 0.3946 - accuracy: 0.8206 - val_loss: 0.4036 - val_accuracy: 0.8252\n",
            "Epoch 48/50\n",
            "153/153 [==============================] - 1s 4ms/step - loss: 0.3927 - accuracy: 0.8214 - val_loss: 0.3999 - val_accuracy: 0.8237\n",
            "Epoch 49/50\n",
            "153/153 [==============================] - 1s 5ms/step - loss: 0.3929 - accuracy: 0.8198 - val_loss: 0.4030 - val_accuracy: 0.8231\n",
            "Epoch 50/50\n",
            "153/153 [==============================] - 1s 5ms/step - loss: 0.3950 - accuracy: 0.8194 - val_loss: 0.4045 - val_accuracy: 0.8231\n"
          ]
        }
      ]
    },
    {
      "cell_type": "code",
      "execution_count": 45,
      "metadata": {
        "id": "PBUnPyCx8BwX",
        "outputId": "cb85e06b-ecce-4c5d-d45f-0714460a4e02",
        "colab": {
          "base_uri": "https://localhost:8080/",
          "height": 267
        }
      },
      "outputs": [
        {
          "output_type": "display_data",
          "data": {
            "text/plain": [
              "<Figure size 576x288 with 2 Axes>"
            ],
            "image/png": "[encoded data removed]"
          },
          "metadata": {
            "needs_background": "light"
          }
        }
      ],
      "source": [
        "plot_train_valid_history(history)"
      ]
    },
    {
      "cell_type": "code",
      "execution_count": 47,
      "metadata": {
        "id": "NlFkwO068BwX",
        "outputId": "54055829-6879-4493-f5b3-0ede07920e0e",
        "colab": {
          "base_uri": "https://localhost:8080/"
        }
      },
      "outputs": [
        {
          "output_type": "stream",
          "name": "stdout",
          "text": [
            "204/204 [==============================] - 1s 3ms/step - loss: 0.4086 - accuracy: 0.8217\n",
            "Test score:0.40864071249961853\n",
            "Test score:82.17%\n"
          ]
        }
      ],
      "source": [
        "score, acc = model.evaluate(X_test_norm, y_test)\n",
        "print(f'Test score:{score}')\n",
        "print(f'Test score:{100*acc:.2f}%')"
      ]
    },
    {
      "cell_type": "code",
      "execution_count": null,
      "metadata": {
        "id": "FcKvFsQC8BwX"
      },
      "outputs": [],
      "source": [
        ""
      ]
    }
  ],
  "metadata": {
    "interpreter": {
      "hash": "5188fc7f5a863a94b7ad8b130db2848115a26f3a222c460e66d88c653032b464"
    },
    "kernelspec": {
      "display_name": "Python 3.9.1 ('bigData')",
      "language": "python",
      "name": "python3"
    },
    "language_info": {
      "codemirror_mode": {
        "name": "ipython",
        "version": 3
      },
      "file_extension": ".py",
      "mimetype": "text/x-python",
      "name": "python",
      "nbconvert_exporter": "python",
      "pygments_lexer": "ipython3",
      "version": "3.9.1"
    },
    "colab": {
      "name": "census_keras_empty.ipynb",
      "provenance": [],
      "include_colab_link": true
    }
  },
  "nbformat": 4,
  "nbformat_minor": 0
}
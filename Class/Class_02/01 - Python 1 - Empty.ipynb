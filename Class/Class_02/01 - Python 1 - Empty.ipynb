{
 "cells": [
  {
   "cell_type": "markdown",
   "metadata": {},
   "source": [
    "<center>\n",
    "<h1>Introduction to Python and Pandas</h1>\n",
    "<h2>\n",
    "Exercise 1: Python - basics\n",
    "</h2>\n",
    "</center>\n"
   ]
  },
  {
   "cell_type": "markdown",
   "metadata": {
    "collapsed": true
   },
   "source": [
    "## Python is an interpreter\n",
    "To run code press `Shift` + `Enter`"
   ]
  },
  {
   "cell_type": "code",
   "execution_count": 1,
   "metadata": {},
   "outputs": [
    {
     "data": {
      "text/plain": [
       "5"
      ]
     },
     "execution_count": 1,
     "metadata": {},
     "output_type": "execute_result"
    }
   ],
   "source": [
    "x = 3\n",
    "y = 2\n",
    "x + y"
   ]
  },
  {
   "cell_type": "code",
   "execution_count": null,
   "metadata": {},
   "outputs": [],
   "source": []
  },
  {
   "cell_type": "markdown",
   "metadata": {},
   "source": [
    "## Functions\n",
    "Funcions are defined with the `def` keyword.\n",
    "**Indentations (tabulators) are important!**"
   ]
  },
  {
   "cell_type": "code",
   "execution_count": 2,
   "metadata": {},
   "outputs": [
    {
     "data": {
      "text/plain": [
       "4"
      ]
     },
     "execution_count": 2,
     "metadata": {},
     "output_type": "execute_result"
    }
   ],
   "source": [
    "def add_numbers(a, b):\n",
    "    return a + b\n",
    "\n",
    "add_numbers(1, 3)"
   ]
  },
  {
   "cell_type": "markdown",
   "metadata": {},
   "source": [
    "### To Do 1\n",
    "Prepare the function similar to the previous one, but capable of adding three numbers instead of two."
   ]
  },
  {
   "cell_type": "code",
   "execution_count": 3,
   "metadata": {},
   "outputs": [
    {
     "data": {
      "text/plain": [
       "7"
      ]
     },
     "execution_count": 3,
     "metadata": {},
     "output_type": "execute_result"
    }
   ],
   "source": [
    "# Enter your code here\n",
    "def add_numbers(a, b, c):\n",
    "    return a + b + c\n",
    "\n",
    "add_numbers(1, 2, 4)"
   ]
  },
  {
   "cell_type": "markdown",
   "metadata": {},
   "source": [
    "In Python you may assign the default values to parameters"
   ]
  },
  {
   "cell_type": "code",
   "execution_count": 4,
   "metadata": {},
   "outputs": [
    {
     "data": {
      "text/plain": [
       "(3, 6)"
      ]
     },
     "execution_count": 4,
     "metadata": {},
     "output_type": "execute_result"
    }
   ],
   "source": [
    "def add_numbers(a, b, c=0):\n",
    "    return a + b + c\n",
    "\n",
    "add_numbers(1, 2), add_numbers(1, 2, 3)"
   ]
  },
  {
   "cell_type": "markdown",
   "metadata": {},
   "source": [
    "### To Do 2\n",
    "Prepare a function `add_multiply`. This function can either add or multiply 2 numbers.<br>\n",
    "Arguments:\n",
    "<ul>\n",
    "<li>a        - first number<br>\n",
    "<li>b        - second number\n",
    "<li>multiply - if True, your function should multiply the numbers. Else, your function should add the numbers. This argument should be equal to `False` by default\n",
    "</ul>    \n",
    "\n",
    "\n",
    "*Note 1: in case of logic variables (True/False) you may just use: <code>if variable_name:</code>*<br>\n",
    "*Note 2: True/False are case sensitive*<br>\n",
    "*Note 3: Testing code is provided below the next cell*"
   ]
  },
  {
   "cell_type": "code",
   "execution_count": 5,
   "metadata": {},
   "outputs": [
    {
     "data": {
      "text/plain": [
       "(3, 2)"
      ]
     },
     "execution_count": 5,
     "metadata": {},
     "output_type": "execute_result"
    }
   ],
   "source": [
    "# enter your code here\n",
    "def add_multiply(a, b, multiply = False):\n",
    "    return a * b if (multiply == True) else a + b\n",
    "\n",
    "add_multiply(1, 2), add_multiply(1, 2, True)"
   ]
  },
  {
   "cell_type": "markdown",
   "metadata": {},
   "source": [
    "Test your code. If everything is ok, the results should also be ok."
   ]
  },
  {
   "cell_type": "code",
   "execution_count": 6,
   "metadata": {},
   "outputs": [
    {
     "name": "stdout",
     "output_type": "stream",
     "text": [
      "2 + 3 = 5\n",
      "2 * 3 = 6\n"
     ]
    }
   ],
   "source": [
    "#Test\n",
    "print ('2 + 3 = {}'.format(add_multiply(2, 3)))\n",
    "print ('2 * 3 = {}'.format(add_multiply(2, 3, True)))\n"
   ]
  },
  {
   "cell_type": "markdown",
   "metadata": {},
   "source": [
    "Please notice, that if the argument has a default value you do not have to enter it."
   ]
  },
  {
   "cell_type": "code",
   "execution_count": null,
   "metadata": {},
   "outputs": [],
   "source": []
  },
  {
   "cell_type": "markdown",
   "metadata": {},
   "source": [
    "### To Do 3\n",
    "Prepare a function, which can solve the quadratic equation and display the results. If the equation does not have solutions, the appropriate information should be displayed.\n",
    "\n",
    "Reminder :):\n",
    "\n",
    "Quadratic equation:\n",
    "\n",
    "$ax^2 + bx + c = 0$\n",
    "\n",
    "$\\Delta = b^2 - 4ac$\n",
    "\n",
    "$x_{1} = \\frac{-b - \\sqrt{\\Delta}}{2a}$\n",
    "\n",
    "$x_{2} = \\frac{-b + \\sqrt{\\Delta}}{2a}$\n",
    "\n",
    "*Note 1: The square root should be computed with the `sqrt` function, which is located in the `math` library'*<br>\n",
    "*Note 2: For computing $b^2$ use `b***2` "
   ]
  },
  {
   "cell_type": "code",
   "execution_count": 32,
   "metadata": {},
   "outputs": [],
   "source": [
    "import math"
   ]
  },
  {
   "cell_type": "code",
   "execution_count": 31,
   "metadata": {},
   "outputs": [
    {
     "ename": "SyntaxError",
     "evalue": "invalid syntax (25900202.py, line 8)",
     "output_type": "error",
     "traceback": [
      "\u001b[1;36m  Input \u001b[1;32mIn [31]\u001b[1;36m\u001b[0m\n\u001b[1;33m    else\u001b[0m\n\u001b[1;37m        ^\u001b[0m\n\u001b[1;31mSyntaxError\u001b[0m\u001b[1;31m:\u001b[0m invalid syntax\n"
     ]
    }
   ],
   "source": [
    "def quadratic_equation(a, b, c):\n",
    "    d = b**2 - 4*a*c\n",
    "    if d < 0:\n",
    "        print('No Solutions')\n",
    "    elif d == 0:\n",
    "        x = -b / (2*a)\n",
    "\n",
    "        "
   ]
  },
  {
   "cell_type": "markdown",
   "metadata": {},
   "source": [
    "Test your solution"
   ]
  },
  {
   "cell_type": "code",
   "execution_count": 8,
   "metadata": {},
   "outputs": [
    {
     "name": "stdout",
     "output_type": "stream",
     "text": [
      "x^2 + x + 1 = 0. Should return \"No solutions\"\n",
      "Enter your code here\n",
      "\n",
      "x^2 = 0. One solution (x = 0)\n",
      "Enter your code here\n",
      "\n",
      "2x^2 - 10x + 12 = 0. Two solutions (x1 = 2, x2 = 3)\n",
      "Enter your code here\n"
     ]
    }
   ],
   "source": [
    "print('x^2 + x + 1 = 0. Should return \"No solutions\"')\n",
    "quadratic_equation(1, 1, 1)\n",
    "print('\\nx^2 = 0. One solution (x = 0)')\n",
    "quadratic_equation(1, 0, 0)\n",
    "print('\\n2x^2 - 10x + 12 = 0. Two solutions (x1 = 2, x2 = 3)')\n",
    "quadratic_equation(1, -5, 6)\n"
   ]
  },
  {
   "cell_type": "markdown",
   "metadata": {},
   "source": [
    "## For loop - basics\n",
    "Please notice the colon!\n",
    "**Tabulators are important!**"
   ]
  },
  {
   "cell_type": "code",
   "execution_count": 9,
   "metadata": {},
   "outputs": [
    {
     "name": "stdout",
     "output_type": "stream",
     "text": [
      "0\n",
      "1\n",
      "2\n",
      "3\n",
      "4\n",
      "5\n",
      "6\n",
      "7\n",
      "8\n",
      "9\n"
     ]
    }
   ],
   "source": [
    "for i in range(10):\n",
    "    print (i)"
   ]
  },
  {
   "cell_type": "markdown",
   "metadata": {},
   "source": [
    "## Data types"
   ]
  },
  {
   "cell_type": "code",
   "execution_count": 10,
   "metadata": {},
   "outputs": [
    {
     "data": {
      "text/plain": [
       "str"
      ]
     },
     "execution_count": 10,
     "metadata": {},
     "output_type": "execute_result"
    }
   ],
   "source": [
    "type(\"This is a string\")"
   ]
  },
  {
   "cell_type": "code",
   "execution_count": 11,
   "metadata": {},
   "outputs": [
    {
     "data": {
      "text/plain": [
       "int"
      ]
     },
     "execution_count": 11,
     "metadata": {},
     "output_type": "execute_result"
    }
   ],
   "source": [
    "type(1)"
   ]
  },
  {
   "cell_type": "code",
   "execution_count": 12,
   "metadata": {},
   "outputs": [
    {
     "data": {
      "text/plain": [
       "float"
      ]
     },
     "execution_count": 12,
     "metadata": {},
     "output_type": "execute_result"
    }
   ],
   "source": [
    "type(1.0)"
   ]
  },
  {
   "cell_type": "code",
   "execution_count": 13,
   "metadata": {},
   "outputs": [
    {
     "data": {
      "text/plain": [
       "int"
      ]
     },
     "execution_count": 13,
     "metadata": {},
     "output_type": "execute_result"
    }
   ],
   "source": [
    "x = 10\n",
    "type(x)"
   ]
  },
  {
   "cell_type": "code",
   "execution_count": 14,
   "metadata": {},
   "outputs": [
    {
     "data": {
      "text/plain": [
       "function"
      ]
     },
     "execution_count": 14,
     "metadata": {},
     "output_type": "execute_result"
    }
   ],
   "source": [
    "type(add_numbers)"
   ]
  },
  {
   "cell_type": "markdown",
   "metadata": {},
   "source": [
    "### Tuples"
   ]
  },
  {
   "cell_type": "code",
   "execution_count": 15,
   "metadata": {},
   "outputs": [
    {
     "data": {
      "text/plain": [
       "tuple"
      ]
     },
     "execution_count": 15,
     "metadata": {},
     "output_type": "execute_result"
    }
   ],
   "source": [
    "x = (1, 2, 3, 4)\n",
    "type(x)"
   ]
  },
  {
   "cell_type": "code",
   "execution_count": 16,
   "metadata": {},
   "outputs": [
    {
     "data": {
      "text/plain": [
       "tuple"
      ]
     },
     "execution_count": 16,
     "metadata": {},
     "output_type": "execute_result"
    }
   ],
   "source": [
    "x = (1, 2, 'a', 'b', 5)\n",
    "type(x)"
   ]
  },
  {
   "cell_type": "markdown",
   "metadata": {},
   "source": [
    "### Lists"
   ]
  },
  {
   "cell_type": "code",
   "execution_count": 17,
   "metadata": {},
   "outputs": [
    {
     "data": {
      "text/plain": [
       "list"
      ]
     },
     "execution_count": 17,
     "metadata": {},
     "output_type": "execute_result"
    }
   ],
   "source": [
    "x = [1, 2, 'a']\n",
    "type(x)"
   ]
  },
  {
   "cell_type": "code",
   "execution_count": 18,
   "metadata": {},
   "outputs": [
    {
     "name": "stdout",
     "output_type": "stream",
     "text": [
      "[1, 2, 'a', 1]\n"
     ]
    }
   ],
   "source": [
    "x.append(1)\n",
    "print(x)"
   ]
  },
  {
   "cell_type": "code",
   "execution_count": 19,
   "metadata": {},
   "outputs": [
    {
     "name": "stdout",
     "output_type": "stream",
     "text": [
      "[1, 2, 'ad', 1]\n"
     ]
    }
   ],
   "source": [
    "x[2] = 'ad'\n",
    "print(x)"
   ]
  },
  {
   "cell_type": "code",
   "execution_count": 20,
   "metadata": {},
   "outputs": [
    {
     "data": {
      "text/plain": [
       "4"
      ]
     },
     "execution_count": 20,
     "metadata": {},
     "output_type": "execute_result"
    }
   ],
   "source": [
    "len(x)"
   ]
  },
  {
   "cell_type": "code",
   "execution_count": 21,
   "metadata": {},
   "outputs": [
    {
     "data": {
      "text/plain": [
       "[1, 2, 3, 2, 3, 5]"
      ]
     },
     "execution_count": 21,
     "metadata": {},
     "output_type": "execute_result"
    }
   ],
   "source": [
    "a = [1, 2, 3]\n",
    "b = [2, 3, 5]\n",
    "a + b"
   ]
  },
  {
   "cell_type": "code",
   "execution_count": 22,
   "metadata": {},
   "outputs": [
    {
     "data": {
      "text/plain": [
       "[1, 2, 3, 1, 2, 3, 1, 2, 3, 1, 2, 3]"
      ]
     },
     "execution_count": 22,
     "metadata": {},
     "output_type": "execute_result"
    }
   ],
   "source": [
    "a * 4"
   ]
  },
  {
   "cell_type": "code",
   "execution_count": 23,
   "metadata": {},
   "outputs": [
    {
     "data": {
      "text/plain": [
       "[1, 1, 1, 1]"
      ]
     },
     "execution_count": 23,
     "metadata": {},
     "output_type": "execute_result"
    }
   ],
   "source": [
    "[1] * 4"
   ]
  },
  {
   "cell_type": "code",
   "execution_count": 24,
   "metadata": {},
   "outputs": [
    {
     "data": {
      "text/plain": [
       "True"
      ]
     },
     "execution_count": 24,
     "metadata": {},
     "output_type": "execute_result"
    }
   ],
   "source": [
    "2 in a"
   ]
  },
  {
   "cell_type": "code",
   "execution_count": 36,
   "metadata": {},
   "outputs": [],
   "source": [
    "x = [1, 2, 3, 4, 5, 6, 7]"
   ]
  },
  {
   "cell_type": "code",
   "execution_count": 37,
   "metadata": {},
   "outputs": [
    {
     "data": {
      "text/plain": [
       "1"
      ]
     },
     "execution_count": 37,
     "metadata": {},
     "output_type": "execute_result"
    }
   ],
   "source": [
    "x[0]"
   ]
  },
  {
   "cell_type": "code",
   "execution_count": 38,
   "metadata": {},
   "outputs": [
    {
     "data": {
      "text/plain": [
       "[1, 2, 3]"
      ]
     },
     "execution_count": 38,
     "metadata": {},
     "output_type": "execute_result"
    }
   ],
   "source": [
    "x[0:3]"
   ]
  },
  {
   "cell_type": "code",
   "execution_count": 39,
   "metadata": {},
   "outputs": [
    {
     "data": {
      "text/plain": [
       "[3, 4, 5, 6]"
      ]
     },
     "execution_count": 39,
     "metadata": {},
     "output_type": "execute_result"
    }
   ],
   "source": [
    "x[2:6]"
   ]
  },
  {
   "cell_type": "code",
   "execution_count": 40,
   "metadata": {},
   "outputs": [
    {
     "data": {
      "text/plain": [
       "7"
      ]
     },
     "execution_count": 40,
     "metadata": {},
     "output_type": "execute_result"
    }
   ],
   "source": [
    "len(x)"
   ]
  },
  {
   "cell_type": "code",
   "execution_count": 41,
   "metadata": {},
   "outputs": [
    {
     "data": {
      "text/plain": [
       "[3, 4, 5, 6, 7]"
      ]
     },
     "execution_count": 41,
     "metadata": {},
     "output_type": "execute_result"
    }
   ],
   "source": [
    "x[2:]"
   ]
  },
  {
   "cell_type": "code",
   "execution_count": 42,
   "metadata": {},
   "outputs": [
    {
     "data": {
      "text/plain": [
       "[1, 2, 3]"
      ]
     },
     "execution_count": 42,
     "metadata": {},
     "output_type": "execute_result"
    }
   ],
   "source": [
    "x[:3]"
   ]
  },
  {
   "cell_type": "code",
   "execution_count": 43,
   "metadata": {},
   "outputs": [
    {
     "data": {
      "text/plain": [
       "7"
      ]
     },
     "execution_count": 43,
     "metadata": {},
     "output_type": "execute_result"
    }
   ],
   "source": [
    "x[-1]"
   ]
  },
  {
   "cell_type": "code",
   "execution_count": 44,
   "metadata": {},
   "outputs": [
    {
     "data": {
      "text/plain": [
       "5"
      ]
     },
     "execution_count": 44,
     "metadata": {},
     "output_type": "execute_result"
    }
   ],
   "source": [
    "x[-3]"
   ]
  },
  {
   "cell_type": "markdown",
   "metadata": {},
   "source": [
    "### Strings"
   ]
  },
  {
   "cell_type": "code",
   "execution_count": 49,
   "metadata": {},
   "outputs": [
    {
     "data": {
      "text/plain": [
       "'Wow, I am in China!'"
      ]
     },
     "execution_count": 49,
     "metadata": {},
     "output_type": "execute_result"
    }
   ],
   "source": [
    "s = 'Wow, I am in China!'\n",
    "s"
   ]
  },
  {
   "cell_type": "code",
   "execution_count": 50,
   "metadata": {},
   "outputs": [
    {
     "data": {
      "text/plain": [
       "'W'"
      ]
     },
     "execution_count": 50,
     "metadata": {},
     "output_type": "execute_result"
    }
   ],
   "source": [
    "s[0]"
   ]
  },
  {
   "cell_type": "code",
   "execution_count": 51,
   "metadata": {},
   "outputs": [
    {
     "data": {
      "text/plain": [
       "'China!'"
      ]
     },
     "execution_count": 51,
     "metadata": {},
     "output_type": "execute_result"
    }
   ],
   "source": [
    "s[-6:]"
   ]
  },
  {
   "cell_type": "code",
   "execution_count": 52,
   "metadata": {},
   "outputs": [
    {
     "data": {
      "text/plain": [
       "['Wow,', 'I', 'am', 'in', 'China!']"
      ]
     },
     "execution_count": 52,
     "metadata": {},
     "output_type": "execute_result"
    }
   ],
   "source": [
    "s.split(' ')"
   ]
  },
  {
   "cell_type": "code",
   "execution_count": 53,
   "metadata": {},
   "outputs": [],
   "source": [
    "numbers = [\"one\", \"two\"]"
   ]
  },
  {
   "cell_type": "code",
   "execution_count": null,
   "metadata": {},
   "outputs": [],
   "source": []
  },
  {
   "cell_type": "markdown",
   "metadata": {},
   "source": [
    "### To Do 4\n",
    "Using lists, `.split` and `.join` display the words from second to fourth (inclusive) from the `This is a list of words to display` sentence. The result should be displayed as a string.\n"
   ]
  },
  {
   "cell_type": "code",
   "execution_count": 55,
   "metadata": {},
   "outputs": [
    {
     "data": {
      "text/plain": [
       "'is a list'"
      ]
     },
     "execution_count": 55,
     "metadata": {},
     "output_type": "execute_result"
    }
   ],
   "source": [
    "s = 'This is a list of words to display'\n",
    "#Enter your code here\n",
    "' '.join(s.split(' ')[1:4])"
   ]
  },
  {
   "cell_type": "markdown",
   "metadata": {},
   "source": [
    "### Using `.format` function."
   ]
  },
  {
   "cell_type": "code",
   "execution_count": 57,
   "metadata": {},
   "outputs": [
    {
     "data": {
      "text/plain": [
       "'Text: TEXT, Integer Number: 3, Real Number: 3.0'"
      ]
     },
     "execution_count": 57,
     "metadata": {},
     "output_type": "execute_result"
    }
   ],
   "source": [
    "my_text = 'TEXT'\n",
    "my_int = 3\n",
    "my_float = 3.0\n",
    "s = 'Text: {}, Integer Number: {}, Real Number: {}'.format(my_text, my_int, my_float)\n",
    "s"
   ]
  },
  {
   "cell_type": "markdown",
   "metadata": {},
   "source": [
    "## Dictionaries"
   ]
  },
  {
   "cell_type": "code",
   "execution_count": 58,
   "metadata": {},
   "outputs": [
    {
     "name": "stdout",
     "output_type": "stream",
     "text": [
      "{'prezemek': 'przemek@umd.edu', 'ola': 'ola@umd.edu', 'ian': 'ian@umd.edu'}\n"
     ]
    }
   ],
   "source": [
    "dic = {\n",
    "    'prezemek': 'przemek@umd.edu',\n",
    "    'ola': 'ola@umd.edu',\n",
    "    'ian': 'ian@umd.edu'\n",
    "}\n",
    "print(dic)"
   ]
  },
  {
   "cell_type": "code",
   "execution_count": 59,
   "metadata": {},
   "outputs": [
    {
     "data": {
      "text/plain": [
       "'przemek@umd.edu'"
      ]
     },
     "execution_count": 59,
     "metadata": {},
     "output_type": "execute_result"
    }
   ],
   "source": [
    "dic['prezemek']"
   ]
  },
  {
   "cell_type": "code",
   "execution_count": 60,
   "metadata": {},
   "outputs": [
    {
     "name": "stdout",
     "output_type": "stream",
     "text": [
      "prezemek\n",
      "ola\n",
      "ian\n"
     ]
    }
   ],
   "source": [
    "for name in dic:\n",
    "    print(name)"
   ]
  },
  {
   "cell_type": "code",
   "execution_count": 61,
   "metadata": {},
   "outputs": [
    {
     "name": "stdout",
     "output_type": "stream",
     "text": [
      "przemek@umd.edu\n",
      "ola@umd.edu\n",
      "ian@umd.edu\n"
     ]
    }
   ],
   "source": [
    "for email in dic.values():\n",
    "    print(email)"
   ]
  },
  {
   "cell_type": "code",
   "execution_count": 63,
   "metadata": {},
   "outputs": [
    {
     "name": "stdout",
     "output_type": "stream",
     "text": [
      "prezemek - przemek@umd.edu\n",
      "ola - ola@umd.edu\n",
      "ian - ian@umd.edu\n"
     ]
    }
   ],
   "source": [
    "for name, email in dic.items():\n",
    "    print('{} - {}'.format(name, email))"
   ]
  },
  {
   "cell_type": "code",
   "execution_count": 64,
   "metadata": {},
   "outputs": [
    {
     "ename": "KeyError",
     "evalue": "'join'",
     "output_type": "error",
     "traceback": [
      "\u001b[1;31m---------------------------------------------------------------------------\u001b[0m",
      "\u001b[1;31mKeyError\u001b[0m                                  Traceback (most recent call last)",
      "\u001b[1;32me:\\卷卷卷卷卷\\专业课\\建筑信息管理\\01 - Python 1 - Empty.ipynb Cell 68'\u001b[0m in \u001b[0;36m<cell line: 2>\u001b[1;34m()\u001b[0m\n\u001b[0;32m      <a href='vscode-notebook-cell:/e%3A/%E5%8D%B7%E5%8D%B7%E5%8D%B7%E5%8D%B7%E5%8D%B7/%E4%B8%93%E4%B8%9A%E8%AF%BE/%E5%BB%BA%E7%AD%91%E4%BF%A1%E6%81%AF%E7%AE%A1%E7%90%86/01%20-%20Python%201%20-%20Empty.ipynb#ch0000068?line=0'>1</a>\u001b[0m \u001b[39m#Should generate KeyError\u001b[39;00m\n\u001b[1;32m----> <a href='vscode-notebook-cell:/e%3A/%E5%8D%B7%E5%8D%B7%E5%8D%B7%E5%8D%B7%E5%8D%B7/%E4%B8%93%E4%B8%9A%E8%AF%BE/%E5%BB%BA%E7%AD%91%E4%BF%A1%E6%81%AF%E7%AE%A1%E7%90%86/01%20-%20Python%201%20-%20Empty.ipynb#ch0000068?line=1'>2</a>\u001b[0m dic[\u001b[39m'\u001b[39;49m\u001b[39mjoin\u001b[39;49m\u001b[39m'\u001b[39;49m]\n",
      "\u001b[1;31mKeyError\u001b[0m: 'join'"
     ]
    }
   ],
   "source": [
    "#Should generate KeyError\n",
    "dic['join']"
   ]
  },
  {
   "cell_type": "markdown",
   "metadata": {},
   "source": [
    "### To Do 5\n",
    "Prepare a function, which takes a dictionary and a key as arguments. The function should display (print) the given key, the value from dictionary, and the type of the value. If there is no key in the dictionary, the function should display: `Key <key_name> does not exists`.\n",
    "\n",
    "*Note: To check if the key is in the dictionary, use the operator `in`.*"
   ]
  },
  {
   "cell_type": "code",
   "execution_count": 65,
   "metadata": {},
   "outputs": [],
   "source": [
    "def display_value(dic, key):\n",
    "    if key in dic:\n",
    "        print('{} - {} - {}'.format(key, dic[key], type(key)))\n",
    "    else:\n",
    "        print('Key<{}> does not exists.'.format(key))\n",
    "    # Enter your code here"
   ]
  },
  {
   "cell_type": "markdown",
   "metadata": {},
   "source": [
    "Test"
   ]
  },
  {
   "cell_type": "code",
   "execution_count": 66,
   "metadata": {},
   "outputs": [
    {
     "name": "stdout",
     "output_type": "stream",
     "text": [
      "1 - one - <class 'int'>\n",
      "2 - 2.0 - <class 'int'>\n",
      "3 - 3 - <class 'int'>\n",
      "Key<4> does not exists.\n"
     ]
    }
   ],
   "source": [
    "d = {1 : 'one', 2 : 2.0, 3 : 3}\n",
    "for i in range(4):\n",
    "    display_value(d, i+1)"
   ]
  },
  {
   "cell_type": "markdown",
   "metadata": {},
   "source": [
    "## Classes"
   ]
  },
  {
   "cell_type": "code",
   "execution_count": null,
   "metadata": {},
   "outputs": [],
   "source": []
  },
  {
   "cell_type": "code",
   "execution_count": null,
   "metadata": {},
   "outputs": [],
   "source": []
  },
  {
   "cell_type": "code",
   "execution_count": null,
   "metadata": {},
   "outputs": [],
   "source": []
  },
  {
   "cell_type": "code",
   "execution_count": null,
   "metadata": {},
   "outputs": [],
   "source": []
  },
  {
   "cell_type": "markdown",
   "metadata": {},
   "source": [
    "### To Do 6\n",
    "Build the class `Summarize`. This class can add all the numbers from the list (method `add_list`)\n",
    "\n",
    "\n",
    "The class should remember (keep the track of):\n",
    "<ul>\n",
    "    <li> sum of all the added numbers (`nr_sum` variable)\n",
    "    <li> How many numbers were added ile liczb (`nr_count` variable)\n",
    "    <li> Last added list (`last_list` variable)\n",
    "</ul>    "
   ]
  },
  {
   "cell_type": "code",
   "execution_count": 29,
   "metadata": {},
   "outputs": [],
   "source": [
    "# Enter your code here"
   ]
  },
  {
   "cell_type": "markdown",
   "metadata": {},
   "source": [
    "Test"
   ]
  },
  {
   "cell_type": "code",
   "execution_count": 30,
   "metadata": {},
   "outputs": [
    {
     "ename": "NameError",
     "evalue": "name 'Summarize' is not defined",
     "output_type": "error",
     "traceback": [
      "\u001b[1;31m---------------------------------------------------------------------------\u001b[0m",
      "\u001b[1;31mNameError\u001b[0m                                 Traceback (most recent call last)",
      "\u001b[1;32me:\\卷卷卷卷卷\\专业课\\建筑信息管理\\01 - Python 1 - Empty.ipynb Cell 82'\u001b[0m in \u001b[0;36m<cell line: 1>\u001b[1;34m()\u001b[0m\n\u001b[1;32m----> <a href='vscode-notebook-cell:/e%3A/%E5%8D%B7%E5%8D%B7%E5%8D%B7%E5%8D%B7%E5%8D%B7/%E4%B8%93%E4%B8%9A%E8%AF%BE/%E5%BB%BA%E7%AD%91%E4%BF%A1%E6%81%AF%E7%AE%A1%E7%90%86/01%20-%20Python%201%20-%20Empty.ipynb#ch0000081?line=0'>1</a>\u001b[0m s \u001b[39m=\u001b[39m Summarize()\n\u001b[0;32m      <a href='vscode-notebook-cell:/e%3A/%E5%8D%B7%E5%8D%B7%E5%8D%B7%E5%8D%B7%E5%8D%B7/%E4%B8%93%E4%B8%9A%E8%AF%BE/%E5%BB%BA%E7%AD%91%E4%BF%A1%E6%81%AF%E7%AE%A1%E7%90%86/01%20-%20Python%201%20-%20Empty.ipynb#ch0000081?line=1'>2</a>\u001b[0m s\u001b[39m.\u001b[39madd_list([\u001b[39m1\u001b[39m, \u001b[39m2\u001b[39m, \u001b[39m3\u001b[39m])\n\u001b[0;32m      <a href='vscode-notebook-cell:/e%3A/%E5%8D%B7%E5%8D%B7%E5%8D%B7%E5%8D%B7%E5%8D%B7/%E4%B8%93%E4%B8%9A%E8%AF%BE/%E5%BB%BA%E7%AD%91%E4%BF%A1%E6%81%AF%E7%AE%A1%E7%90%86/01%20-%20Python%201%20-%20Empty.ipynb#ch0000081?line=2'>3</a>\u001b[0m s\u001b[39m.\u001b[39madd_list([\u001b[39m2\u001b[39m, \u001b[39m3\u001b[39m, \u001b[39m4\u001b[39m])\n",
      "\u001b[1;31mNameError\u001b[0m: name 'Summarize' is not defined"
     ]
    }
   ],
   "source": [
    "s = Summarize()\n",
    "s.add_list([1, 2, 3])\n",
    "s.add_list([2, 3, 4])\n",
    "print('Sum of all the numbers is {} (should be 15)'.format(s.nr_sum))\n",
    "print('{} numbers added (should be 6)'.format(s.nr_count))\n",
    "print('Last list is {} (should be [2, 3, 4])'.format(s.last_list))\n"
   ]
  },
  {
   "cell_type": "markdown",
   "metadata": {},
   "source": [
    "## List comprehensions"
   ]
  },
  {
   "cell_type": "markdown",
   "metadata": {},
   "source": [
    "Create the list which contains the $\\sqrt{x}$ values for $x \\in <1, 2, 3, 4, ...., 100>$\n",
    "\n",
    "*Note: Use `math.sqrt` to compute $\\sqrt{x}$*\n"
   ]
  },
  {
   "cell_type": "code",
   "execution_count": null,
   "metadata": {},
   "outputs": [],
   "source": []
  },
  {
   "cell_type": "code",
   "execution_count": null,
   "metadata": {},
   "outputs": [],
   "source": []
  },
  {
   "cell_type": "code",
   "execution_count": null,
   "metadata": {},
   "outputs": [],
   "source": []
  },
  {
   "cell_type": "code",
   "execution_count": null,
   "metadata": {},
   "outputs": [],
   "source": []
  },
  {
   "cell_type": "code",
   "execution_count": null,
   "metadata": {},
   "outputs": [],
   "source": []
  },
  {
   "cell_type": "markdown",
   "metadata": {},
   "source": [
    "### To Do 7\n",
    "Use list comprehension to create the list with $e^x$ values for $x \\in <0, 2, 4, 6, 8, 10>$\n",
    "\n",
    "*Note 1: Use `math.exp` to compute $e^x$.*<br>\n",
    "*Note 2: You may use `range` to get the consecutive even numbers. Type `range?` to check the help for `range`.*"
   ]
  },
  {
   "cell_type": "code",
   "execution_count": null,
   "metadata": {},
   "outputs": [],
   "source": []
  },
  {
   "cell_type": "code",
   "execution_count": null,
   "metadata": {},
   "outputs": [],
   "source": [
    "# Enter your code here\n"
   ]
  },
  {
   "cell_type": "code",
   "execution_count": null,
   "metadata": {},
   "outputs": [],
   "source": []
  }
 ],
 "metadata": {
  "kernelspec": {
   "display_name": "Python 3",
   "language": "python",
   "name": "python3"
  },
  "language_info": {
   "codemirror_mode": {
    "name": "ipython",
    "version": 3
   },
   "file_extension": ".py",
   "mimetype": "text/x-python",
   "name": "python",
   "nbconvert_exporter": "python",
   "pygments_lexer": "ipython3",
   "version": "3.9.1"
  }
 },
 "nbformat": 4,
 "nbformat_minor": 2
}
